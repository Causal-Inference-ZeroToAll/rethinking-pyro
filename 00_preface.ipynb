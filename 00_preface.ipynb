{
 "cells": [
  {
   "cell_type": "code",
   "execution_count": 1,
   "metadata": {
    "ExecuteTime": {
     "end_time": "2017-12-07T01:31:33.354621Z",
     "start_time": "2017-12-07T01:31:32.939379Z"
    },
    "collapsed": true
   },
   "outputs": [],
   "source": [
    "%matplotlib inline\n",
    "import matplotlib.pyplot as plt\n",
    "import pandas as pd\n",
    "import torch\n",
    "\n",
    "from rethinking import LinearModel"
   ]
  },
  {
   "cell_type": "markdown",
   "metadata": {},
   "source": [
    "#### Code 0.1"
   ]
  },
  {
   "cell_type": "code",
   "execution_count": 2,
   "metadata": {
    "ExecuteTime": {
     "end_time": "2017-12-07T01:31:33.358577Z",
     "start_time": "2017-12-07T01:31:33.356029Z"
    }
   },
   "outputs": [
    {
     "name": "stdout",
     "output_type": "stream",
     "text": [
      "All models are wrong, but some are useful.\n"
     ]
    }
   ],
   "source": [
    "print(\"All models are wrong, but some are useful.\")"
   ]
  },
  {
   "cell_type": "markdown",
   "metadata": {},
   "source": [
    "#### Code 0.2"
   ]
  },
  {
   "cell_type": "code",
   "execution_count": 3,
   "metadata": {
    "ExecuteTime": {
     "end_time": "2017-12-07T01:31:33.433222Z",
     "start_time": "2017-12-07T01:31:33.359596Z"
    }
   },
   "outputs": [
    {
     "data": {
      "text/plain": [
       "tensor(200.0000)"
      ]
     },
     "execution_count": 3,
     "metadata": {},
     "output_type": "execute_result"
    }
   ],
   "source": [
    "x = torch.arange(1, 3, dtype=torch.float)\n",
    "x = x * 10\n",
    "x = x.log()\n",
    "x = x.sum()\n",
    "x = x.exp()\n",
    "x"
   ]
  },
  {
   "cell_type": "markdown",
   "metadata": {},
   "source": [
    "#### Code 0.3"
   ]
  },
  {
   "cell_type": "code",
   "execution_count": 4,
   "metadata": {},
   "outputs": [
    {
     "data": {
      "text/plain": [
       "(tensor(-inf), tensor(-921.0341))"
      ]
     },
     "execution_count": 4,
     "metadata": {},
     "output_type": "execute_result"
    }
   ],
   "source": [
    "torch.tensor(0.01).pow(200).log(), 200 * torch.tensor(0.01).log()"
   ]
  },
  {
   "cell_type": "markdown",
   "metadata": {},
   "source": [
    "#### Code 0.4"
   ]
  },
  {
   "cell_type": "code",
   "execution_count": 5,
   "metadata": {
    "ExecuteTime": {
     "end_time": "2017-12-07T01:31:33.798552Z",
     "start_time": "2017-12-07T01:31:33.508571Z"
    }
   },
   "outputs": [
    {
     "name": "stdout",
     "output_type": "stream",
     "text": [
      "{'speed': tensor(3.9324), 'intercept': tensor(-17.5791)}\n"
     ]
    },
    {
     "data": {
      "image/png": "[encoded data removed]",
      "text/plain": [
       "<Figure size 432x288 with 1 Axes>"
      ]
     },
     "metadata": {
      "needs_background": "light"
     },
     "output_type": "display_data"
    }
   ],
   "source": [
    "# Load the data:\n",
    "# car braking distances in feet paired with speeds in km/h\n",
    "# see cars.info() for details\n",
    "cars = pd.read_csv(\"data/cars.csv\", index_col=0)\n",
    "\n",
    "# fit a linear regression of distance on speed\n",
    "m = LinearModel(y=torch.tensor(cars.dist.values, dtype=torch.float),\n",
    "                speed=torch.tensor(cars.speed.values, dtype=torch.float))\n",
    "m.fit()\n",
    "\n",
    "# estimated coefficients from the model\n",
    "print(m.coef())\n",
    "\n",
    "# plot residuals against speed\n",
    "plt.plot(cars.speed, m.resid().numpy(), \"o\");"
   ]
  },
  {
   "cell_type": "markdown",
   "metadata": {
    "ExecuteTime": {
     "end_time": "2017-12-07T01:31:33.798552Z",
     "start_time": "2017-12-07T01:31:33.508571Z"
    }
   },
   "source": [
    "#### Code 0.5"
   ]
  },
  {
   "cell_type": "code",
   "execution_count": 6,
   "metadata": {
    "ExecuteTime": {
     "end_time": "2017-12-07T01:31:33.798552Z",
     "start_time": "2017-12-07T01:31:33.508571Z"
    }
   },
   "outputs": [],
   "source": [
    "#!conda env create -f environment.yml\n",
    "#!source activate rethinking"
   ]
  }
 ],
 "metadata": {
  "kernelspec": {
   "display_name": "Python 3",
   "language": "python",
   "name": "python3"
  },
  "language_info": {
   "codemirror_mode": {
    "name": "ipython",
    "version": 3
   },
   "file_extension": ".py",
   "mimetype": "text/x-python",
   "name": "python",
   "nbconvert_exporter": "python",
   "pygments_lexer": "ipython3",
   "version": "3.7.0"
  },
  "varInspector": {
   "cols": {
    "lenName": 16,
    "lenType": 16,
    "lenVar": 40
   },
   "kernels_config": {
    "python": {
     "delete_cmd_postfix": "",
     "delete_cmd_prefix": "del ",
     "library": "var_list.py",
     "varRefreshCmd": "print(var_dic_list())"
    },
    "r": {
     "delete_cmd_postfix": ") ",
     "delete_cmd_prefix": "rm(",
     "library": "var_list.r",
     "varRefreshCmd": "cat(var_dic_list()) "
    }
   },
   "types_to_exclude": [
    "module",
    "function",
    "builtin_function_or_method",
    "instance",
    "_Feature"
   ],
   "window_display": false
  }
 },
 "nbformat": 4,
 "nbformat_minor": 2
}
