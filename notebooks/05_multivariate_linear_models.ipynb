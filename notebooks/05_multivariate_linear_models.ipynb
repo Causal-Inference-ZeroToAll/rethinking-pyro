{
 "cells": [
  {
   "cell_type": "code",
   "execution_count": 1,
   "metadata": {},
   "outputs": [],
   "source": [
    "%matplotlib inline\n",
    "import matplotlib.pyplot as plt\n",
    "import pandas as pd\n",
    "import torch\n",
    "from torch.distributions import constraints\n",
    "\n",
    "import pyro\n",
    "import pyro.distributions as dist\n",
    "\n",
    "from rethinking import HPDI, PI, LM, MAP, dens, glimmer, precis, quantile\n",
    "\n",
    "plt.rcParams[\"axes.labelsize\"] = \"large\"\n",
    "plt.rcParams[\"lines.linewidth\"] = 1\n",
    "pyro.enable_validation()\n",
    "pyro.set_rng_seed(0)"
   ]
  },
  {
   "cell_type": "markdown",
   "metadata": {},
   "source": [
    "#### Code 5.1"
   ]
  },
  {
   "cell_type": "code",
   "execution_count": 2,
   "metadata": {},
   "outputs": [],
   "source": [
    "# load data\n",
    "waffle_divorce = pd.read_csv(\"../data/WaffleDivorce.csv\", sep=\";\")\n",
    "d = waffle_divorce\n",
    "d_median_age_marriage = torch.tensor(d[\"MedianAgeMarriage\"].values, dtype=torch.float)\n",
    "d_divorce = torch.tensor(d[\"Divorce\"].values, dtype=torch.float)\n",
    "d_marriage = torch.tensor(d[\"Marriage\"].values, dtype=torch.float)\n",
    "\n",
    "# standardize predictor\n",
    "d_median_age_marriage_s = ((d_median_age_marriage - d_median_age_marriage.mean())\n",
    "                           / d_median_age_marriage.std())\n",
    "\n",
    "# fit model\n",
    "def m5_1_model(predictor, outcome):\n",
    "    a = pyro.sample(\"a\", dist.Normal(10, 10))\n",
    "    bA = pyro.sample(\"bA\", dist.Normal(0, 1))\n",
    "    mu = a + bA * predictor\n",
    "    sigma = pyro.sample(\"sigma\", dist.Uniform(0, 10))\n",
    "    with pyro.plate(\"plate\"):\n",
    "        pyro.sample(\"outcome\", dist.Normal(mu, sigma).independent(1), obs=outcome)\n",
    "\n",
    "m5_1 = MAP(\"m5.1\", m5_1_model, predictor=d_median_age_marriage_s, outcome=d_divorce)\n",
    "m5_1.fit()"
   ]
  },
  {
   "cell_type": "markdown",
   "metadata": {},
   "source": [
    "#### Code 5.2"
   ]
  },
  {
   "cell_type": "code",
   "execution_count": 3,
   "metadata": {},
   "outputs": [
    {
     "data": {
      "image/png": "[encoded data removed]",
      "text/plain": [
       "<Figure size 432x288 with 1 Axes>"
      ]
     },
     "metadata": {
      "needs_background": "light"
     },
     "output_type": "display_data"
    }
   ],
   "source": [
    "# compute percentile interval of mean\n",
    "MAM_seq = torch.linspace(start=-3, end=3.5, steps=30)\n",
    "mu = m5_1.link(predictor=MAM_seq)\n",
    "mu_PI = PI(mu, dim=0)\n",
    "\n",
    "# plot it all\n",
    "plt.plot(d_median_age_marriage_s.tolist(), d_divorce.tolist(), \"o\", c=\"royalblue\",\n",
    "         fillstyle=\"none\")\n",
    "plt.xlabel(\"MedianAgeMarriage.s\")\n",
    "plt.ylabel(\"Divorce\")\n",
    "x = torch.linspace(-3, 3.5, 101)\n",
    "plt.plot(x.tolist(), (m5_1.coef()[\"a\"] + m5_1.coef()[\"bA\"] * x).tolist(), \"k\")\n",
    "plt.fill_between(MAM_seq, mu_PI[0], mu_PI[1], color=\"k\", alpha=0.15);"
   ]
  },
  {
   "cell_type": "markdown",
   "metadata": {},
   "source": [
    "#### Code 5.3"
   ]
  },
  {
   "cell_type": "code",
   "execution_count": 4,
   "metadata": {},
   "outputs": [],
   "source": [
    "d_marriage_s = (d_marriage - d_marriage.mean()) / d_marriage.std()\n",
    "m5_2 = MAP(\"m5.2\", m5_1_model, predictor=d_marriage_s, outcome=d_divorce)\n",
    "m5_2.fit()"
   ]
  },
  {
   "cell_type": "markdown",
   "metadata": {},
   "source": [
    "#### Code 5.4"
   ]
  },
  {
   "cell_type": "code",
   "execution_count": 5,
   "metadata": {},
   "outputs": [
    {
     "data": {
      "text/html": [
       "<div>\n",
       "<style scoped>\n",
       "    .dataframe tbody tr th:only-of-type {\n",
       "        vertical-align: middle;\n",
       "    }\n",
       "\n",
       "    .dataframe tbody tr th {\n",
       "        vertical-align: top;\n",
       "    }\n",
       "\n",
       "    .dataframe thead th {\n",
       "        text-align: right;\n",
       "    }\n",
       "</style>\n",
       "<table border=\"1\" class=\"dataframe\">\n",
       "  <thead>\n",
       "    <tr style=\"text-align: right;\">\n",
       "      <th></th>\n",
       "      <th>Mean</th>\n",
       "      <th>StdDev</th>\n",
       "      <th>5.5%</th>\n",
       "      <th>94.5%</th>\n",
       "    </tr>\n",
       "  </thead>\n",
       "  <tbody>\n",
       "    <tr>\n",
       "      <th>a</th>\n",
       "      <td>9.69</td>\n",
       "      <td>0.20</td>\n",
       "      <td>9.36</td>\n",
       "      <td>10.01</td>\n",
       "    </tr>\n",
       "    <tr>\n",
       "      <th>bR</th>\n",
       "      <td>-0.13</td>\n",
       "      <td>0.28</td>\n",
       "      <td>-0.58</td>\n",
       "      <td>0.31</td>\n",
       "    </tr>\n",
       "    <tr>\n",
       "      <th>bA</th>\n",
       "      <td>-1.13</td>\n",
       "      <td>0.28</td>\n",
       "      <td>-1.58</td>\n",
       "      <td>-0.69</td>\n",
       "    </tr>\n",
       "    <tr>\n",
       "      <th>sigma</th>\n",
       "      <td>1.44</td>\n",
       "      <td>0.14</td>\n",
       "      <td>1.21</td>\n",
       "      <td>1.67</td>\n",
       "    </tr>\n",
       "  </tbody>\n",
       "</table>\n",
       "</div>"
      ],
      "text/plain": [
       "       Mean  StdDev  5.5%  94.5%\n",
       "a      9.69    0.20  9.36  10.01\n",
       "bR    -0.13    0.28 -0.58   0.31\n",
       "bA    -1.13    0.28 -1.58  -0.69\n",
       "sigma  1.44    0.14  1.21   1.67"
      ]
     },
     "execution_count": 5,
     "metadata": {},
     "output_type": "execute_result"
    }
   ],
   "source": [
    "def m5_3_model(marriage, median_age_marriage, divorce):\n",
    "    a = pyro.sample(\"a\", dist.Normal(10, 10))\n",
    "    bR = pyro.sample(\"bR\", dist.Normal(0, 1))\n",
    "    bA = pyro.sample(\"bA\", dist.Normal(0, 1))\n",
    "    mu = a + bR * marriage + bA * median_age_marriage\n",
    "    sigma = pyro.sample(\"sigma\", dist.Uniform(0, 10))\n",
    "    with pyro.plate(\"plate\"):\n",
    "        pyro.sample(\"Divorce\", dist.Normal(mu, sigma), obs=divorce)\n",
    "\n",
    "m5_3 = MAP(\"m5.3\", m5_3_model, marriage=d_marriage_s,\n",
    "           median_age_marriage=d_median_age_marriage_s, divorce=d_divorce)\n",
    "m5_3.fit()\n",
    "m5_3.precis()"
   ]
  },
  {
   "cell_type": "markdown",
   "metadata": {},
   "source": [
    "#### Code 5.5"
   ]
  },
  {
   "cell_type": "code",
   "execution_count": 6,
   "metadata": {},
   "outputs": [
    {
     "data": {
      "image/png": "[encoded data removed]",
      "text/plain": [
       "<Figure size 432x288 with 1 Axes>"
      ]
     },
     "metadata": {
      "needs_background": "light"
     },
     "output_type": "display_data"
    }
   ],
   "source": [
    "m5_3.precis_plot()"
   ]
  },
  {
   "cell_type": "markdown",
   "metadata": {},
   "source": [
    "#### Code 5.6"
   ]
  },
  {
   "cell_type": "code",
   "execution_count": 7,
   "metadata": {},
   "outputs": [],
   "source": [
    "m5_4 = MAP(\"m5.4\", m5_1_model, predictor=d_median_age_marriage_s, outcome=d_marriage_s)\n",
    "m5_4.fit()"
   ]
  },
  {
   "cell_type": "markdown",
   "metadata": {},
   "source": [
    "#### Code 5.7"
   ]
  },
  {
   "cell_type": "code",
   "execution_count": 8,
   "metadata": {},
   "outputs": [],
   "source": [
    "# compute expected value at MAP, for each State\n",
    "mu = m5_4.coef()[\"a\"] + m5_4.coef()[\"bA\"] * d_median_age_marriage_s\n",
    "# compute residual for each State\n",
    "m_resid = d_marriage_s - mu"
   ]
  },
  {
   "cell_type": "markdown",
   "metadata": {},
   "source": [
    "#### Code 5.8"
   ]
  },
  {
   "cell_type": "code",
   "execution_count": 9,
   "metadata": {},
   "outputs": [
    {
     "data": {
      "image/png": "[encoded data removed]",
      "text/plain": [
       "<Figure size 432x288 with 1 Axes>"
      ]
     },
     "metadata": {
      "needs_background": "light"
     },
     "output_type": "display_data"
    }
   ],
   "source": [
    "plt.plot(d_median_age_marriage_s.tolist(), d_marriage_s.tolist(), \"o\", c=\"royalblue\",\n",
    "         fillstyle=\"none\")\n",
    "plt.xlabel(\"MedianAgeMarriage.s\")\n",
    "plt.ylabel(\"Marriage.s\")\n",
    "x = torch.linspace(-2.5, 3, 101)\n",
    "plt.plot(x.tolist(), (m5_4.coef()[\"a\"] + m5_4.coef()[\"bA\"] * x).tolist(), \"k\")\n",
    "# loop over States\n",
    "for i in range(len(m_resid)):\n",
    "    x = d_median_age_marriage_s[i]  # x location of line segment\n",
    "    y = d_marriage_s[i]  # observed endpoint of line segment\n",
    "    # draw the line segment\n",
    "    plt.plot([x, x], [mu[i], y], \"k\", alpha=0.7);"
   ]
  },
  {
   "cell_type": "markdown",
   "metadata": {},
   "source": [
    "#### Code 5.9"
   ]
  },
  {
   "cell_type": "code",
   "execution_count": 10,
   "metadata": {},
   "outputs": [
    {
     "data": {
      "image/png": "[encoded data removed]",
      "text/plain": [
       "<Figure size 432x288 with 1 Axes>"
      ]
     },
     "metadata": {
      "needs_background": "light"
     },
     "output_type": "display_data"
    }
   ],
   "source": [
    "# prepare new counterfactual data\n",
    "A_avg = d_median_age_marriage_s.mean()\n",
    "R_seq = torch.linspace(start=-3, end=3, steps=30)\n",
    "pred_data = {\"marriage\": R_seq, \"median_age_marriage\": A_avg.expand_as(R_seq)}\n",
    "\n",
    "# compute counterfactual mean divorce (mu)\n",
    "mu = m5_3.link(**pred_data)\n",
    "mu_mean = mu.mean(0)\n",
    "mu_PI = PI(mu, dim=0)\n",
    "\n",
    "# simulate counterfactual divorce outcomes\n",
    "R_sim = m5_3.sim(n=int(1e4), **pred_data)\n",
    "R_PI = PI(R_sim, dim=0)\n",
    "\n",
    "# display predictions, hiding raw data with visible=False\n",
    "plt.plot(d_marriage_s.tolist(), d_divorce.tolist(), visible=False)\n",
    "plt.xlabel(\"Marriage.s\")\n",
    "plt.ylabel(\"Divorce\")\n",
    "plt.title(\"MedianAgeMarriage.s = 0\")\n",
    "plt.plot(R_seq.tolist(), mu_mean.tolist(), \"k\")\n",
    "plt.fill_between(R_seq, mu_PI[0], mu_PI[1], color=\"k\", alpha=0.15)\n",
    "plt.fill_between(R_seq, R_PI[0], R_PI[1], color=\"k\", alpha=0.15);"
   ]
  },
  {
   "cell_type": "markdown",
   "metadata": {},
   "source": [
    "#### Code 5.10"
   ]
  },
  {
   "cell_type": "code",
   "execution_count": 11,
   "metadata": {},
   "outputs": [
    {
     "data": {
      "image/png": "[encoded data removed]",
      "text/plain": [
       "<Figure size 432x288 with 1 Axes>"
      ]
     },
     "metadata": {
      "needs_background": "light"
     },
     "output_type": "display_data"
    }
   ],
   "source": [
    "R_avg = d_marriage_s.mean()\n",
    "A_seq = torch.linspace(start=-3, end=3.5, steps=30)\n",
    "pred_data2 = {\"marriage\": R_avg.expand_as(A_seq), \"median_age_marriage\": A_seq}\n",
    "\n",
    "mu = m5_3.link(**pred_data2)\n",
    "mu_mean = mu.mean(0)\n",
    "mu_PI = PI(mu, dim=0)\n",
    "\n",
    "A_sim = m5_3.sim(n=int(1e4), **pred_data2)\n",
    "A_PI = PI(A_sim, dim=0)\n",
    "\n",
    "plt.plot(d_median_age_marriage_s.tolist(), d_divorce.tolist(), visible=False)\n",
    "plt.xlabel(\"MedianAgeMarriage.s\")\n",
    "plt.ylabel(\"Divorce\")\n",
    "plt.title(\"Marriage.s = 0\")\n",
    "plt.plot(A_seq.tolist(), mu_mean.tolist(), \"k\")\n",
    "plt.fill_between(A_seq, mu_PI[0], mu_PI[1], color=\"k\", alpha=0.15)\n",
    "plt.fill_between(A_seq, A_PI[0], A_PI[1], color=\"k\", alpha=0.15);"
   ]
  },
  {
   "cell_type": "markdown",
   "metadata": {},
   "source": [
    "#### Code 5.11"
   ]
  },
  {
   "cell_type": "code",
   "execution_count": 12,
   "metadata": {},
   "outputs": [],
   "source": [
    "# call link without specifying new data\n",
    "# so it uses original data\n",
    "mu = m5_3.link()\n",
    "\n",
    "# summarize samples across cases\n",
    "mu_mean = mu.mean(0)\n",
    "mu_PI = PI(mu, dim=0)\n",
    "\n",
    "# simulate observations\n",
    "# again no new data, so uses original data\n",
    "divorce_sim = m5_3.sim(n=int(1e4))\n",
    "divorce_PI = PI(divorce_sim, dim=0)"
   ]
  },
  {
   "cell_type": "markdown",
   "metadata": {},
   "source": [
    "#### Code 5.12"
   ]
  },
  {
   "cell_type": "code",
   "execution_count": 13,
   "metadata": {},
   "outputs": [
    {
     "data": {
      "image/png": "[encoded data removed]",
      "text/plain": [
       "<Figure size 432x288 with 1 Axes>"
      ]
     },
     "metadata": {
      "needs_background": "light"
     },
     "output_type": "display_data"
    }
   ],
   "source": [
    "fig, ax = plt.subplots()\n",
    "ax.plot(d_divorce.tolist(), mu_mean.tolist(), \"o\", c=\"royalblue\", fillstyle=\"none\")\n",
    "ax.set_xlabel(\"Observed divorce\")\n",
    "ax.set_ylabel(\"Predicted divorce\")\n",
    "x = torch.linspace(6, 14, 101)\n",
    "ax.plot(x.tolist(), x.tolist(), \"k--\")\n",
    "for i in range(d.shape[0]):\n",
    "    ax.plot([d_divorce[i]] * 2, [mu_PI[0, i], mu_PI[1, i]], c=\"royalblue\");"
   ]
  },
  {
   "cell_type": "markdown",
   "metadata": {},
   "source": [
    "#### Code 5.13"
   ]
  },
  {
   "cell_type": "code",
   "execution_count": 14,
   "metadata": {},
   "outputs": [
    {
     "data": {
      "image/png": "[encoded data removed]",
      "text/plain": [
       "<Figure size 432x288 with 1 Axes>"
      ]
     },
     "execution_count": 14,
     "metadata": {},
     "output_type": "execute_result"
    }
   ],
   "source": [
    "identify = mu_mean.sort(descending=True)[1][:2]\n",
    "for i in identify:\n",
    "    ax.annotate(d[\"Loc\"][i], (d_divorce[i], mu_mean[i]), xytext=(-20, 0),\n",
    "                textcoords=\"offset pixels\")\n",
    "fig"
   ]
  },
  {
   "cell_type": "markdown",
   "metadata": {},
   "source": [
    "#### Code 5.14"
   ]
  },
  {
   "cell_type": "code",
   "execution_count": 15,
   "metadata": {},
   "outputs": [
    {
     "data": {
      "image/png": "[encoded data removed]",
      "text/plain": [
       "<Figure size 460.8x1036.8 with 1 Axes>"
      ]
     },
     "metadata": {
      "needs_background": "light"
     },
     "output_type": "display_data"
    }
   ],
   "source": [
    "# compute residuals\n",
    "divorce_resid = d_divorce - mu_mean\n",
    "# get ordering by divorce rate\n",
    "o = divorce_resid.sort()[1]\n",
    "# make the plot\n",
    "plt.figure(figsize=(6.4, 14.4))\n",
    "plt.plot(divorce_resid[o].tolist(), d[\"Loc\"][o.tolist()], \"o\", fillstyle=\"none\")\n",
    "plt.xlim(-6, 5)\n",
    "plt.grid(axis=\"y\", linestyle=\"--\")\n",
    "plt.axvline(x=0, c=\"k\", alpha=0.2)\n",
    "for i in range(d.shape[0]):\n",
    "    j = o[i].item()  # which State in order\n",
    "    plt.plot((d_divorce[j] - mu_PI[:, j]).tolist(), [i] * 2, \"k\")\n",
    "    plt.plot((d_divorce[j] - divorce_PI[:, j]).tolist(), [i] * 2, \"+\", c=\"gray\");"
   ]
  },
  {
   "cell_type": "markdown",
   "metadata": {},
   "source": [
    "#### Code 5.15"
   ]
  },
  {
   "cell_type": "code",
   "execution_count": 16,
   "metadata": {},
   "outputs": [],
   "source": [
    "N = 100  # number of cases\n",
    "x_real = torch.randn(N)  # x_real as Gaussian with mean 0 and stddev 1\n",
    "x_spur = dist.Normal(x_real, 1).sample()  # x_spur as Gaussian with mean=x_real\n",
    "y = dist.Normal(x_real, 1).sample()  # y as Gaussian with mean=x_real\n",
    "# bind all together in data frame\n",
    "d = pd.DataFrame({\"y\": y, \"x_real\": x_real, \"x_spur\": x_spur})"
   ]
  },
  {
   "cell_type": "markdown",
   "metadata": {},
   "source": [
    "#### Code 5.16"
   ]
  },
  {
   "cell_type": "code",
   "execution_count": 17,
   "metadata": {},
   "outputs": [
    {
     "name": "stdout",
     "output_type": "stream",
     "text": [
      "<class 'pandas.core.frame.DataFrame'>\n",
      "RangeIndex: 29 entries, 0 to 28\n",
      "Data columns (total 8 columns):\n",
      "clade             29 non-null object\n",
      "species           29 non-null object\n",
      "kcal.per.g        29 non-null float64\n",
      "perc.fat          29 non-null float64\n",
      "perc.protein      29 non-null float64\n",
      "perc.lactose      29 non-null float64\n",
      "mass              29 non-null float64\n",
      "neocortex.perc    17 non-null float64\n",
      "dtypes: float64(6), object(2)\n",
      "memory usage: 1.9+ KB\n",
      "None\n",
      "           clade         species  kcal.per.g  perc.fat  perc.protein  \\\n",
      "0  Strepsirrhine  Eulemur fulvus        0.49     16.60         15.42   \n",
      "1  Strepsirrhine        E macaco        0.51     19.27         16.91   \n",
      "2  Strepsirrhine        E mongoz        0.46     14.11         16.85   \n",
      "3  Strepsirrhine   E rubriventer        0.48     14.91         13.18   \n",
      "4  Strepsirrhine     Lemur catta        0.60     27.28         19.50   \n",
      "\n",
      "   perc.lactose  mass  neocortex.perc  \n",
      "0         67.98  1.95           55.16  \n",
      "1         63.82  2.09             NaN  \n",
      "2         69.04  2.51             NaN  \n",
      "3         71.91  1.62             NaN  \n",
      "4         53.22  2.19             NaN  \n"
     ]
    }
   ],
   "source": [
    "milk = pd.read_csv(\"../data/milk.csv\", sep=\";\")\n",
    "d = milk\n",
    "d_neocortex_perc = torch.tensor(d[\"neocortex.perc\"].values, dtype=torch.float)\n",
    "d_kcal_per_g = torch.tensor(d[\"kcal.per.g\"].values, dtype=torch.float)\n",
    "d_mass = torch.tensor(d[\"mass\"].values, dtype=torch.float)\n",
    "print(d.info())\n",
    "print(d.head())"
   ]
  },
  {
   "cell_type": "markdown",
   "metadata": {},
   "source": [
    "#### Code 5.17"
   ]
  },
  {
   "cell_type": "code",
   "execution_count": 18,
   "metadata": {},
   "outputs": [
    {
     "name": "stdout",
     "output_type": "stream",
     "text": [
      "ValueError: The parameter loc has invalid values\n"
     ]
    }
   ],
   "source": [
    "def m5_5_model(predictor, kcal_per_g):\n",
    "    a = pyro.sample(\"a\", dist.Normal(0, 100))\n",
    "    bn = pyro.sample(\"bn\", dist.Normal(0, 1))\n",
    "    mu = a + bn * predictor\n",
    "    sigma = pyro.sample(\"sigma\", dist.Uniform(0, 1))\n",
    "    with pyro.plate(\"plate\"):\n",
    "        pyro.sample(\"kcal.per.g\", dist.Normal(mu, sigma), obs=kcal_per_g)\n",
    "\n",
    "# fit model\n",
    "try:\n",
    "    m5_5 = MAP(\"m5.5\", m5_5_model, predictor=d_neocortex_perc, kcal_per_g=d_kcal_per_g)\n",
    "    m5_5.fit()\n",
    "except Exception as e:\n",
    "    print(\"{}: {}\".format(type(e).__name__, e))"
   ]
  },
  {
   "cell_type": "markdown",
   "metadata": {},
   "source": [
    "#### Code 5.18"
   ]
  },
  {
   "cell_type": "code",
   "execution_count": 19,
   "metadata": {},
   "outputs": [
    {
     "data": {
      "text/plain": [
       "tensor([55.1600,     nan,     nan,     nan,     nan, 64.5400, 64.5400, 67.6400,\n",
       "            nan, 68.8500, 58.8500, 61.6900, 60.3200,     nan,     nan, 69.9700,\n",
       "            nan, 70.4100,     nan, 73.4000,     nan, 67.5300,     nan, 71.2600,\n",
       "        72.6000,     nan, 70.2400, 76.3000, 75.4900])"
      ]
     },
     "execution_count": 19,
     "metadata": {},
     "output_type": "execute_result"
    }
   ],
   "source": [
    "d_neocortex_perc"
   ]
  },
  {
   "cell_type": "markdown",
   "metadata": {},
   "source": [
    "#### Code 5.19"
   ]
  },
  {
   "cell_type": "code",
   "execution_count": 20,
   "metadata": {},
   "outputs": [],
   "source": [
    "isnan = torch.isnan(d_neocortex_perc)\n",
    "dcc_kcal_per_g = d_kcal_per_g[~isnan]\n",
    "dcc_mass = d_mass[~isnan]\n",
    "dcc_neocortex_perc = d_neocortex_perc[~isnan]"
   ]
  },
  {
   "cell_type": "markdown",
   "metadata": {},
   "source": [
    "#### Code 5.20"
   ]
  },
  {
   "cell_type": "code",
   "execution_count": 21,
   "metadata": {},
   "outputs": [],
   "source": [
    "m5_5 = MAP(\"m5.5b\", m5_5_model, predictor=dcc_neocortex_perc, kcal_per_g=dcc_kcal_per_g)\n",
    "m5_5.fit()"
   ]
  },
  {
   "cell_type": "markdown",
   "metadata": {},
   "source": [
    "#### Code 5.21"
   ]
  },
  {
   "cell_type": "code",
   "execution_count": 22,
   "metadata": {},
   "outputs": [
    {
     "ename": "ValueError",
     "evalue": "The parameter scale has invalid values",
     "output_type": "error",
     "traceback": [
      "\u001b[0;31m--------------------------------------------------------------\u001b[0m",
      "\u001b[0;31mValueError\u001b[0m                   Traceback (most recent call last)",
      "\u001b[0;32m<ipython-input-22-bdec09723226>\u001b[0m in \u001b[0;36m<module>\u001b[0;34m\u001b[0m\n\u001b[0;32m----> 1\u001b[0;31m \u001b[0mm5_5\u001b[0m\u001b[0;34m.\u001b[0m\u001b[0mprecis\u001b[0m\u001b[0;34m(\u001b[0m\u001b[0mdigits\u001b[0m\u001b[0;34m=\u001b[0m\u001b[0;36m3\u001b[0m\u001b[0;34m)\u001b[0m\u001b[0;34m\u001b[0m\u001b[0m\n\u001b[0m",
      "\u001b[0;32m~/rethinking-pyro/notebooks/rethinking.py\u001b[0m in \u001b[0;36mprecis\u001b[0;34m(self, prob, corr, digits)\u001b[0m\n\u001b[1;32m     97\u001b[0m         \u001b[0mcov\u001b[0m \u001b[0;34m=\u001b[0m \u001b[0mself\u001b[0m\u001b[0;34m.\u001b[0m\u001b[0mvcov\u001b[0m\u001b[0;34m(\u001b[0m\u001b[0;34m)\u001b[0m\u001b[0;34m\u001b[0m\u001b[0m\n\u001b[1;32m     98\u001b[0m         \u001b[0mpacked_std_dev\u001b[0m \u001b[0;34m=\u001b[0m \u001b[0mcov\u001b[0m\u001b[0;34m.\u001b[0m\u001b[0mdiag\u001b[0m\u001b[0;34m(\u001b[0m\u001b[0;34m)\u001b[0m\u001b[0;34m.\u001b[0m\u001b[0msqrt\u001b[0m\u001b[0;34m(\u001b[0m\u001b[0;34m)\u001b[0m\u001b[0;34m\u001b[0m\u001b[0m\n\u001b[0;32m---> 99\u001b[0;31m         packed_quantiles = dist.Normal(packed_mean, packed_std_dev).icdf(\n\u001b[0m\u001b[1;32m    100\u001b[0m             torch.tensor([[(1 - prob) / 2], [(1 + prob) / 2]]))\n\u001b[1;32m    101\u001b[0m \u001b[0;34m\u001b[0m\u001b[0m\n",
      "\u001b[0;32m~/miniconda3/envs/pyro/lib/python3.6/site-packages/torch/distributions/normal.py\u001b[0m in \u001b[0;36m__init__\u001b[0;34m(self, loc, scale, validate_args)\u001b[0m\n\u001b[1;32m     47\u001b[0m         \u001b[0;32melse\u001b[0m\u001b[0;34m:\u001b[0m\u001b[0;34m\u001b[0m\u001b[0m\n\u001b[1;32m     48\u001b[0m             \u001b[0mbatch_shape\u001b[0m \u001b[0;34m=\u001b[0m \u001b[0mself\u001b[0m\u001b[0;34m.\u001b[0m\u001b[0mloc\u001b[0m\u001b[0;34m.\u001b[0m\u001b[0msize\u001b[0m\u001b[0;34m(\u001b[0m\u001b[0;34m)\u001b[0m\u001b[0;34m\u001b[0m\u001b[0m\n\u001b[0;32m---> 49\u001b[0;31m         \u001b[0msuper\u001b[0m\u001b[0;34m(\u001b[0m\u001b[0mNormal\u001b[0m\u001b[0;34m,\u001b[0m \u001b[0mself\u001b[0m\u001b[0;34m)\u001b[0m\u001b[0;34m.\u001b[0m\u001b[0m__init__\u001b[0m\u001b[0;34m(\u001b[0m\u001b[0mbatch_shape\u001b[0m\u001b[0;34m,\u001b[0m \u001b[0mvalidate_args\u001b[0m\u001b[0;34m=\u001b[0m\u001b[0mvalidate_args\u001b[0m\u001b[0;34m)\u001b[0m\u001b[0;34m\u001b[0m\u001b[0m\n\u001b[0m\u001b[1;32m     50\u001b[0m \u001b[0;34m\u001b[0m\u001b[0m\n\u001b[1;32m     51\u001b[0m     \u001b[0;32mdef\u001b[0m \u001b[0mexpand\u001b[0m\u001b[0;34m(\u001b[0m\u001b[0mself\u001b[0m\u001b[0;34m,\u001b[0m \u001b[0mbatch_shape\u001b[0m\u001b[0;34m,\u001b[0m \u001b[0m_instance\u001b[0m\u001b[0;34m=\u001b[0m\u001b[0;32mNone\u001b[0m\u001b[0;34m)\u001b[0m\u001b[0;34m:\u001b[0m\u001b[0;34m\u001b[0m\u001b[0m\n",
      "\u001b[0;32m~/miniconda3/envs/pyro/lib/python3.6/site-packages/torch/distributions/distribution.py\u001b[0m in \u001b[0;36m__init__\u001b[0;34m(self, batch_shape, event_shape, validate_args)\u001b[0m\n\u001b[1;32m     34\u001b[0m                     \u001b[0;32mcontinue\u001b[0m  \u001b[0;31m# skip checking lazily-constructed args\u001b[0m\u001b[0;34m\u001b[0m\u001b[0m\n\u001b[1;32m     35\u001b[0m                 \u001b[0;32mif\u001b[0m \u001b[0;32mnot\u001b[0m \u001b[0mconstraint\u001b[0m\u001b[0;34m.\u001b[0m\u001b[0mcheck\u001b[0m\u001b[0;34m(\u001b[0m\u001b[0mgetattr\u001b[0m\u001b[0;34m(\u001b[0m\u001b[0mself\u001b[0m\u001b[0;34m,\u001b[0m \u001b[0mparam\u001b[0m\u001b[0;34m)\u001b[0m\u001b[0;34m)\u001b[0m\u001b[0;34m.\u001b[0m\u001b[0mall\u001b[0m\u001b[0;34m(\u001b[0m\u001b[0;34m)\u001b[0m\u001b[0;34m:\u001b[0m\u001b[0;34m\u001b[0m\u001b[0m\n\u001b[0;32m---> 36\u001b[0;31m                     \u001b[0;32mraise\u001b[0m \u001b[0mValueError\u001b[0m\u001b[0;34m(\u001b[0m\u001b[0;34m\"The parameter {} has invalid values\"\u001b[0m\u001b[0;34m.\u001b[0m\u001b[0mformat\u001b[0m\u001b[0;34m(\u001b[0m\u001b[0mparam\u001b[0m\u001b[0;34m)\u001b[0m\u001b[0;34m)\u001b[0m\u001b[0;34m\u001b[0m\u001b[0m\n\u001b[0m\u001b[1;32m     37\u001b[0m \u001b[0;34m\u001b[0m\u001b[0m\n\u001b[1;32m     38\u001b[0m     \u001b[0;32mdef\u001b[0m \u001b[0mexpand\u001b[0m\u001b[0;34m(\u001b[0m\u001b[0mself\u001b[0m\u001b[0;34m,\u001b[0m \u001b[0mbatch_shape\u001b[0m\u001b[0;34m,\u001b[0m \u001b[0m_instance\u001b[0m\u001b[0;34m=\u001b[0m\u001b[0;32mNone\u001b[0m\u001b[0;34m)\u001b[0m\u001b[0;34m:\u001b[0m\u001b[0;34m\u001b[0m\u001b[0m\n",
      "\u001b[0;31mValueError\u001b[0m: The parameter scale has invalid values"
     ]
    }
   ],
   "source": [
    "m5_5.precis(digits=3)"
   ]
  },
  {
   "cell_type": "markdown",
   "metadata": {},
   "source": [
    "#### Code 5.22"
   ]
  },
  {
   "cell_type": "code",
   "execution_count": null,
   "metadata": {},
   "outputs": [],
   "source": [
    "m5_5.coef()[\"bn\"] * (76 - 55)"
   ]
  },
  {
   "cell_type": "markdown",
   "metadata": {},
   "source": [
    "#### Code 5.23"
   ]
  },
  {
   "cell_type": "code",
   "execution_count": null,
   "metadata": {},
   "outputs": [],
   "source": [
    "np_seq = torch.arange(100.)\n",
    "pred_data = {\"predictor\": np_seq}\n",
    "\n",
    "mu = m5_5.link(n=int(1e4), **pred_data)\n",
    "mu_mean = mu.mean(0)\n",
    "mu_PI = PI(mu, dim=0)\n",
    "\n",
    "plt.plot(dcc_neocortex_perc.tolist(), dcc_kcal_per_g.tolist(), \"o\", c=\"royalblue\",\n",
    "         fillstyle=\"none\")\n",
    "plt.xlabel(\"neocortex.perc\")\n",
    "plt.ylabel(\"kcal.per.g\")\n",
    "plt.plot(np_seq[54:78].tolist(), mu_mean[54:78].tolist(), \"k\")\n",
    "plt.plot(np_seq[54:78].tolist(), mu_PI[0, 54:78].tolist(), \"k--\")\n",
    "plt.plot(np_seq[54:78].tolist(), mu_PI[1, 54:78].tolist(), \"k--\");"
   ]
  },
  {
   "cell_type": "markdown",
   "metadata": {},
   "source": [
    "#### Code 5.24"
   ]
  },
  {
   "cell_type": "code",
   "execution_count": null,
   "metadata": {},
   "outputs": [],
   "source": [
    "dcc_log_mass = dcc_mass.log()"
   ]
  },
  {
   "cell_type": "markdown",
   "metadata": {},
   "source": [
    "#### Code 5.25"
   ]
  },
  {
   "cell_type": "code",
   "execution_count": null,
   "metadata": {},
   "outputs": [],
   "source": [
    "m5_6 = MAP(\"m5.6\", m5_5_model, predictor=dcc_log_mass, kcal_per_g=dcc_kcal_per_g)\n",
    "m5_6.fit()\n",
    "m5_6.precis()"
   ]
  },
  {
   "cell_type": "markdown",
   "metadata": {},
   "source": [
    "#### Code 5.26"
   ]
  },
  {
   "cell_type": "code",
   "execution_count": null,
   "metadata": {},
   "outputs": [],
   "source": [
    "def m5_7_model(neocortex_perc, log_mass, kcal_per_g):\n",
    "    a = pyro.sample(\"a\", dist.Normal(0, 100))\n",
    "    bn = pyro.sample(\"bn\", dist.Normal(0, 1))\n",
    "    bm = pyro.sample(\"bm\", dist.Normal(0, 1))\n",
    "    mu = a + bn * neocortex_perc + bm * log_mass\n",
    "    sigma = pyro.sample(\"sigma\", dist.Uniform(0, 1))\n",
    "    with pyro.plate(\"plate\"):\n",
    "        pyro.sample(\"kcal.per.g\", dist.Normal(mu, sigma), obs=kcal_per_g)\n",
    "\n",
    "m5_7 = MAP(\"m5.7\", m5_7_model, neocortex_perc=dcc_neocortex_perc,\n",
    "           log_mass=dcc_log_mass, kcal_per_g=dcc_kcal_per_g)\n",
    "m5_7.fit()\n",
    "m5_7.precis()"
   ]
  },
  {
   "cell_type": "markdown",
   "metadata": {},
   "source": [
    "#### Code 5.27"
   ]
  },
  {
   "cell_type": "code",
   "execution_count": null,
   "metadata": {},
   "outputs": [],
   "source": [
    "mean_log_mass = dcc_mass.log().mean()\n",
    "np_seq = torch.arange(100.)\n",
    "pred_data = {\"neocortex_perc\": np_seq, \"log_mass\": mean_log_mass.repeat(100)}\n",
    "\n",
    "mu = m5_7.link(n=int(1e4), **pred_data)\n",
    "mu_mean = mu.mean(0)\n",
    "mu_PI = PI(mu, dim=0)\n",
    "\n",
    "plt.plot(dcc_neocortex_perc.tolist(), dcc_kcal_per_g.tolist(), \"o\", visible=False)\n",
    "plt.xlabel(\"neocortex.perc\")\n",
    "plt.ylabel(\"kcal.per.g\")\n",
    "plt.plot(np_seq[54:78].tolist(), mu_mean[54:78].tolist(), \"k\")\n",
    "plt.plot(np_seq[54:78].tolist(), mu_PI[0, 54:78].tolist(), \"k--\")\n",
    "plt.plot(np_seq[54:78].tolist(), mu_PI[1, 54:78].tolist(), \"k--\");"
   ]
  },
  {
   "cell_type": "markdown",
   "metadata": {},
   "source": [
    "#### Code 5.28"
   ]
  },
  {
   "cell_type": "code",
   "execution_count": null,
   "metadata": {},
   "outputs": [],
   "source": [
    "N = 100  # number of cases\n",
    "rho = 0.7  # correlation btw x_pos and x_neg\n",
    "x_pos = torch.randn(N)  # x_pos as Gaussian\n",
    "# x_neg correlated with x_pos\n",
    "x_neg = dist.Normal(rho * x_pos, (1 - rho**2) ** 0.5).sample()\n",
    "y = dist.Normal(x_pos - x_neg, 1).sample()  # y equally associated with x_pos, x_neg\n",
    "d = pd.DataFrame({\"y\": y, \"x_pos\": x_pos, \"x_neg\": x_neg})"
   ]
  },
  {
   "cell_type": "markdown",
   "metadata": {},
   "source": [
    "#### Code 5.29"
   ]
  },
  {
   "cell_type": "code",
   "execution_count": null,
   "metadata": {},
   "outputs": [],
   "source": [
    "N = 100  # number of individuals\n",
    "height = torch.empty(N).normal_(10, 2)  # sim total height of each\n",
    "leg_prop = torch.empty(N).uniform_(0.4, 0.5)  # leg as proportion of height\n",
    "# sim left leg as proportion + error\n",
    "leg_left = leg_prop * height + torch.empty(N).normal_(0, 0.02)\n",
    "# sim right leg as proportion + error\n",
    "leg_right = leg_prop * height + torch.empty(N).normal_(0, 0.02)\n",
    "# combine into data dict\n",
    "d = {\"height\": height, \"leg_left\": leg_left, \"leg_right\": leg_right}"
   ]
  },
  {
   "cell_type": "markdown",
   "metadata": {},
   "source": [
    "#### Code 5.30"
   ]
  },
  {
   "cell_type": "code",
   "execution_count": null,
   "metadata": {},
   "outputs": [],
   "source": [
    "def m5_8_model(leg_left, leg_right, height):\n",
    "    a = pyro.sample(\"a\", dist.Normal(10, 100))\n",
    "    bl = pyro.sample(\"bl\", dist.Normal(2, 10))\n",
    "    br = pyro.sample(\"br\", dist.Normal(2, 10))\n",
    "    mu = a + bl * leg_left + br * leg_right\n",
    "    sigma = pyro.sample(\"sigma\", dist.Uniform(0, 10))\n",
    "    with pyro.plate(\"plate\"):\n",
    "        pyro.sample(\"height\", dist.Normal(mu, sigma), obs=height)\n",
    "\n",
    "m5_8 = MAP(\"m5.8\", m5_8_model, **d)\n",
    "m5_8.fit()\n",
    "m5_8.precis()"
   ]
  },
  {
   "cell_type": "markdown",
   "metadata": {},
   "source": [
    "#### Code 5.31"
   ]
  },
  {
   "cell_type": "code",
   "execution_count": null,
   "metadata": {},
   "outputs": [],
   "source": [
    "m5_8.precis_plot()"
   ]
  },
  {
   "cell_type": "markdown",
   "metadata": {},
   "source": [
    "#### Code 5.32"
   ]
  },
  {
   "cell_type": "code",
   "execution_count": null,
   "metadata": {},
   "outputs": [],
   "source": [
    "post = m5_8.extract_samples()\n",
    "plt.plot(post[\"br\"].tolist(), post[\"bl\"].tolist(), \"o\", c=\"royalblue\", alpha=0.1)\n",
    "plt.xlabel(\"br\")\n",
    "plt.ylabel(\"bl\");"
   ]
  },
  {
   "cell_type": "markdown",
   "metadata": {},
   "source": [
    "#### Code 5.33"
   ]
  },
  {
   "cell_type": "code",
   "execution_count": null,
   "metadata": {},
   "outputs": [],
   "source": [
    "sum_blbr = post[\"bl\"] + post[\"br\"]\n",
    "dens(sum_blbr, c=\"royalblue\", lw=2, xlab=\"sum of bl and br\")"
   ]
  },
  {
   "cell_type": "markdown",
   "metadata": {},
   "source": [
    "#### Code 5.34"
   ]
  },
  {
   "cell_type": "code",
   "execution_count": null,
   "metadata": {},
   "outputs": [],
   "source": [
    "def m5_9_model(leg_left, height):\n",
    "    a = pyro.sample(\"a\", dist.Normal(10, 100))\n",
    "    bl = pyro.sample(\"bl\", dist.Normal(2, 10))\n",
    "    mu = a + bl * leg_left\n",
    "    sigma = pyro.sample(\"sigma\", dist.Uniform(0, 10))\n",
    "    with pyro.plate(\"plate\"):\n",
    "        pyro.sample(\"height\", dist.Normal(mu, sigma), obs=height)\n",
    "\n",
    "m5_9 = MAP(\"m5.9\", m5_9_model, leg_left=leg_left, height=height)\n",
    "m5_9.fit()\n",
    "m5_9.precis()"
   ]
  },
  {
   "cell_type": "markdown",
   "metadata": {},
   "source": [
    "#### Code 5.35"
   ]
  },
  {
   "cell_type": "code",
   "execution_count": null,
   "metadata": {},
   "outputs": [],
   "source": [
    "milk = pd.read_csv(\"../data/milk.csv\", sep=\";\")\n",
    "d = milk\n",
    "d_perc_fat = torch.tensor(d[\"perc.fat\"].values, dtype=torch.float)\n",
    "d_kcal_per_g = torch.tensor(d[\"kcal.per.g\"].values, dtype=torch.float)\n",
    "d_perc_lactose = torch.tensor(d[\"perc.lactose\"].values, dtype=torch.float)"
   ]
  },
  {
   "cell_type": "markdown",
   "metadata": {},
   "source": [
    "#### Code 5.36"
   ]
  },
  {
   "cell_type": "code",
   "execution_count": null,
   "metadata": {},
   "outputs": [],
   "source": [
    "# kcal.per.g regressed on perc.fat\n",
    "def m5_10_model(predictor, kcal_per_g):\n",
    "    a = pyro.sample(\"a\", dist.Normal(0.6, 10))\n",
    "    bf = pyro.sample(\"bf\", dist.Normal(0, 1))\n",
    "    mu = a + bf * predictor\n",
    "    sigma = pyro.sample(\"sigma\", dist.Uniform(0, 10))\n",
    "    with pyro.plate(\"plate\"):\n",
    "        pyro.sample(\"kcal.per.g\", dist.Normal(mu, sigma), obs=kcal_per_g)\n",
    "\n",
    "m5_10 = MAP(\"m5.10\", m5_10_model, predictor=d_perc_fat, kcal_per_g=d_kcal_per_g)\n",
    "m5_10.fit()\n",
    "\n",
    "# kcal.per.g regressed on perc.lactose\n",
    "m5_11 = MAP(\"m5.11\", m5_10_model, predictor=d_perc_lactose, kcal_per_g=d_kcal_per_g)\n",
    "m5_11.fit()\n",
    "\n",
    "print(m5_10.precis(digits=3))\n",
    "print(m5_11.precis(digits=3))"
   ]
  },
  {
   "cell_type": "markdown",
   "metadata": {},
   "source": [
    "#### Code 5.37"
   ]
  },
  {
   "cell_type": "code",
   "execution_count": null,
   "metadata": {},
   "outputs": [],
   "source": [
    "def m5_12_model(perc_fat, perc_lactose, kcal_per_g):\n",
    "    a = pyro.sample(\"a\", dist.Normal(0.6, 10))\n",
    "    bf = pyro.sample(\"bf\", dist.Normal(0, 1))\n",
    "    bl = pyro.sample(\"bl\", dist.Normal(0, 1))\n",
    "    mu = a + bf * perc_fat + bl * perc_lactose\n",
    "    sigma = pyro.sample(\"sigma\", dist.Uniform(0, 10))\n",
    "    with pyro.plate(\"plate\"):\n",
    "        pyro.sample(\"kcal.per.g\", dist.Normal(mu, sigma), obs=kcal_per_g)\n",
    "\n",
    "m5_12 = MAP(\"m5.12\", m5_12_model, perc_fat=d_perc_fat,\n",
    "            perc_lactose=d_perc_lactose, kcal_per_g=d_kcal_per_g)\n",
    "m5_12.fit()\n",
    "m5_12.precis(digits=3)"
   ]
  },
  {
   "cell_type": "markdown",
   "metadata": {},
   "source": [
    "#### Code 5.38"
   ]
  },
  {
   "cell_type": "code",
   "execution_count": null,
   "metadata": {},
   "outputs": [],
   "source": [
    "axes = pd.plotting.scatter_matrix(d[[\"kcal.per.g\", \"perc.fat\", \"perc.lactose\"]],\n",
    "                                  marker=\"o\", facecolors=\"none\", edgecolor=\"royalblue\")\n",
    "axes[0][0].set_yticklabels([0.6, 0.8]);"
   ]
  },
  {
   "cell_type": "markdown",
   "metadata": {},
   "source": [
    "#### Code 5.39"
   ]
  },
  {
   "cell_type": "code",
   "execution_count": null,
   "metadata": {},
   "outputs": [],
   "source": [
    "d_perc_fat_s = (d_perc_fat - d_perc_fat.mean()) / d_perc_fat.std()\n",
    "d_perc_lactose_s = (d_perc_lactose - d_perc_lactose.mean()) / d_perc_lactose.std()\n",
    "d_perc_fat_s.dot(d_perc_lactose_s) / (d_perc_fat_s.size(0) - 1)"
   ]
  },
  {
   "cell_type": "markdown",
   "metadata": {},
   "source": [
    "#### Code 5.40"
   ]
  },
  {
   "cell_type": "code",
   "execution_count": null,
   "metadata": {},
   "outputs": [],
   "source": [
    "milk = pd.read_csv(\"../data/milk.csv\", sep=\";\")\n",
    "d = milk\n",
    "d_perc_fat = torch.tensor(d[\"perc.fat\"].values, dtype=torch.float)\n",
    "d_kcal_per_g = torch.tensor(d[\"kcal.per.g\"].values, dtype=torch.float)\n",
    "\n",
    "def sim_coll(r=0.9, i=0):\n",
    "    d_x = dist.Normal(loc=(r * d_perc_fat),\n",
    "                      scale=((1 - r**2) * d_perc_fat.std()).sqrt()).sample()\n",
    "    m = LM(\"m_r{}_{}\".format(r, i), perc_fat=d_perc_fat, x=d_x, kcal_per_g=d_kcal_per_g)\n",
    "    m.fit(lr=1)\n",
    "    return m.vcov().diag().sqrt()[1]  # stddev of parameter\n",
    "\n",
    "def rep_sim_coll(r=0.9, n=100):\n",
    "    stddev = torch.stack([sim_coll(r, i) for i in range(n)])\n",
    "    return stddev.mean()\n",
    "\n",
    "r_seq = torch.arange(start=0, end=1, step=0.01)\n",
    "stddev = [rep_sim_coll(r=z, n=100) for z in r_seq]\n",
    "plt.plot(r_seq.tolist(), stddev, c=\"royalblue\", lw=2)\n",
    "plt.xlabel(\"correlation\")\n",
    "plt.ylabel(\"stddev\");"
   ]
  },
  {
   "cell_type": "markdown",
   "metadata": {},
   "source": [
    "#### Code 5.41"
   ]
  },
  {
   "cell_type": "code",
   "execution_count": null,
   "metadata": {},
   "outputs": [],
   "source": [
    "# number of plants\n",
    "N = 100\n",
    "\n",
    "# simulate initial heights\n",
    "pyro.set_rng_seed(0)\n",
    "h0 = torch.empty(N).normal_(10, 2)\n",
    "\n",
    "# assign treatments and simulate fungus and growth\n",
    "treatment = torch.tensor([[0.], [1]]).repeat(1, N // 2).reshape(-1)\n",
    "fungus = dist.Binomial(total_count=1, probs=(0.5 - treatment * 0.4)).sample()\n",
    "h1 = h0 + dist.Normal(5 - 3 * fungus, 1).sample()\n",
    "\n",
    "# compose a clean data dict\n",
    "d = {\"h0\": h0, \"h1\": h1, \"treatment\": treatment, \"fungus\": fungus}"
   ]
  },
  {
   "cell_type": "markdown",
   "metadata": {},
   "source": [
    "#### Code 5.42"
   ]
  },
  {
   "cell_type": "code",
   "execution_count": null,
   "metadata": {},
   "outputs": [],
   "source": [
    "def m5_13_model(h0, treatment, fungus, h1):\n",
    "    a = pyro.sample(\"a\", dist.Normal(0, 100))\n",
    "    bh = pyro.sample(\"bh\", dist.Normal(0, 10))\n",
    "    bt = pyro.sample(\"bt\", dist.Normal(0, 10))\n",
    "    bf = pyro.sample(\"bf\", dist.Normal(0, 10))\n",
    "    mu = a + bh * h0 + bt * treatment + bf * fungus\n",
    "    sigma = pyro.sample(\"sigma\", dist.Uniform(0, 10))\n",
    "    with pyro.plate(\"plate\"):\n",
    "        pyro.sample(\"h1\", dist.Normal(mu, sigma), obs=h1)\n",
    "\n",
    "m5_13 = MAP(\"m5.13\", m5_13_model, **d)\n",
    "m5_13.fit()\n",
    "m5_13.precis()"
   ]
  },
  {
   "cell_type": "markdown",
   "metadata": {},
   "source": [
    "#### Code 5.43"
   ]
  },
  {
   "cell_type": "code",
   "execution_count": null,
   "metadata": {},
   "outputs": [],
   "source": [
    "def m5_14_model(h0, treatment, h1):\n",
    "    a = pyro.sample(\"a\", dist.Normal(0, 100))\n",
    "    bh = pyro.sample(\"bh\", dist.Normal(0, 10))\n",
    "    bt = pyro.sample(\"bt\", dist.Normal(0, 10))\n",
    "    mu = a + bh * h0 + bt * treatment\n",
    "    sigma = pyro.sample(\"sigma\", dist.Uniform(0, 10))\n",
    "    with pyro.plate(\"plate\"):\n",
    "        pyro.sample(\"h1\", dist.Normal(mu, sigma), obs=h1)\n",
    "\n",
    "m5_14 = MAP(\"m5.14\", m5_14_model, h0=h0, treatment=treatment, h1=h1)\n",
    "m5_14.fit()\n",
    "m5_14.precis()"
   ]
  },
  {
   "cell_type": "markdown",
   "metadata": {},
   "source": [
    "#### Code 5.44"
   ]
  },
  {
   "cell_type": "code",
   "execution_count": null,
   "metadata": {},
   "outputs": [],
   "source": [
    "howell1 = pd.read_csv(\"../data/Howell1.csv\", sep=\";\")\n",
    "d = howell1\n",
    "d_male = torch.tensor(d[\"male\"].values, dtype=torch.float)\n",
    "d_height = torch.tensor(d[\"height\"].values, dtype=torch.float)\n",
    "print(d.info())\n",
    "print(d.head())"
   ]
  },
  {
   "cell_type": "markdown",
   "metadata": {},
   "source": [
    "#### Code 5.45"
   ]
  },
  {
   "cell_type": "code",
   "execution_count": null,
   "metadata": {},
   "outputs": [],
   "source": [
    "def m5_15_model(male, height):\n",
    "    a = pyro.sample(\"a\", dist.Normal(178, 100))\n",
    "    bm = pyro.sample(\"bm\", dist.Normal(0, 10))\n",
    "    mu = a + bm * male\n",
    "    sigma = pyro.sample(\"sigma\", dist.Uniform(0, 50))\n",
    "    with pyro.plate(\"plate\"):\n",
    "        pyro.sample(\"height\", dist.Normal(mu, sigma), obs=height)\n",
    "\n",
    "m5_15 = MAP(\"m5_15\", m5_15_model, male=d_male, height=d_height)\n",
    "m5_15.fit()\n",
    "m5_15.precis()"
   ]
  },
  {
   "cell_type": "markdown",
   "metadata": {},
   "source": [
    "#### Code 5.46"
   ]
  },
  {
   "cell_type": "code",
   "execution_count": null,
   "metadata": {},
   "outputs": [],
   "source": [
    "post = m5_15.extract_samples()\n",
    "mu_male = post[\"a\"] + post[\"bm\"]\n",
    "PI(mu_male)"
   ]
  },
  {
   "cell_type": "markdown",
   "metadata": {},
   "source": [
    "#### Code 5.47"
   ]
  },
  {
   "cell_type": "code",
   "execution_count": null,
   "metadata": {},
   "outputs": [],
   "source": [
    "def m5_15b_model(male, height):\n",
    "    af = pyro.sample(\"af\", dist.Normal(178, 100))\n",
    "    am = pyro.sample(\"am\", dist.Normal(178, 100))\n",
    "    mu = af * (1 - male) + am * male\n",
    "    sigma = pyro.sample(\"sigma\", dist.Uniform(0, 50))\n",
    "    with pyro.plate(\"plate\"):\n",
    "        pyro.sample(\"height\", dist.Normal(mu, sigma), obs=height)\n",
    "\n",
    "m5_15b = MAP(\"m5_15b\", m5_15b_model, male=d_male, height=d_height)\n",
    "m5_15b.fit()"
   ]
  },
  {
   "cell_type": "markdown",
   "metadata": {},
   "source": [
    "#### Code 5.48"
   ]
  },
  {
   "cell_type": "code",
   "execution_count": null,
   "metadata": {},
   "outputs": [],
   "source": [
    "milk = pd.read_csv(\"../data/milk.csv\", sep=\";\")\n",
    "d = milk\n",
    "d_kcal_per_g = torch.tensor(d[\"kcal.per.g\"].values, dtype=torch.float)\n",
    "d[\"clade\"].unique().tolist()"
   ]
  },
  {
   "cell_type": "markdown",
   "metadata": {},
   "source": [
    "#### Code 5.49"
   ]
  },
  {
   "cell_type": "code",
   "execution_count": null,
   "metadata": {},
   "outputs": [],
   "source": [
    "d_clade_NWM = torch.tensor(d[\"clade\"] == \"New World Monkey\", dtype=torch.float)\n",
    "d_clade_NWM"
   ]
  },
  {
   "cell_type": "markdown",
   "metadata": {},
   "source": [
    "#### Code 5.50"
   ]
  },
  {
   "cell_type": "code",
   "execution_count": null,
   "metadata": {},
   "outputs": [],
   "source": [
    "d_clade_OWM = torch.tensor(d[\"clade\"] == \"Old World Monkey\", dtype=torch.float)\n",
    "d_clade_S = torch.tensor(d[\"clade\"] == \"Strepsirrhine\", dtype=torch.float)"
   ]
  },
  {
   "cell_type": "markdown",
   "metadata": {},
   "source": [
    "#### Code 5.51"
   ]
  },
  {
   "cell_type": "code",
   "execution_count": null,
   "metadata": {},
   "outputs": [],
   "source": [
    "def m5_16_model(nwm, owm, s, kcal_per_g):\n",
    "    a = pyro.sample(\"a\", dist.Normal(0.6, 10))\n",
    "    b_NWM = pyro.sample(\"b.NWM\", dist.Normal(0, 1))\n",
    "    b_OWM = pyro.sample(\"b.OWM\", dist.Normal(0, 1))\n",
    "    b_S = pyro.sample(\"b.S\", dist.Normal(0, 1))\n",
    "    mu = a + b_NWM * nwm + b_OWM * owm + b_S * s\n",
    "    sigma = pyro.sample(\"sigma\", dist.Uniform(0, 10))\n",
    "    with pyro.plate(\"plate\"):\n",
    "        pyro.sample(\"kcal.per.g\", dist.Normal(mu, sigma), obs=kcal_per_g)\n",
    "\n",
    "m5_16 = MAP(\"m5_16\", m5_16_model, nwm=d_clade_NWM, owm=d_clade_OWM, s=d_clade_S,\n",
    "            kcal_per_g=d_kcal_per_g)\n",
    "m5_16.fit()\n",
    "m5_16.precis()"
   ]
  },
  {
   "cell_type": "markdown",
   "metadata": {},
   "source": [
    "#### Code 5.52"
   ]
  },
  {
   "cell_type": "code",
   "execution_count": null,
   "metadata": {},
   "outputs": [],
   "source": [
    "# sample posterior\n",
    "post = m5_16.extract_samples()\n",
    "\n",
    "# compute averages for each category\n",
    "mu_ape = post[\"a\"]\n",
    "mu_NWM = post[\"a\"] + post[\"b.NWM\"]\n",
    "mu_OWM = post[\"a\"] + post[\"b.OWM\"]\n",
    "mu_S = post[\"a\"] + post[\"b.S\"]\n",
    "\n",
    "# summarize using precis\n",
    "precis({\"mu.ape\": mu_ape, \"mu.NWM\": mu_NWM, \"mu.OWM\": mu_OWM, \"mu.S\": mu_S})"
   ]
  },
  {
   "cell_type": "markdown",
   "metadata": {},
   "source": [
    "#### Code 5.53"
   ]
  },
  {
   "cell_type": "code",
   "execution_count": null,
   "metadata": {},
   "outputs": [],
   "source": [
    "diff_NWM_OWM = mu_NWM - mu_OWM\n",
    "quantile(diff_NWM_OWM, probs=(0.025, 0.5, 0.975))"
   ]
  },
  {
   "cell_type": "markdown",
   "metadata": {},
   "source": [
    "#### Code 5.54"
   ]
  },
  {
   "cell_type": "code",
   "execution_count": null,
   "metadata": {},
   "outputs": [],
   "source": [
    "d_clade_id = torch.tensor(d[\"clade\"].astype(\"category\").cat.codes, dtype=torch.long)\n",
    "d_clade_id"
   ]
  },
  {
   "cell_type": "markdown",
   "metadata": {},
   "source": [
    "#### Code 5.55"
   ]
  },
  {
   "cell_type": "code",
   "execution_count": null,
   "metadata": {},
   "outputs": [],
   "source": [
    "def m5_16_alt_model(clade_id, kcal_per_g):\n",
    "    with pyro.plate(\"plate_a\", d_clade_id.unique().size(0)):\n",
    "        a = pyro.sample(\"a\", dist.Normal(0.6, 10))\n",
    "    mu = a[clade_id]\n",
    "    sigma = pyro.sample(\"sigma\", dist.Uniform(0, 10))\n",
    "    with pyro.plate(\"plate\"):\n",
    "        pyro.sample(\"kcal.per.g\", dist.Normal(mu, sigma), obs=kcal_per_g)\n",
    "\n",
    "m5_16_alt = MAP(\"m5.16_alt\", m5_16_alt_model, clade_id=d_clade_id, kcal_per_g=d_kcal_per_g)\n",
    "m5_16_alt.fit()\n",
    "m5_16_alt.precis()"
   ]
  },
  {
   "cell_type": "markdown",
   "metadata": {},
   "source": [
    "#### Code 5.56"
   ]
  },
  {
   "cell_type": "code",
   "execution_count": null,
   "metadata": {},
   "outputs": [],
   "source": [
    "d_x = d_y = d_z = d_w = torch.tensor([0., 1., 2., 3.])\n",
    "m5_17 = LM(\"m5.17\", intercept=1, x=d_x, y=d_y)\n",
    "m5_18 = LM(\"m5.18\", x=d_x, z=d_z, w=d_w, y=d_y)"
   ]
  },
  {
   "cell_type": "markdown",
   "metadata": {},
   "source": [
    "#### Code 5.57"
   ]
  },
  {
   "cell_type": "code",
   "execution_count": null,
   "metadata": {},
   "outputs": [],
   "source": [
    "m5_17 = LM(\"m5.17b\", intercept=1, x=d_x, y=d_y)\n",
    "m5_19 = LM(\"m5.19\", x=d_x, y=d_y)"
   ]
  },
  {
   "cell_type": "markdown",
   "metadata": {},
   "source": [
    "#### Code 5.58"
   ]
  },
  {
   "cell_type": "code",
   "execution_count": null,
   "metadata": {},
   "outputs": [],
   "source": [
    "m5_20 = LM(\"m5.20\", intercept=0, x=d_x, y=d_y)\n",
    "m5_21 = LM(\"m5.21\", intercept=-1, x=d_x, y=d_y)"
   ]
  },
  {
   "cell_type": "markdown",
   "metadata": {},
   "source": [
    "#### Code 5.59"
   ]
  },
  {
   "cell_type": "code",
   "execution_count": null,
   "metadata": {},
   "outputs": [],
   "source": [
    "d_season = torch.tensor([1, 2, 3, 4])\n",
    "d_season_1 = (d_season == 1).float()\n",
    "d_season_2 = (d_season == 2).float()\n",
    "d_season_3 = (d_season == 3).float()\n",
    "d_season_4 = (d_season == 4).float()\n",
    "m5_22 = LM(\"m5.22\", season_1=d_season_1, season_2=d_season_2,\n",
    "           season_3=d_season_3, season_4=d_season_4, y=d_y)"
   ]
  },
  {
   "cell_type": "markdown",
   "metadata": {},
   "source": [
    "#### Code 5.60"
   ]
  },
  {
   "cell_type": "code",
   "execution_count": null,
   "metadata": {},
   "outputs": [],
   "source": [
    "d_x2 = d_x ** 2\n",
    "d_x3 = d_x ** 3\n",
    "m5_23 = LM(\"m5.23\", x=d_x, x2=d_x2, x3=d_x3, y=d_y)"
   ]
  },
  {
   "cell_type": "markdown",
   "metadata": {},
   "source": [
    "#### Code 5.61"
   ]
  },
  {
   "cell_type": "code",
   "execution_count": null,
   "metadata": {},
   "outputs": [],
   "source": [
    "m5_23 = LM(\"m5.23b\", x=d_x, x2=(d_x ** 2), x3=(d_x ** 3), y=d_y)"
   ]
  },
  {
   "cell_type": "markdown",
   "metadata": {},
   "source": [
    "#### Code 5.62"
   ]
  },
  {
   "cell_type": "code",
   "execution_count": null,
   "metadata": {},
   "outputs": [],
   "source": [
    "cars = pd.read_csv(\"../data/cars.csv\", index_col=0)\n",
    "glimmer(speed=cars[\"speed\"], dist=cars[\"dist\"])"
   ]
  }
 ],
 "metadata": {
  "kernelspec": {
   "display_name": "Python 3",
   "language": "python",
   "name": "python3"
  },
  "language_info": {
   "codemirror_mode": {
    "name": "ipython",
    "version": 3
   },
   "file_extension": ".py",
   "mimetype": "text/x-python",
   "name": "python",
   "nbconvert_exporter": "python",
   "pygments_lexer": "ipython3",
   "version": "3.6.6"
  }
 },
 "nbformat": 4,
 "nbformat_minor": 2
}
