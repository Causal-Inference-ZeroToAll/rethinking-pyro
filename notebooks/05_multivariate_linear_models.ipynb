{
 "cells": [
  {
   "cell_type": "code",
   "execution_count": 1,
   "metadata": {},
   "outputs": [],
   "source": [
    "%matplotlib inline\n",
    "import matplotlib.pyplot as plt\n",
    "import pandas as pd\n",
    "import torch\n",
    "from torch.distributions import constraints\n",
    "\n",
    "import pyro\n",
    "import pyro.distributions as dist\n",
    "\n",
    "from rethinking import HPDI, PI, LM, MAP, dens, glimmer, precis, quantile\n",
    "\n",
    "plt.rcParams[\"axes.labelsize\"] = \"large\"\n",
    "plt.rcParams[\"lines.linewidth\"] = 1\n",
    "pyro.enable_validation()\n",
    "pyro.set_rng_seed(0)"
   ]
  },
  {
   "cell_type": "markdown",
   "metadata": {},
   "source": [
    "#### Code 5.1"
   ]
  },
  {
   "cell_type": "code",
   "execution_count": 2,
   "metadata": {},
   "outputs": [],
   "source": [
    "# load data\n",
    "waffle_divorce = pd.read_csv(\"../data/WaffleDivorce.csv\", sep=\";\")\n",
    "d = waffle_divorce\n",
    "d_median_age_marriage = torch.tensor(d[\"MedianAgeMarriage\"].values, dtype=torch.float)\n",
    "d_divorce = torch.tensor(d[\"Divorce\"].values, dtype=torch.float)\n",
    "d_marriage = torch.tensor(d[\"Marriage\"].values, dtype=torch.float)\n",
    "\n",
    "# standardize predictor\n",
    "d_median_age_marriage_s = ((d_median_age_marriage - d_median_age_marriage.mean())\n",
    "                           / d_median_age_marriage.std())\n",
    "\n",
    "# fit model\n",
    "def m5_1_model(predictor, outcome):\n",
    "    a = pyro.sample(\"a\", dist.Normal(10, 10))\n",
    "    bA = pyro.sample(\"bA\", dist.Normal(0, 1))\n",
    "    mu = a + bA * predictor\n",
    "    sigma = pyro.sample(\"sigma\", dist.Uniform(0, 10))\n",
    "    with pyro.plate(\"plate\"):\n",
    "        pyro.sample(\"outcome\", dist.Normal(mu, sigma).independent(1), obs=outcome)\n",
    "\n",
    "m5_1 = MAP(\"m5.1\", m5_1_model, predictor=d_median_age_marriage_s, outcome=d_divorce)\n",
    "m5_1.fit()"
   ]
  },
  {
   "cell_type": "markdown",
   "metadata": {},
   "source": [
    "#### Code 5.2"
   ]
  },
  {
   "cell_type": "code",
   "execution_count": 3,
   "metadata": {},
   "outputs": [
    {
     "data": {
      "image/png": "[encoded data removed]",
      "text/plain": [
       "<Figure size 432x288 with 1 Axes>"
      ]
     },
     "metadata": {
      "needs_background": "light"
     },
     "output_type": "display_data"
    }
   ],
   "source": [
    "# compute percentile interval of mean\n",
    "MAM_seq = torch.linspace(start=-3, end=3.5, steps=30)\n",
    "mu = m5_1.link(predictor=MAM_seq)\n",
    "mu_PI = PI(mu, dim=0)\n",
    "\n",
    "# plot it all\n",
    "plt.plot(d_median_age_marriage_s.tolist(), d_divorce.tolist(), \"o\", c=\"royalblue\",\n",
    "         fillstyle=\"none\")\n",
    "plt.xlabel(\"MedianAgeMarriage.s\")\n",
    "plt.ylabel(\"Divorce\")\n",
    "x = torch.linspace(-3, 3.5, 101)\n",
    "plt.plot(x.tolist(), (m5_1.coef()[\"a\"] + m5_1.coef()[\"bA\"] * x).tolist(), \"k\")\n",
    "plt.fill_between(MAM_seq, mu_PI[0], mu_PI[1], color=\"k\", alpha=0.15);"
   ]
  },
  {
   "cell_type": "markdown",
   "metadata": {},
   "source": [
    "#### Code 5.3"
   ]
  },
  {
   "cell_type": "code",
   "execution_count": 4,
   "metadata": {},
   "outputs": [],
   "source": [
    "d_marriage_s = (d_marriage - d_marriage.mean()) / d_marriage.std()\n",
    "m5_2 = MAP(\"m5.2\", m5_1_model, predictor=d_marriage_s, outcome=d_divorce)\n",
    "m5_2.fit()"
   ]
  },
  {
   "cell_type": "markdown",
   "metadata": {},
   "source": [
    "#### Code 5.4"
   ]
  },
  {
   "cell_type": "code",
   "execution_count": 5,
   "metadata": {},
   "outputs": [
    {
     "data": {
      "text/html": [
       "<div>\n",
       "<style scoped>\n",
       "    .dataframe tbody tr th:only-of-type {\n",
       "        vertical-align: middle;\n",
       "    }\n",
       "\n",
       "    .dataframe tbody tr th {\n",
       "        vertical-align: top;\n",
       "    }\n",
       "\n",
       "    .dataframe thead th {\n",
       "        text-align: right;\n",
       "    }\n",
       "</style>\n",
       "<table border=\"1\" class=\"dataframe\">\n",
       "  <thead>\n",
       "    <tr style=\"text-align: right;\">\n",
       "      <th></th>\n",
       "      <th>Mean</th>\n",
       "      <th>StdDev</th>\n",
       "      <th>5.5%</th>\n",
       "      <th>94.5%</th>\n",
       "    </tr>\n",
       "  </thead>\n",
       "  <tbody>\n",
       "    <tr>\n",
       "      <th>a</th>\n",
       "      <td>9.69</td>\n",
       "      <td>0.20</td>\n",
       "      <td>9.36</td>\n",
       "      <td>10.01</td>\n",
       "    </tr>\n",
       "    <tr>\n",
       "      <th>bR</th>\n",
       "      <td>-0.13</td>\n",
       "      <td>0.28</td>\n",
       "      <td>-0.58</td>\n",
       "      <td>0.31</td>\n",
       "    </tr>\n",
       "    <tr>\n",
       "      <th>bA</th>\n",
       "      <td>-1.13</td>\n",
       "      <td>0.28</td>\n",
       "      <td>-1.58</td>\n",
       "      <td>-0.69</td>\n",
       "    </tr>\n",
       "    <tr>\n",
       "      <th>sigma</th>\n",
       "      <td>1.44</td>\n",
       "      <td>0.14</td>\n",
       "      <td>1.21</td>\n",
       "      <td>1.67</td>\n",
       "    </tr>\n",
       "  </tbody>\n",
       "</table>\n",
       "</div>"
      ],
      "text/plain": [
       "       Mean  StdDev  5.5%  94.5%\n",
       "a      9.69    0.20  9.36  10.01\n",
       "bR    -0.13    0.28 -0.58   0.31\n",
       "bA    -1.13    0.28 -1.58  -0.69\n",
       "sigma  1.44    0.14  1.21   1.67"
      ]
     },
     "execution_count": 5,
     "metadata": {},
     "output_type": "execute_result"
    }
   ],
   "source": [
    "def m5_3_model(marriage, median_age_marriage, divorce):\n",
    "    a = pyro.sample(\"a\", dist.Normal(10, 10))\n",
    "    bR = pyro.sample(\"bR\", dist.Normal(0, 1))\n",
    "    bA = pyro.sample(\"bA\", dist.Normal(0, 1))\n",
    "    mu = a + bR * marriage + bA * median_age_marriage\n",
    "    sigma = pyro.sample(\"sigma\", dist.Uniform(0, 10))\n",
    "    with pyro.plate(\"plate\"):\n",
    "        pyro.sample(\"Divorce\", dist.Normal(mu, sigma), obs=divorce)\n",
    "\n",
    "m5_3 = MAP(\"m5.3\", m5_3_model, marriage=d_marriage_s,\n",
    "           median_age_marriage=d_median_age_marriage_s, divorce=d_divorce)\n",
    "m5_3.fit()\n",
    "m5_3.precis()"
   ]
  },
  {
   "cell_type": "markdown",
   "metadata": {},
   "source": [
    "#### Code 5.5"
   ]
  },
  {
   "cell_type": "code",
   "execution_count": 6,
   "metadata": {},
   "outputs": [
    {
     "data": {
      "image/png": "[encoded data removed]",
      "text/plain": [
       "<Figure size 432x288 with 1 Axes>"
      ]
     },
     "metadata": {
      "needs_background": "light"
     },
     "output_type": "display_data"
    }
   ],
   "source": [
    "m5_3.precis_plot()"
   ]
  },
  {
   "cell_type": "markdown",
   "metadata": {},
   "source": [
    "#### Code 5.6"
   ]
  },
  {
   "cell_type": "code",
   "execution_count": 7,
   "metadata": {},
   "outputs": [],
   "source": [
    "pyro.set_rng_seed(1)\n",
    "m5_4 = MAP(\"m5.4\", m5_1_model, predictor=d_median_age_marriage_s, outcome=d_marriage_s)\n",
    "m5_4.fit()"
   ]
  },
  {
   "cell_type": "markdown",
   "metadata": {},
   "source": [
    "#### Code 5.7"
   ]
  },
  {
   "cell_type": "code",
   "execution_count": 8,
   "metadata": {},
   "outputs": [],
   "source": [
    "# compute expected value at MAP, for each State\n",
    "mu = m5_4.coef()[\"a\"] + m5_4.coef()[\"bA\"] * d_median_age_marriage_s\n",
    "# compute residual for each State\n",
    "m_resid = d_marriage_s - mu"
   ]
  },
  {
   "cell_type": "markdown",
   "metadata": {},
   "source": [
    "#### Code 5.8"
   ]
  },
  {
   "cell_type": "code",
   "execution_count": 9,
   "metadata": {},
   "outputs": [
    {
     "data": {
      "image/png": "[encoded data removed]",
      "text/plain": [
       "<Figure size 432x288 with 1 Axes>"
      ]
     },
     "metadata": {
      "needs_background": "light"
     },
     "output_type": "display_data"
    }
   ],
   "source": [
    "plt.plot(d_median_age_marriage_s.tolist(), d_marriage_s.tolist(), \"o\", c=\"royalblue\",\n",
    "         fillstyle=\"none\")\n",
    "plt.xlabel(\"MedianAgeMarriage.s\")\n",
    "plt.ylabel(\"Marriage.s\")\n",
    "x = torch.linspace(-2.5, 3, 101)\n",
    "plt.plot(x.tolist(), (m5_4.coef()[\"a\"] + m5_4.coef()[\"bA\"] * x).tolist(), \"k\")\n",
    "# loop over States\n",
    "for i in range(len(m_resid)):\n",
    "    x = d_median_age_marriage_s[i]  # x location of line segment\n",
    "    y = d_marriage_s[i]  # observed endpoint of line segment\n",
    "    # draw the line segment\n",
    "    plt.plot([x, x], [mu[i], y], \"k\", alpha=0.7);"
   ]
  },
  {
   "cell_type": "markdown",
   "metadata": {},
   "source": [
    "#### Code 5.9"
   ]
  },
  {
   "cell_type": "code",
   "execution_count": 10,
   "metadata": {},
   "outputs": [
    {
     "data": {
      "image/png": "[encoded data removed]",
      "text/plain": [
       "<Figure size 432x288 with 1 Axes>"
      ]
     },
     "metadata": {
      "needs_background": "light"
     },
     "output_type": "display_data"
    }
   ],
   "source": [
    "# prepare new counterfactual data\n",
    "A_avg = d_median_age_marriage_s.mean()\n",
    "R_seq = torch.linspace(start=-3, end=3, steps=30)\n",
    "pred_data = {\"marriage\": R_seq, \"median_age_marriage\": A_avg.expand_as(R_seq)}\n",
    "\n",
    "# compute counterfactual mean divorce (mu)\n",
    "mu = m5_3.link(**pred_data)\n",
    "mu_mean = mu.mean(0)\n",
    "mu_PI = PI(mu, dim=0)\n",
    "\n",
    "# simulate counterfactual divorce outcomes\n",
    "R_sim = m5_3.sim(n=int(1e4), **pred_data)\n",
    "R_PI = PI(R_sim, dim=0)\n",
    "\n",
    "# display predictions, hiding raw data with visible=False\n",
    "plt.plot(d_marriage_s.tolist(), d_divorce.tolist(), visible=False)\n",
    "plt.xlabel(\"Marriage.s\")\n",
    "plt.ylabel(\"Divorce\")\n",
    "plt.title(\"MedianAgeMarriage.s = 0\")\n",
    "plt.plot(R_seq.tolist(), mu_mean.tolist(), \"k\")\n",
    "plt.fill_between(R_seq, mu_PI[0], mu_PI[1], color=\"k\", alpha=0.15)\n",
    "plt.fill_between(R_seq, R_PI[0], R_PI[1], color=\"k\", alpha=0.15);"
   ]
  },
  {
   "cell_type": "markdown",
   "metadata": {},
   "source": [
    "#### Code 5.10"
   ]
  },
  {
   "cell_type": "code",
   "execution_count": 11,
   "metadata": {},
   "outputs": [
    {
     "data": {
      "image/png": "[encoded data removed]",
      "text/plain": [
       "<Figure size 432x288 with 1 Axes>"
      ]
     },
     "metadata": {
      "needs_background": "light"
     },
     "output_type": "display_data"
    }
   ],
   "source": [
    "R_avg = d_marriage_s.mean()\n",
    "A_seq = torch.linspace(start=-3, end=3.5, steps=30)\n",
    "pred_data2 = {\"marriage\": R_avg.expand_as(A_seq), \"median_age_marriage\": A_seq}\n",
    "\n",
    "mu = m5_3.link(**pred_data2)\n",
    "mu_mean = mu.mean(0)\n",
    "mu_PI = PI(mu, dim=0)\n",
    "\n",
    "A_sim = m5_3.sim(n=int(1e4), **pred_data2)\n",
    "A_PI = PI(A_sim, dim=0)\n",
    "\n",
    "plt.plot(d_median_age_marriage_s.tolist(), d_divorce.tolist(), visible=False)\n",
    "plt.xlabel(\"MedianAgeMarriage.s\")\n",
    "plt.ylabel(\"Divorce\")\n",
    "plt.title(\"Marriage.s = 0\")\n",
    "plt.plot(A_seq.tolist(), mu_mean.tolist(), \"k\")\n",
    "plt.fill_between(A_seq, mu_PI[0], mu_PI[1], color=\"k\", alpha=0.15)\n",
    "plt.fill_between(A_seq, A_PI[0], A_PI[1], color=\"k\", alpha=0.15);"
   ]
  },
  {
   "cell_type": "markdown",
   "metadata": {},
   "source": [
    "#### Code 5.11"
   ]
  },
  {
   "cell_type": "code",
   "execution_count": 12,
   "metadata": {},
   "outputs": [],
   "source": [
    "# call link without specifying new data\n",
    "# so it uses original data\n",
    "mu = m5_3.link()\n",
    "\n",
    "# summarize samples across cases\n",
    "mu_mean = mu.mean(0)\n",
    "mu_PI = PI(mu, dim=0)\n",
    "\n",
    "# simulate observations\n",
    "# again no new data, so uses original data\n",
    "divorce_sim = m5_3.sim(n=int(1e4))\n",
    "divorce_PI = PI(divorce_sim, dim=0)"
   ]
  },
  {
   "cell_type": "markdown",
   "metadata": {},
   "source": [
    "#### Code 5.12"
   ]
  },
  {
   "cell_type": "code",
   "execution_count": 13,
   "metadata": {},
   "outputs": [
    {
     "data": {
      "image/png": "[encoded data removed]",
      "text/plain": [
       "<Figure size 432x288 with 1 Axes>"
      ]
     },
     "metadata": {
      "needs_background": "light"
     },
     "output_type": "display_data"
    }
   ],
   "source": [
    "fig, ax = plt.subplots()\n",
    "ax.plot(d_divorce.tolist(), mu_mean.tolist(), \"o\", c=\"royalblue\", fillstyle=\"none\")\n",
    "ax.set_xlabel(\"Observed divorce\")\n",
    "ax.set_ylabel(\"Predicted divorce\")\n",
    "x = torch.linspace(6, 14, 101)\n",
    "ax.plot(x.tolist(), x.tolist(), \"k--\")\n",
    "for i in range(d.shape[0]):\n",
    "    ax.plot([d_divorce[i]] * 2, [mu_PI[0, i], mu_PI[1, i]], c=\"royalblue\");"
   ]
  },
  {
   "cell_type": "markdown",
   "metadata": {},
   "source": [
    "#### Code 5.13"
   ]
  },
  {
   "cell_type": "code",
   "execution_count": 14,
   "metadata": {},
   "outputs": [
    {
     "data": {
      "image/png": "[encoded data removed]",
      "text/plain": [
       "<Figure size 432x288 with 1 Axes>"
      ]
     },
     "execution_count": 14,
     "metadata": {},
     "output_type": "execute_result"
    }
   ],
   "source": [
    "identify = mu_mean.sort(descending=True)[1][:2]\n",
    "for i in identify:\n",
    "    ax.annotate(d[\"Loc\"][i], (d_divorce[i], mu_mean[i]), xytext=(-20, 0),\n",
    "                textcoords=\"offset pixels\")\n",
    "fig"
   ]
  },
  {
   "cell_type": "markdown",
   "metadata": {},
   "source": [
    "#### Code 5.14"
   ]
  },
  {
   "cell_type": "code",
   "execution_count": 15,
   "metadata": {},
   "outputs": [
    {
     "data": {
      "image/png": "[encoded data removed]",
      "text/plain": [
       "<Figure size 460.8x1036.8 with 1 Axes>"
      ]
     },
     "metadata": {
      "needs_background": "light"
     },
     "output_type": "display_data"
    }
   ],
   "source": [
    "# compute residuals\n",
    "divorce_resid = d_divorce - mu_mean\n",
    "# get ordering by divorce rate\n",
    "o = divorce_resid.sort()[1]\n",
    "# make the plot\n",
    "plt.figure(figsize=(6.4, 14.4))\n",
    "plt.plot(divorce_resid[o].tolist(), d[\"Loc\"][o.tolist()], \"o\", fillstyle=\"none\")\n",
    "plt.xlim(-6, 5)\n",
    "plt.grid(axis=\"y\", linestyle=\"--\")\n",
    "plt.axvline(x=0, c=\"k\", alpha=0.2)\n",
    "for i in range(d.shape[0]):\n",
    "    j = o[i].item()  # which State in order\n",
    "    plt.plot((d_divorce[j] - mu_PI[:, j]).tolist(), [i] * 2, \"k\")\n",
    "    plt.plot((d_divorce[j] - divorce_PI[:, j]).tolist(), [i] * 2, \"+\", c=\"gray\");"
   ]
  },
  {
   "cell_type": "markdown",
   "metadata": {},
   "source": [
    "#### Code 5.15"
   ]
  },
  {
   "cell_type": "code",
   "execution_count": 16,
   "metadata": {},
   "outputs": [],
   "source": [
    "N = 100  # number of cases\n",
    "x_real = torch.randn(N)  # x_real as Gaussian with mean 0 and stddev 1\n",
    "x_spur = dist.Normal(x_real, 1).sample()  # x_spur as Gaussian with mean=x_real\n",
    "y = dist.Normal(x_real, 1).sample()  # y as Gaussian with mean=x_real\n",
    "# bind all together in data frame\n",
    "d = pd.DataFrame({\"y\": y, \"x_real\": x_real, \"x_spur\": x_spur})"
   ]
  },
  {
   "cell_type": "markdown",
   "metadata": {},
   "source": [
    "#### Code 5.16"
   ]
  },
  {
   "cell_type": "code",
   "execution_count": 17,
   "metadata": {},
   "outputs": [
    {
     "name": "stdout",
     "output_type": "stream",
     "text": [
      "<class 'pandas.core.frame.DataFrame'>\n",
      "RangeIndex: 29 entries, 0 to 28\n",
      "Data columns (total 8 columns):\n",
      "clade             29 non-null object\n",
      "species           29 non-null object\n",
      "kcal.per.g        29 non-null float64\n",
      "perc.fat          29 non-null float64\n",
      "perc.protein      29 non-null float64\n",
      "perc.lactose      29 non-null float64\n",
      "mass              29 non-null float64\n",
      "neocortex.perc    17 non-null float64\n",
      "dtypes: float64(6), object(2)\n",
      "memory usage: 1.9+ KB\n",
      "None\n",
      "           clade         species  kcal.per.g  perc.fat  perc.protein  \\\n",
      "0  Strepsirrhine  Eulemur fulvus        0.49     16.60         15.42   \n",
      "1  Strepsirrhine        E macaco        0.51     19.27         16.91   \n",
      "2  Strepsirrhine        E mongoz        0.46     14.11         16.85   \n",
      "3  Strepsirrhine   E rubriventer        0.48     14.91         13.18   \n",
      "4  Strepsirrhine     Lemur catta        0.60     27.28         19.50   \n",
      "\n",
      "   perc.lactose  mass  neocortex.perc  \n",
      "0         67.98  1.95           55.16  \n",
      "1         63.82  2.09             NaN  \n",
      "2         69.04  2.51             NaN  \n",
      "3         71.91  1.62             NaN  \n",
      "4         53.22  2.19             NaN  \n"
     ]
    }
   ],
   "source": [
    "milk = pd.read_csv(\"../data/milk.csv\", sep=\";\")\n",
    "d = milk\n",
    "d_neocortex_perc = torch.tensor(d[\"neocortex.perc\"].values, dtype=torch.float)\n",
    "d_kcal_per_g = torch.tensor(d[\"kcal.per.g\"].values, dtype=torch.float)\n",
    "d_mass = torch.tensor(d[\"mass\"].values, dtype=torch.float)\n",
    "print(d.info())\n",
    "print(d.head())"
   ]
  },
  {
   "cell_type": "markdown",
   "metadata": {},
   "source": [
    "#### Code 5.17"
   ]
  },
  {
   "cell_type": "code",
   "execution_count": 18,
   "metadata": {},
   "outputs": [
    {
     "name": "stdout",
     "output_type": "stream",
     "text": [
      "ValueError: The parameter loc has invalid values\n"
     ]
    }
   ],
   "source": [
    "def m5_5_model(predictor, kcal_per_g):\n",
    "    a = pyro.sample(\"a\", dist.Normal(0, 100))\n",
    "    bn = pyro.sample(\"bn\", dist.Normal(0, 1))\n",
    "    mu = a + bn * predictor\n",
    "    sigma = pyro.sample(\"sigma\", dist.Uniform(0, 1))\n",
    "    with pyro.plate(\"plate\"):\n",
    "        pyro.sample(\"kcal.per.g\", dist.Normal(mu, sigma), obs=kcal_per_g)\n",
    "\n",
    "# fit model\n",
    "try:\n",
    "    m5_5 = MAP(\"m5.5\", m5_5_model, predictor=d_neocortex_perc, kcal_per_g=d_kcal_per_g)\n",
    "    m5_5.fit()\n",
    "except Exception as e:\n",
    "    print(\"{}: {}\".format(type(e).__name__, e))"
   ]
  },
  {
   "cell_type": "markdown",
   "metadata": {},
   "source": [
    "#### Code 5.18"
   ]
  },
  {
   "cell_type": "code",
   "execution_count": 19,
   "metadata": {},
   "outputs": [
    {
     "data": {
      "text/plain": [
       "tensor([55.1600,     nan,     nan,     nan,     nan, 64.5400, 64.5400, 67.6400,\n",
       "            nan, 68.8500, 58.8500, 61.6900, 60.3200,     nan,     nan, 69.9700,\n",
       "            nan, 70.4100,     nan, 73.4000,     nan, 67.5300,     nan, 71.2600,\n",
       "        72.6000,     nan, 70.2400, 76.3000, 75.4900])"
      ]
     },
     "execution_count": 19,
     "metadata": {},
     "output_type": "execute_result"
    }
   ],
   "source": [
    "d_neocortex_perc"
   ]
  },
  {
   "cell_type": "markdown",
   "metadata": {},
   "source": [
    "#### Code 5.19"
   ]
  },
  {
   "cell_type": "code",
   "execution_count": 20,
   "metadata": {},
   "outputs": [],
   "source": [
    "isnan = torch.isnan(d_neocortex_perc)\n",
    "dcc_kcal_per_g = d_kcal_per_g[~isnan]\n",
    "dcc_mass = d_mass[~isnan]\n",
    "dcc_neocortex_perc = d_neocortex_perc[~isnan]"
   ]
  },
  {
   "cell_type": "markdown",
   "metadata": {},
   "source": [
    "#### Code 5.20"
   ]
  },
  {
   "cell_type": "code",
   "execution_count": 21,
   "metadata": {},
   "outputs": [],
   "source": [
    "pyro.set_rng_seed(9)\n",
    "m5_5 = MAP(\"m5.5b\", m5_5_model, predictor=dcc_neocortex_perc, kcal_per_g=dcc_kcal_per_g)\n",
    "m5_5.fit()"
   ]
  },
  {
   "cell_type": "markdown",
   "metadata": {},
   "source": [
    "#### Code 5.21"
   ]
  },
  {
   "cell_type": "code",
   "execution_count": 22,
   "metadata": {},
   "outputs": [
    {
     "data": {
      "text/html": [
       "<div>\n",
       "<style scoped>\n",
       "    .dataframe tbody tr th:only-of-type {\n",
       "        vertical-align: middle;\n",
       "    }\n",
       "\n",
       "    .dataframe tbody tr th {\n",
       "        vertical-align: top;\n",
       "    }\n",
       "\n",
       "    .dataframe thead th {\n",
       "        text-align: right;\n",
       "    }\n",
       "</style>\n",
       "<table border=\"1\" class=\"dataframe\">\n",
       "  <thead>\n",
       "    <tr style=\"text-align: right;\">\n",
       "      <th></th>\n",
       "      <th>Mean</th>\n",
       "      <th>StdDev</th>\n",
       "      <th>5.5%</th>\n",
       "      <th>94.5%</th>\n",
       "    </tr>\n",
       "  </thead>\n",
       "  <tbody>\n",
       "    <tr>\n",
       "      <th>a</th>\n",
       "      <td>0.353</td>\n",
       "      <td>0.471</td>\n",
       "      <td>-0.399</td>\n",
       "      <td>1.105</td>\n",
       "    </tr>\n",
       "    <tr>\n",
       "      <th>bn</th>\n",
       "      <td>0.005</td>\n",
       "      <td>0.007</td>\n",
       "      <td>-0.007</td>\n",
       "      <td>0.016</td>\n",
       "    </tr>\n",
       "    <tr>\n",
       "      <th>sigma</th>\n",
       "      <td>0.166</td>\n",
       "      <td>0.028</td>\n",
       "      <td>0.120</td>\n",
       "      <td>0.211</td>\n",
       "    </tr>\n",
       "  </tbody>\n",
       "</table>\n",
       "</div>"
      ],
      "text/plain": [
       "        Mean  StdDev   5.5%  94.5%\n",
       "a      0.353   0.471 -0.399  1.105\n",
       "bn     0.005   0.007 -0.007  0.016\n",
       "sigma  0.166   0.028  0.120  0.211"
      ]
     },
     "execution_count": 22,
     "metadata": {},
     "output_type": "execute_result"
    }
   ],
   "source": [
    "m5_5.precis(digits=3)"
   ]
  },
  {
   "cell_type": "markdown",
   "metadata": {},
   "source": [
    "#### Code 5.22"
   ]
  },
  {
   "cell_type": "code",
   "execution_count": 23,
   "metadata": {},
   "outputs": [
    {
     "data": {
      "text/plain": [
       "tensor(0.0947)"
      ]
     },
     "execution_count": 23,
     "metadata": {},
     "output_type": "execute_result"
    }
   ],
   "source": [
    "m5_5.coef()[\"bn\"] * (76 - 55)"
   ]
  },
  {
   "cell_type": "markdown",
   "metadata": {},
   "source": [
    "#### Code 5.23"
   ]
  },
  {
   "cell_type": "code",
   "execution_count": 24,
   "metadata": {},
   "outputs": [
    {
     "data": {
      "image/png": "[encoded data removed]",
      "text/plain": [
       "<Figure size 432x288 with 1 Axes>"
      ]
     },
     "metadata": {
      "needs_background": "light"
     },
     "output_type": "display_data"
    }
   ],
   "source": [
    "np_seq = torch.arange(100.)\n",
    "pred_data = {\"predictor\": np_seq}\n",
    "\n",
    "mu = m5_5.link(n=int(1e4), **pred_data)\n",
    "mu_mean = mu.mean(0)\n",
    "mu_PI = PI(mu, dim=0)\n",
    "\n",
    "plt.plot(dcc_neocortex_perc.tolist(), dcc_kcal_per_g.tolist(), \"o\", c=\"royalblue\",\n",
    "         fillstyle=\"none\")\n",
    "plt.xlabel(\"neocortex.perc\")\n",
    "plt.ylabel(\"kcal.per.g\")\n",
    "plt.plot(np_seq[54:78].tolist(), mu_mean[54:78].tolist(), \"k\")\n",
    "plt.plot(np_seq[54:78].tolist(), mu_PI[0, 54:78].tolist(), \"k--\")\n",
    "plt.plot(np_seq[54:78].tolist(), mu_PI[1, 54:78].tolist(), \"k--\");"
   ]
  },
  {
   "cell_type": "markdown",
   "metadata": {},
   "source": [
    "#### Code 5.24"
   ]
  },
  {
   "cell_type": "code",
   "execution_count": 25,
   "metadata": {},
   "outputs": [],
   "source": [
    "dcc_log_mass = dcc_mass.log()"
   ]
  },
  {
   "cell_type": "markdown",
   "metadata": {},
   "source": [
    "#### Code 5.25"
   ]
  },
  {
   "cell_type": "code",
   "execution_count": 26,
   "metadata": {},
   "outputs": [
    {
     "data": {
      "text/html": [
       "<div>\n",
       "<style scoped>\n",
       "    .dataframe tbody tr th:only-of-type {\n",
       "        vertical-align: middle;\n",
       "    }\n",
       "\n",
       "    .dataframe tbody tr th {\n",
       "        vertical-align: top;\n",
       "    }\n",
       "\n",
       "    .dataframe thead th {\n",
       "        text-align: right;\n",
       "    }\n",
       "</style>\n",
       "<table border=\"1\" class=\"dataframe\">\n",
       "  <thead>\n",
       "    <tr style=\"text-align: right;\">\n",
       "      <th></th>\n",
       "      <th>Mean</th>\n",
       "      <th>StdDev</th>\n",
       "      <th>5.5%</th>\n",
       "      <th>94.5%</th>\n",
       "    </tr>\n",
       "  </thead>\n",
       "  <tbody>\n",
       "    <tr>\n",
       "      <th>a</th>\n",
       "      <td>0.71</td>\n",
       "      <td>0.05</td>\n",
       "      <td>0.63</td>\n",
       "      <td>0.78</td>\n",
       "    </tr>\n",
       "    <tr>\n",
       "      <th>bn</th>\n",
       "      <td>-0.03</td>\n",
       "      <td>0.02</td>\n",
       "      <td>-0.06</td>\n",
       "      <td>0.00</td>\n",
       "    </tr>\n",
       "    <tr>\n",
       "      <th>sigma</th>\n",
       "      <td>0.16</td>\n",
       "      <td>0.03</td>\n",
       "      <td>0.11</td>\n",
       "      <td>0.20</td>\n",
       "    </tr>\n",
       "  </tbody>\n",
       "</table>\n",
       "</div>"
      ],
      "text/plain": [
       "       Mean  StdDev  5.5%  94.5%\n",
       "a      0.71    0.05  0.63   0.78\n",
       "bn    -0.03    0.02 -0.06   0.00\n",
       "sigma  0.16    0.03  0.11   0.20"
      ]
     },
     "execution_count": 26,
     "metadata": {},
     "output_type": "execute_result"
    }
   ],
   "source": [
    "pyro.set_rng_seed(2)\n",
    "m5_6 = MAP(\"m5.6\", m5_5_model, predictor=dcc_log_mass, kcal_per_g=dcc_kcal_per_g)\n",
    "m5_6.fit()\n",
    "m5_6.precis()"
   ]
  },
  {
   "cell_type": "markdown",
   "metadata": {},
   "source": [
    "#### Code 5.26"
   ]
  },
  {
   "cell_type": "code",
   "execution_count": 27,
   "metadata": {},
   "outputs": [
    {
     "data": {
      "text/html": [
       "<div>\n",
       "<style scoped>\n",
       "    .dataframe tbody tr th:only-of-type {\n",
       "        vertical-align: middle;\n",
       "    }\n",
       "\n",
       "    .dataframe tbody tr th {\n",
       "        vertical-align: top;\n",
       "    }\n",
       "\n",
       "    .dataframe thead th {\n",
       "        text-align: right;\n",
       "    }\n",
       "</style>\n",
       "<table border=\"1\" class=\"dataframe\">\n",
       "  <thead>\n",
       "    <tr style=\"text-align: right;\">\n",
       "      <th></th>\n",
       "      <th>Mean</th>\n",
       "      <th>StdDev</th>\n",
       "      <th>5.5%</th>\n",
       "      <th>94.5%</th>\n",
       "    </tr>\n",
       "  </thead>\n",
       "  <tbody>\n",
       "    <tr>\n",
       "      <th>a</th>\n",
       "      <td>-1.08</td>\n",
       "      <td>0.47</td>\n",
       "      <td>-1.83</td>\n",
       "      <td>-0.34</td>\n",
       "    </tr>\n",
       "    <tr>\n",
       "      <th>bn</th>\n",
       "      <td>0.03</td>\n",
       "      <td>0.01</td>\n",
       "      <td>0.02</td>\n",
       "      <td>0.04</td>\n",
       "    </tr>\n",
       "    <tr>\n",
       "      <th>bm</th>\n",
       "      <td>-0.10</td>\n",
       "      <td>0.02</td>\n",
       "      <td>-0.13</td>\n",
       "      <td>-0.06</td>\n",
       "    </tr>\n",
       "    <tr>\n",
       "      <th>sigma</th>\n",
       "      <td>0.11</td>\n",
       "      <td>0.02</td>\n",
       "      <td>0.08</td>\n",
       "      <td>0.15</td>\n",
       "    </tr>\n",
       "  </tbody>\n",
       "</table>\n",
       "</div>"
      ],
      "text/plain": [
       "       Mean  StdDev  5.5%  94.5%\n",
       "a     -1.08    0.47 -1.83  -0.34\n",
       "bn     0.03    0.01  0.02   0.04\n",
       "bm    -0.10    0.02 -0.13  -0.06\n",
       "sigma  0.11    0.02  0.08   0.15"
      ]
     },
     "execution_count": 27,
     "metadata": {},
     "output_type": "execute_result"
    }
   ],
   "source": [
    "def m5_7_model(neocortex_perc, log_mass, kcal_per_g):\n",
    "    a = pyro.sample(\"a\", dist.Normal(0, 100))\n",
    "    bn = pyro.sample(\"bn\", dist.Normal(0, 1))\n",
    "    bm = pyro.sample(\"bm\", dist.Normal(0, 1))\n",
    "    mu = a + bn * neocortex_perc + bm * log_mass\n",
    "    sigma = pyro.sample(\"sigma\", dist.Uniform(0, 1))\n",
    "    with pyro.plate(\"plate\"):\n",
    "        pyro.sample(\"kcal.per.g\", dist.Normal(mu, sigma), obs=kcal_per_g)\n",
    "\n",
    "pyro.set_rng_seed(9)\n",
    "m5_7 = MAP(\"m5.7\", m5_7_model, neocortex_perc=dcc_neocortex_perc,\n",
    "           log_mass=dcc_log_mass, kcal_per_g=dcc_kcal_per_g)\n",
    "m5_7.fit()\n",
    "m5_7.precis()"
   ]
  },
  {
   "cell_type": "markdown",
   "metadata": {},
   "source": [
    "#### Code 5.27"
   ]
  },
  {
   "cell_type": "code",
   "execution_count": 28,
   "metadata": {},
   "outputs": [
    {
     "data": {
      "image/png": "[encoded data removed]",
      "text/plain": [
       "<Figure size 432x288 with 1 Axes>"
      ]
     },
     "metadata": {
      "needs_background": "light"
     },
     "output_type": "display_data"
    }
   ],
   "source": [
    "mean_log_mass = dcc_mass.log().mean()\n",
    "np_seq = torch.arange(100.)\n",
    "pred_data = {\"neocortex_perc\": np_seq, \"log_mass\": mean_log_mass.repeat(100)}\n",
    "\n",
    "mu = m5_7.link(n=int(1e4), **pred_data)\n",
    "mu_mean = mu.mean(0)\n",
    "mu_PI = PI(mu, dim=0)\n",
    "\n",
    "plt.plot(dcc_neocortex_perc.tolist(), dcc_kcal_per_g.tolist(), \"o\", visible=False)\n",
    "plt.xlabel(\"neocortex.perc\")\n",
    "plt.ylabel(\"kcal.per.g\")\n",
    "plt.plot(np_seq[54:78].tolist(), mu_mean[54:78].tolist(), \"k\")\n",
    "plt.plot(np_seq[54:78].tolist(), mu_PI[0, 54:78].tolist(), \"k--\")\n",
    "plt.plot(np_seq[54:78].tolist(), mu_PI[1, 54:78].tolist(), \"k--\");"
   ]
  },
  {
   "cell_type": "markdown",
   "metadata": {},
   "source": [
    "#### Code 5.28"
   ]
  },
  {
   "cell_type": "code",
   "execution_count": 29,
   "metadata": {},
   "outputs": [],
   "source": [
    "N = 100  # number of cases\n",
    "rho = 0.7  # correlation btw x_pos and x_neg\n",
    "x_pos = torch.randn(N)  # x_pos as Gaussian\n",
    "# x_neg correlated with x_pos\n",
    "x_neg = dist.Normal(rho * x_pos, (1 - rho**2) ** 0.5).sample()\n",
    "y = dist.Normal(x_pos - x_neg, 1).sample()  # y equally associated with x_pos, x_neg\n",
    "d = pd.DataFrame({\"y\": y, \"x_pos\": x_pos, \"x_neg\": x_neg})"
   ]
  },
  {
   "cell_type": "markdown",
   "metadata": {},
   "source": [
    "#### Code 5.29"
   ]
  },
  {
   "cell_type": "code",
   "execution_count": 30,
   "metadata": {},
   "outputs": [],
   "source": [
    "N = 100  # number of individuals\n",
    "height = torch.empty(N).normal_(10, 2)  # sim total height of each\n",
    "leg_prop = torch.empty(N).uniform_(0.4, 0.5)  # leg as proportion of height\n",
    "# sim left leg as proportion + error\n",
    "leg_left = leg_prop * height + torch.empty(N).normal_(0, 0.02)\n",
    "# sim right leg as proportion + error\n",
    "leg_right = leg_prop * height + torch.empty(N).normal_(0, 0.02)\n",
    "# combine into data dict\n",
    "d = {\"height\": height, \"leg_left\": leg_left, \"leg_right\": leg_right}"
   ]
  },
  {
   "cell_type": "markdown",
   "metadata": {},
   "source": [
    "#### Code 5.30"
   ]
  },
  {
   "cell_type": "code",
   "execution_count": 31,
   "metadata": {},
   "outputs": [
    {
     "data": {
      "text/html": [
       "<div>\n",
       "<style scoped>\n",
       "    .dataframe tbody tr th:only-of-type {\n",
       "        vertical-align: middle;\n",
       "    }\n",
       "\n",
       "    .dataframe tbody tr th {\n",
       "        vertical-align: top;\n",
       "    }\n",
       "\n",
       "    .dataframe thead th {\n",
       "        text-align: right;\n",
       "    }\n",
       "</style>\n",
       "<table border=\"1\" class=\"dataframe\">\n",
       "  <thead>\n",
       "    <tr style=\"text-align: right;\">\n",
       "      <th></th>\n",
       "      <th>Mean</th>\n",
       "      <th>StdDev</th>\n",
       "      <th>5.5%</th>\n",
       "      <th>94.5%</th>\n",
       "    </tr>\n",
       "  </thead>\n",
       "  <tbody>\n",
       "    <tr>\n",
       "      <th>a</th>\n",
       "      <td>0.81</td>\n",
       "      <td>0.31</td>\n",
       "      <td>0.32</td>\n",
       "      <td>1.31</td>\n",
       "    </tr>\n",
       "    <tr>\n",
       "      <th>bl</th>\n",
       "      <td>2.55</td>\n",
       "      <td>2.02</td>\n",
       "      <td>-0.68</td>\n",
       "      <td>5.78</td>\n",
       "    </tr>\n",
       "    <tr>\n",
       "      <th>br</th>\n",
       "      <td>-0.50</td>\n",
       "      <td>2.02</td>\n",
       "      <td>-3.73</td>\n",
       "      <td>2.73</td>\n",
       "    </tr>\n",
       "    <tr>\n",
       "      <th>sigma</th>\n",
       "      <td>0.62</td>\n",
       "      <td>0.04</td>\n",
       "      <td>0.55</td>\n",
       "      <td>0.69</td>\n",
       "    </tr>\n",
       "  </tbody>\n",
       "</table>\n",
       "</div>"
      ],
      "text/plain": [
       "       Mean  StdDev  5.5%  94.5%\n",
       "a      0.81    0.31  0.32   1.31\n",
       "bl     2.55    2.02 -0.68   5.78\n",
       "br    -0.50    2.02 -3.73   2.73\n",
       "sigma  0.62    0.04  0.55   0.69"
      ]
     },
     "execution_count": 31,
     "metadata": {},
     "output_type": "execute_result"
    }
   ],
   "source": [
    "def m5_8_model(leg_left, leg_right, height):\n",
    "    a = pyro.sample(\"a\", dist.Normal(10, 100))\n",
    "    bl = pyro.sample(\"bl\", dist.Normal(2, 10))\n",
    "    br = pyro.sample(\"br\", dist.Normal(2, 10))\n",
    "    mu = a + bl * leg_left + br * leg_right\n",
    "    sigma = pyro.sample(\"sigma\", dist.Uniform(0, 10))\n",
    "    with pyro.plate(\"plate\"):\n",
    "        pyro.sample(\"height\", dist.Normal(mu, sigma), obs=height)\n",
    "\n",
    "m5_8 = MAP(\"m5.8\", m5_8_model, **d)\n",
    "m5_8.fit()\n",
    "m5_8.precis()"
   ]
  },
  {
   "cell_type": "markdown",
   "metadata": {},
   "source": [
    "#### Code 5.31"
   ]
  },
  {
   "cell_type": "code",
   "execution_count": 32,
   "metadata": {},
   "outputs": [
    {
     "data": {
      "image/png": "[encoded data removed]",
      "text/plain": [
       "<Figure size 432x288 with 1 Axes>"
      ]
     },
     "metadata": {
      "needs_background": "light"
     },
     "output_type": "display_data"
    }
   ],
   "source": [
    "m5_8.precis_plot()"
   ]
  },
  {
   "cell_type": "markdown",
   "metadata": {},
   "source": [
    "#### Code 5.32"
   ]
  },
  {
   "cell_type": "code",
   "execution_count": 33,
   "metadata": {},
   "outputs": [
    {
     "data": {
      "image/png": "[encoded data removed]",
      "text/plain": [
       "<Figure size 432x288 with 1 Axes>"
      ]
     },
     "metadata": {
      "needs_background": "light"
     },
     "output_type": "display_data"
    }
   ],
   "source": [
    "post = m5_8.extract_samples()\n",
    "plt.plot(post[\"br\"].tolist(), post[\"bl\"].tolist(), \"o\", c=\"royalblue\", alpha=0.1)\n",
    "plt.xlabel(\"br\")\n",
    "plt.ylabel(\"bl\");"
   ]
  },
  {
   "cell_type": "markdown",
   "metadata": {},
   "source": [
    "#### Code 5.33"
   ]
  },
  {
   "cell_type": "code",
   "execution_count": 34,
   "metadata": {},
   "outputs": [
    {
     "data": {
      "image/png": "[encoded data removed]",
      "text/plain": [
       "<Figure size 432x288 with 1 Axes>"
      ]
     },
     "metadata": {
      "needs_background": "light"
     },
     "output_type": "display_data"
    }
   ],
   "source": [
    "sum_blbr = post[\"bl\"] + post[\"br\"]\n",
    "dens(sum_blbr, c=\"royalblue\", lw=2, xlab=\"sum of bl and br\")"
   ]
  },
  {
   "cell_type": "markdown",
   "metadata": {},
   "source": [
    "#### Code 5.34"
   ]
  },
  {
   "cell_type": "code",
   "execution_count": 35,
   "metadata": {},
   "outputs": [
    {
     "data": {
      "text/html": [
       "<div>\n",
       "<style scoped>\n",
       "    .dataframe tbody tr th:only-of-type {\n",
       "        vertical-align: middle;\n",
       "    }\n",
       "\n",
       "    .dataframe tbody tr th {\n",
       "        vertical-align: top;\n",
       "    }\n",
       "\n",
       "    .dataframe thead th {\n",
       "        text-align: right;\n",
       "    }\n",
       "</style>\n",
       "<table border=\"1\" class=\"dataframe\">\n",
       "  <thead>\n",
       "    <tr style=\"text-align: right;\">\n",
       "      <th></th>\n",
       "      <th>Mean</th>\n",
       "      <th>StdDev</th>\n",
       "      <th>5.5%</th>\n",
       "      <th>94.5%</th>\n",
       "    </tr>\n",
       "  </thead>\n",
       "  <tbody>\n",
       "    <tr>\n",
       "      <th>a</th>\n",
       "      <td>0.82</td>\n",
       "      <td>0.31</td>\n",
       "      <td>0.32</td>\n",
       "      <td>1.32</td>\n",
       "    </tr>\n",
       "    <tr>\n",
       "      <th>bl</th>\n",
       "      <td>2.05</td>\n",
       "      <td>0.07</td>\n",
       "      <td>1.94</td>\n",
       "      <td>2.15</td>\n",
       "    </tr>\n",
       "    <tr>\n",
       "      <th>sigma</th>\n",
       "      <td>0.62</td>\n",
       "      <td>0.04</td>\n",
       "      <td>0.55</td>\n",
       "      <td>0.69</td>\n",
       "    </tr>\n",
       "  </tbody>\n",
       "</table>\n",
       "</div>"
      ],
      "text/plain": [
       "       Mean  StdDev  5.5%  94.5%\n",
       "a      0.82    0.31  0.32   1.32\n",
       "bl     2.05    0.07  1.94   2.15\n",
       "sigma  0.62    0.04  0.55   0.69"
      ]
     },
     "execution_count": 35,
     "metadata": {},
     "output_type": "execute_result"
    }
   ],
   "source": [
    "def m5_9_model(leg_left, height):\n",
    "    a = pyro.sample(\"a\", dist.Normal(10, 100))\n",
    "    bl = pyro.sample(\"bl\", dist.Normal(2, 10))\n",
    "    mu = a + bl * leg_left\n",
    "    sigma = pyro.sample(\"sigma\", dist.Uniform(0, 10))\n",
    "    with pyro.plate(\"plate\"):\n",
    "        pyro.sample(\"height\", dist.Normal(mu, sigma), obs=height)\n",
    "\n",
    "pyro.set_rng_seed(7)\n",
    "m5_9 = MAP(\"m5.9\", m5_9_model, leg_left=leg_left, height=height)\n",
    "m5_9.fit()\n",
    "m5_9.precis()"
   ]
  },
  {
   "cell_type": "markdown",
   "metadata": {},
   "source": [
    "#### Code 5.35"
   ]
  },
  {
   "cell_type": "code",
   "execution_count": 36,
   "metadata": {},
   "outputs": [],
   "source": [
    "milk = pd.read_csv(\"../data/milk.csv\", sep=\";\")\n",
    "d = milk\n",
    "d_perc_fat = torch.tensor(d[\"perc.fat\"].values, dtype=torch.float)\n",
    "d_kcal_per_g = torch.tensor(d[\"kcal.per.g\"].values, dtype=torch.float)\n",
    "d_perc_lactose = torch.tensor(d[\"perc.lactose\"].values, dtype=torch.float)"
   ]
  },
  {
   "cell_type": "markdown",
   "metadata": {},
   "source": [
    "#### Code 5.36"
   ]
  },
  {
   "cell_type": "code",
   "execution_count": 37,
   "metadata": {},
   "outputs": [
    {
     "name": "stdout",
     "output_type": "stream",
     "text": [
      "        Mean  StdDev   5.5%  94.5%\n",
      "a      0.301   0.036  0.244  0.358\n",
      "bf     0.010   0.001  0.008  0.012\n",
      "sigma  0.073   0.010  0.058  0.089\n",
      "        Mean  StdDev   5.5%  94.5%\n",
      "a      1.166   0.043  1.098  1.235\n",
      "bf    -0.011   0.001 -0.012 -0.009\n",
      "sigma  0.062   0.008  0.049  0.075\n"
     ]
    }
   ],
   "source": [
    "# kcal.per.g regressed on perc.fat\n",
    "def m5_10_model(predictor, kcal_per_g):\n",
    "    a = pyro.sample(\"a\", dist.Normal(0.6, 10))\n",
    "    bf = pyro.sample(\"bf\", dist.Normal(0, 1))\n",
    "    mu = a + bf * predictor\n",
    "    sigma = pyro.sample(\"sigma\", dist.Uniform(0, 10))\n",
    "    with pyro.plate(\"plate\"):\n",
    "        pyro.sample(\"kcal.per.g\", dist.Normal(mu, sigma), obs=kcal_per_g)\n",
    "\n",
    "m5_10 = MAP(\"m5.10\", m5_10_model, predictor=d_perc_fat, kcal_per_g=d_kcal_per_g)\n",
    "m5_10.fit()\n",
    "\n",
    "# kcal.per.g regressed on perc.lactose\n",
    "pyro.set_rng_seed(2)\n",
    "m5_11 = MAP(\"m5.11\", m5_10_model, predictor=d_perc_lactose, kcal_per_g=d_kcal_per_g)\n",
    "m5_11.fit()\n",
    "\n",
    "print(m5_10.precis(digits=3))\n",
    "print(m5_11.precis(digits=3))"
   ]
  },
  {
   "cell_type": "markdown",
   "metadata": {},
   "source": [
    "#### Code 5.37"
   ]
  },
  {
   "cell_type": "code",
   "execution_count": 38,
   "metadata": {},
   "outputs": [
    {
     "data": {
      "text/html": [
       "<div>\n",
       "<style scoped>\n",
       "    .dataframe tbody tr th:only-of-type {\n",
       "        vertical-align: middle;\n",
       "    }\n",
       "\n",
       "    .dataframe tbody tr th {\n",
       "        vertical-align: top;\n",
       "    }\n",
       "\n",
       "    .dataframe thead th {\n",
       "        text-align: right;\n",
       "    }\n",
       "</style>\n",
       "<table border=\"1\" class=\"dataframe\">\n",
       "  <thead>\n",
       "    <tr style=\"text-align: right;\">\n",
       "      <th></th>\n",
       "      <th>Mean</th>\n",
       "      <th>StdDev</th>\n",
       "      <th>5.5%</th>\n",
       "      <th>94.5%</th>\n",
       "    </tr>\n",
       "  </thead>\n",
       "  <tbody>\n",
       "    <tr>\n",
       "      <th>a</th>\n",
       "      <td>1.008</td>\n",
       "      <td>0.200</td>\n",
       "      <td>0.688</td>\n",
       "      <td>1.327</td>\n",
       "    </tr>\n",
       "    <tr>\n",
       "      <th>bf</th>\n",
       "      <td>0.002</td>\n",
       "      <td>0.002</td>\n",
       "      <td>-0.002</td>\n",
       "      <td>0.006</td>\n",
       "    </tr>\n",
       "    <tr>\n",
       "      <th>bl</th>\n",
       "      <td>-0.009</td>\n",
       "      <td>0.002</td>\n",
       "      <td>-0.013</td>\n",
       "      <td>-0.005</td>\n",
       "    </tr>\n",
       "    <tr>\n",
       "      <th>sigma</th>\n",
       "      <td>0.061</td>\n",
       "      <td>0.008</td>\n",
       "      <td>0.048</td>\n",
       "      <td>0.074</td>\n",
       "    </tr>\n",
       "  </tbody>\n",
       "</table>\n",
       "</div>"
      ],
      "text/plain": [
       "        Mean  StdDev   5.5%  94.5%\n",
       "a      1.008   0.200  0.688  1.327\n",
       "bf     0.002   0.002 -0.002  0.006\n",
       "bl    -0.009   0.002 -0.013 -0.005\n",
       "sigma  0.061   0.008  0.048  0.074"
      ]
     },
     "execution_count": 38,
     "metadata": {},
     "output_type": "execute_result"
    }
   ],
   "source": [
    "def m5_12_model(perc_fat, perc_lactose, kcal_per_g):\n",
    "    a = pyro.sample(\"a\", dist.Normal(0.6, 10))\n",
    "    bf = pyro.sample(\"bf\", dist.Normal(0, 1))\n",
    "    bl = pyro.sample(\"bl\", dist.Normal(0, 1))\n",
    "    mu = a + bf * perc_fat + bl * perc_lactose\n",
    "    sigma = pyro.sample(\"sigma\", dist.Uniform(0, 10))\n",
    "    with pyro.plate(\"plate\"):\n",
    "        pyro.sample(\"kcal.per.g\", dist.Normal(mu, sigma), obs=kcal_per_g)\n",
    "\n",
    "pyro.set_rng_seed(1)\n",
    "m5_12 = MAP(\"m5.12\", m5_12_model, perc_fat=d_perc_fat,\n",
    "            perc_lactose=d_perc_lactose, kcal_per_g=d_kcal_per_g)\n",
    "m5_12.fit()\n",
    "m5_12.precis(digits=3)"
   ]
  },
  {
   "cell_type": "markdown",
   "metadata": {},
   "source": [
    "#### Code 5.38"
   ]
  },
  {
   "cell_type": "code",
   "execution_count": 39,
   "metadata": {},
   "outputs": [
    {
     "data": {
      "image/png": "[encoded data removed]",
      "text/plain": [
       "<Figure size 432x288 with 9 Axes>"
      ]
     },
     "metadata": {
      "needs_background": "light"
     },
     "output_type": "display_data"
    }
   ],
   "source": [
    "axes = pd.plotting.scatter_matrix(d[[\"kcal.per.g\", \"perc.fat\", \"perc.lactose\"]],\n",
    "                                  marker=\"o\", facecolors=\"none\", edgecolor=\"royalblue\")\n",
    "axes[0][0].set_yticklabels([0.6, 0.8]);"
   ]
  },
  {
   "cell_type": "markdown",
   "metadata": {},
   "source": [
    "#### Code 5.39"
   ]
  },
  {
   "cell_type": "code",
   "execution_count": 40,
   "metadata": {},
   "outputs": [
    {
     "data": {
      "text/plain": [
       "tensor(-0.9416)"
      ]
     },
     "execution_count": 40,
     "metadata": {},
     "output_type": "execute_result"
    }
   ],
   "source": [
    "d_perc_fat_s = (d_perc_fat - d_perc_fat.mean()) / d_perc_fat.std()\n",
    "d_perc_lactose_s = (d_perc_lactose - d_perc_lactose.mean()) / d_perc_lactose.std()\n",
    "d_perc_fat_s.dot(d_perc_lactose_s) / (d_perc_fat_s.size(0) - 1)"
   ]
  },
  {
   "cell_type": "markdown",
   "metadata": {},
   "source": [
    "#### Code 5.40"
   ]
  },
  {
   "cell_type": "code",
   "execution_count": 41,
   "metadata": {},
   "outputs": [
    {
     "data": {
      "image/png": "[encoded data removed]",
      "text/plain": [
       "<Figure size 432x288 with 1 Axes>"
      ]
     },
     "metadata": {
      "needs_background": "light"
     },
     "output_type": "display_data"
    }
   ],
   "source": [
    "milk = pd.read_csv(\"../data/milk.csv\", sep=\";\")\n",
    "d = milk\n",
    "d_perc_fat = torch.tensor(d[\"perc.fat\"].values, dtype=torch.float)\n",
    "d_kcal_per_g = torch.tensor(d[\"kcal.per.g\"].values, dtype=torch.float)\n",
    "\n",
    "def sim_coll(r=0.9, i=0):\n",
    "    d_x = dist.Normal(loc=(r * d_perc_fat),\n",
    "                      scale=((1 - r**2) * d_perc_fat.std()).sqrt()).sample()\n",
    "    m = LM(\"m_r{}_{}\".format(r, i), perc_fat=d_perc_fat, x=d_x, kcal_per_g=d_kcal_per_g)\n",
    "    m.fit(lr=1)\n",
    "    return m.vcov().diag().sqrt()[1]  # stddev of parameter\n",
    "\n",
    "def rep_sim_coll(r=0.9, n=100):\n",
    "    stddev = torch.stack([sim_coll(r, i) for i in range(n)])\n",
    "    return stddev.mean()\n",
    "\n",
    "r_seq = torch.arange(start=0, end=1, step=0.01)\n",
    "stddev = [rep_sim_coll(r=z, n=100) for z in r_seq]\n",
    "plt.plot(r_seq.tolist(), stddev, c=\"royalblue\", lw=2)\n",
    "plt.xlabel(\"correlation\")\n",
    "plt.ylabel(\"stddev\");"
   ]
  },
  {
   "cell_type": "markdown",
   "metadata": {},
   "source": [
    "#### Code 5.41"
   ]
  },
  {
   "cell_type": "code",
   "execution_count": 42,
   "metadata": {},
   "outputs": [],
   "source": [
    "# number of plants\n",
    "N = 100\n",
    "\n",
    "# simulate initial heights\n",
    "pyro.set_rng_seed(1)\n",
    "h0 = torch.empty(N).normal_(10, 2)\n",
    "\n",
    "# assign treatments and simulate fungus and growth\n",
    "treatment = torch.tensor([[0.], [1]]).repeat(1, N // 2).reshape(-1)\n",
    "fungus = dist.Binomial(total_count=1, probs=(0.5 - treatment * 0.4)).sample()\n",
    "h1 = h0 + dist.Normal(5 - 3 * fungus, 1).sample()\n",
    "\n",
    "# compose a clean data dict\n",
    "d = {\"h0\": h0, \"h1\": h1, \"treatment\": treatment, \"fungus\": fungus}"
   ]
  },
  {
   "cell_type": "markdown",
   "metadata": {},
   "source": [
    "#### Code 5.42"
   ]
  },
  {
   "cell_type": "code",
   "execution_count": 43,
   "metadata": {},
   "outputs": [
    {
     "data": {
      "text/html": [
       "<div>\n",
       "<style scoped>\n",
       "    .dataframe tbody tr th:only-of-type {\n",
       "        vertical-align: middle;\n",
       "    }\n",
       "\n",
       "    .dataframe tbody tr th {\n",
       "        vertical-align: top;\n",
       "    }\n",
       "\n",
       "    .dataframe thead th {\n",
       "        text-align: right;\n",
       "    }\n",
       "</style>\n",
       "<table border=\"1\" class=\"dataframe\">\n",
       "  <thead>\n",
       "    <tr style=\"text-align: right;\">\n",
       "      <th></th>\n",
       "      <th>Mean</th>\n",
       "      <th>StdDev</th>\n",
       "      <th>5.5%</th>\n",
       "      <th>94.5%</th>\n",
       "    </tr>\n",
       "  </thead>\n",
       "  <tbody>\n",
       "    <tr>\n",
       "      <th>a</th>\n",
       "      <td>5.37</td>\n",
       "      <td>0.54</td>\n",
       "      <td>4.50</td>\n",
       "      <td>6.24</td>\n",
       "    </tr>\n",
       "    <tr>\n",
       "      <th>bh</th>\n",
       "      <td>0.97</td>\n",
       "      <td>0.05</td>\n",
       "      <td>0.89</td>\n",
       "      <td>1.06</td>\n",
       "    </tr>\n",
       "    <tr>\n",
       "      <th>bt</th>\n",
       "      <td>-0.11</td>\n",
       "      <td>0.23</td>\n",
       "      <td>-0.48</td>\n",
       "      <td>0.26</td>\n",
       "    </tr>\n",
       "    <tr>\n",
       "      <th>bf</th>\n",
       "      <td>-3.09</td>\n",
       "      <td>0.26</td>\n",
       "      <td>-3.51</td>\n",
       "      <td>-2.67</td>\n",
       "    </tr>\n",
       "    <tr>\n",
       "      <th>sigma</th>\n",
       "      <td>1.02</td>\n",
       "      <td>0.07</td>\n",
       "      <td>0.91</td>\n",
       "      <td>1.14</td>\n",
       "    </tr>\n",
       "  </tbody>\n",
       "</table>\n",
       "</div>"
      ],
      "text/plain": [
       "       Mean  StdDev  5.5%  94.5%\n",
       "a      5.37    0.54  4.50   6.24\n",
       "bh     0.97    0.05  0.89   1.06\n",
       "bt    -0.11    0.23 -0.48   0.26\n",
       "bf    -3.09    0.26 -3.51  -2.67\n",
       "sigma  1.02    0.07  0.91   1.14"
      ]
     },
     "execution_count": 43,
     "metadata": {},
     "output_type": "execute_result"
    }
   ],
   "source": [
    "def m5_13_model(h0, treatment, fungus, h1):\n",
    "    a = pyro.sample(\"a\", dist.Normal(0, 100))\n",
    "    bh = pyro.sample(\"bh\", dist.Normal(0, 10))\n",
    "    bt = pyro.sample(\"bt\", dist.Normal(0, 10))\n",
    "    bf = pyro.sample(\"bf\", dist.Normal(0, 10))\n",
    "    mu = a + bh * h0 + bt * treatment + bf * fungus\n",
    "    sigma = pyro.sample(\"sigma\", dist.Uniform(0, 10))\n",
    "    with pyro.plate(\"plate\"):\n",
    "        pyro.sample(\"h1\", dist.Normal(mu, sigma), obs=h1)\n",
    "\n",
    "m5_13 = MAP(\"m5.13\", m5_13_model, **d)\n",
    "m5_13.fit()\n",
    "m5_13.precis()"
   ]
  },
  {
   "cell_type": "markdown",
   "metadata": {},
   "source": [
    "#### Code 5.43"
   ]
  },
  {
   "cell_type": "code",
   "execution_count": 44,
   "metadata": {},
   "outputs": [
    {
     "data": {
      "text/html": [
       "<div>\n",
       "<style scoped>\n",
       "    .dataframe tbody tr th:only-of-type {\n",
       "        vertical-align: middle;\n",
       "    }\n",
       "\n",
       "    .dataframe tbody tr th {\n",
       "        vertical-align: top;\n",
       "    }\n",
       "\n",
       "    .dataframe thead th {\n",
       "        text-align: right;\n",
       "    }\n",
       "</style>\n",
       "<table border=\"1\" class=\"dataframe\">\n",
       "  <thead>\n",
       "    <tr style=\"text-align: right;\">\n",
       "      <th></th>\n",
       "      <th>Mean</th>\n",
       "      <th>StdDev</th>\n",
       "      <th>5.5%</th>\n",
       "      <th>94.5%</th>\n",
       "    </tr>\n",
       "  </thead>\n",
       "  <tbody>\n",
       "    <tr>\n",
       "      <th>a</th>\n",
       "      <td>4.04</td>\n",
       "      <td>0.82</td>\n",
       "      <td>2.73</td>\n",
       "      <td>5.35</td>\n",
       "    </tr>\n",
       "    <tr>\n",
       "      <th>bh</th>\n",
       "      <td>0.96</td>\n",
       "      <td>0.08</td>\n",
       "      <td>0.83</td>\n",
       "      <td>1.09</td>\n",
       "    </tr>\n",
       "    <tr>\n",
       "      <th>bt</th>\n",
       "      <td>1.18</td>\n",
       "      <td>0.32</td>\n",
       "      <td>0.67</td>\n",
       "      <td>1.69</td>\n",
       "    </tr>\n",
       "    <tr>\n",
       "      <th>sigma</th>\n",
       "      <td>1.58</td>\n",
       "      <td>0.11</td>\n",
       "      <td>1.41</td>\n",
       "      <td>1.76</td>\n",
       "    </tr>\n",
       "  </tbody>\n",
       "</table>\n",
       "</div>"
      ],
      "text/plain": [
       "       Mean  StdDev  5.5%  94.5%\n",
       "a      4.04    0.82  2.73   5.35\n",
       "bh     0.96    0.08  0.83   1.09\n",
       "bt     1.18    0.32  0.67   1.69\n",
       "sigma  1.58    0.11  1.41   1.76"
      ]
     },
     "execution_count": 44,
     "metadata": {},
     "output_type": "execute_result"
    }
   ],
   "source": [
    "def m5_14_model(h0, treatment, h1):\n",
    "    a = pyro.sample(\"a\", dist.Normal(0, 100))\n",
    "    bh = pyro.sample(\"bh\", dist.Normal(0, 10))\n",
    "    bt = pyro.sample(\"bt\", dist.Normal(0, 10))\n",
    "    mu = a + bh * h0 + bt * treatment\n",
    "    sigma = pyro.sample(\"sigma\", dist.Uniform(0, 10))\n",
    "    with pyro.plate(\"plate\"):\n",
    "        pyro.sample(\"h1\", dist.Normal(mu, sigma), obs=h1)\n",
    "\n",
    "m5_14 = MAP(\"m5.14\", m5_14_model, h0=h0, treatment=treatment, h1=h1)\n",
    "m5_14.fit()\n",
    "m5_14.precis()"
   ]
  },
  {
   "cell_type": "markdown",
   "metadata": {},
   "source": [
    "#### Code 5.44"
   ]
  },
  {
   "cell_type": "code",
   "execution_count": 45,
   "metadata": {},
   "outputs": [
    {
     "name": "stdout",
     "output_type": "stream",
     "text": [
      "<class 'pandas.core.frame.DataFrame'>\n",
      "RangeIndex: 544 entries, 0 to 543\n",
      "Data columns (total 4 columns):\n",
      "height    544 non-null float64\n",
      "weight    544 non-null float64\n",
      "age       544 non-null float64\n",
      "male      544 non-null int64\n",
      "dtypes: float64(3), int64(1)\n",
      "memory usage: 17.1 KB\n",
      "None\n",
      "    height     weight   age  male\n",
      "0  151.765  47.825606  63.0     1\n",
      "1  139.700  36.485807  63.0     0\n",
      "2  136.525  31.864838  65.0     0\n",
      "3  156.845  53.041915  41.0     1\n",
      "4  145.415  41.276872  51.0     0\n"
     ]
    }
   ],
   "source": [
    "howell1 = pd.read_csv(\"../data/Howell1.csv\", sep=\";\")\n",
    "d = howell1\n",
    "d_male = torch.tensor(d[\"male\"].values, dtype=torch.float)\n",
    "d_height = torch.tensor(d[\"height\"].values, dtype=torch.float)\n",
    "print(d.info())\n",
    "print(d.head())"
   ]
  },
  {
   "cell_type": "markdown",
   "metadata": {},
   "source": [
    "#### Code 5.45"
   ]
  },
  {
   "cell_type": "code",
   "execution_count": 46,
   "metadata": {},
   "outputs": [
    {
     "data": {
      "text/html": [
       "<div>\n",
       "<style scoped>\n",
       "    .dataframe tbody tr th:only-of-type {\n",
       "        vertical-align: middle;\n",
       "    }\n",
       "\n",
       "    .dataframe tbody tr th {\n",
       "        vertical-align: top;\n",
       "    }\n",
       "\n",
       "    .dataframe thead th {\n",
       "        text-align: right;\n",
       "    }\n",
       "</style>\n",
       "<table border=\"1\" class=\"dataframe\">\n",
       "  <thead>\n",
       "    <tr style=\"text-align: right;\">\n",
       "      <th></th>\n",
       "      <th>Mean</th>\n",
       "      <th>StdDev</th>\n",
       "      <th>5.5%</th>\n",
       "      <th>94.5%</th>\n",
       "    </tr>\n",
       "  </thead>\n",
       "  <tbody>\n",
       "    <tr>\n",
       "      <th>a</th>\n",
       "      <td>134.83</td>\n",
       "      <td>1.59</td>\n",
       "      <td>132.29</td>\n",
       "      <td>137.37</td>\n",
       "    </tr>\n",
       "    <tr>\n",
       "      <th>bm</th>\n",
       "      <td>7.28</td>\n",
       "      <td>2.28</td>\n",
       "      <td>3.63</td>\n",
       "      <td>10.93</td>\n",
       "    </tr>\n",
       "    <tr>\n",
       "      <th>sigma</th>\n",
       "      <td>27.31</td>\n",
       "      <td>0.83</td>\n",
       "      <td>25.99</td>\n",
       "      <td>28.63</td>\n",
       "    </tr>\n",
       "  </tbody>\n",
       "</table>\n",
       "</div>"
      ],
      "text/plain": [
       "         Mean  StdDev    5.5%   94.5%\n",
       "a      134.83    1.59  132.29  137.37\n",
       "bm       7.28    2.28    3.63   10.93\n",
       "sigma   27.31    0.83   25.99   28.63"
      ]
     },
     "execution_count": 46,
     "metadata": {},
     "output_type": "execute_result"
    }
   ],
   "source": [
    "def m5_15_model(male, height):\n",
    "    a = pyro.sample(\"a\", dist.Normal(178, 100))\n",
    "    bm = pyro.sample(\"bm\", dist.Normal(0, 10))\n",
    "    mu = a + bm * male\n",
    "    sigma = pyro.sample(\"sigma\", dist.Uniform(0, 50))\n",
    "    with pyro.plate(\"plate\"):\n",
    "        pyro.sample(\"height\", dist.Normal(mu, sigma), obs=height)\n",
    "\n",
    "m5_15 = MAP(\"m5_15\", m5_15_model, male=d_male, height=d_height)\n",
    "m5_15.fit()\n",
    "m5_15.precis()"
   ]
  },
  {
   "cell_type": "markdown",
   "metadata": {},
   "source": [
    "#### Code 5.46"
   ]
  },
  {
   "cell_type": "code",
   "execution_count": 47,
   "metadata": {},
   "outputs": [
    {
     "data": {
      "text/plain": [
       "tensor([139.3996, 144.7881])"
      ]
     },
     "execution_count": 47,
     "metadata": {},
     "output_type": "execute_result"
    }
   ],
   "source": [
    "post = m5_15.extract_samples()\n",
    "mu_male = post[\"a\"] + post[\"bm\"]\n",
    "PI(mu_male)"
   ]
  },
  {
   "cell_type": "markdown",
   "metadata": {},
   "source": [
    "#### Code 5.47"
   ]
  },
  {
   "cell_type": "code",
   "execution_count": 48,
   "metadata": {},
   "outputs": [],
   "source": [
    "def m5_15b_model(male, height):\n",
    "    af = pyro.sample(\"af\", dist.Normal(178, 100))\n",
    "    am = pyro.sample(\"am\", dist.Normal(178, 100))\n",
    "    mu = af * (1 - male) + am * male\n",
    "    sigma = pyro.sample(\"sigma\", dist.Uniform(0, 50))\n",
    "    with pyro.plate(\"plate\"):\n",
    "        pyro.sample(\"height\", dist.Normal(mu, sigma), obs=height)\n",
    "\n",
    "pyro.set_rng_seed(2)\n",
    "m5_15b = MAP(\"m5_15b\", m5_15b_model, male=d_male, height=d_height)\n",
    "m5_15b.fit()"
   ]
  },
  {
   "cell_type": "markdown",
   "metadata": {},
   "source": [
    "#### Code 5.48"
   ]
  },
  {
   "cell_type": "code",
   "execution_count": 49,
   "metadata": {},
   "outputs": [
    {
     "data": {
      "text/plain": [
       "['Strepsirrhine', 'New World Monkey', 'Old World Monkey', 'Ape']"
      ]
     },
     "execution_count": 49,
     "metadata": {},
     "output_type": "execute_result"
    }
   ],
   "source": [
    "milk = pd.read_csv(\"../data/milk.csv\", sep=\";\")\n",
    "d = milk\n",
    "d_kcal_per_g = torch.tensor(d[\"kcal.per.g\"].values, dtype=torch.float)\n",
    "d[\"clade\"].unique().tolist()"
   ]
  },
  {
   "cell_type": "markdown",
   "metadata": {},
   "source": [
    "#### Code 5.49"
   ]
  },
  {
   "cell_type": "code",
   "execution_count": 50,
   "metadata": {},
   "outputs": [
    {
     "data": {
      "text/plain": [
       "tensor([0., 0., 0., 0., 0., 1., 1., 1., 1., 1., 1., 1., 1., 1., 0., 0., 0., 0.,\n",
       "        0., 0., 0., 0., 0., 0., 0., 0., 0., 0., 0.])"
      ]
     },
     "execution_count": 50,
     "metadata": {},
     "output_type": "execute_result"
    }
   ],
   "source": [
    "d_clade_NWM = torch.tensor(d[\"clade\"] == \"New World Monkey\", dtype=torch.float)\n",
    "d_clade_NWM"
   ]
  },
  {
   "cell_type": "markdown",
   "metadata": {},
   "source": [
    "#### Code 5.50"
   ]
  },
  {
   "cell_type": "code",
   "execution_count": 51,
   "metadata": {},
   "outputs": [],
   "source": [
    "d_clade_OWM = torch.tensor(d[\"clade\"] == \"Old World Monkey\", dtype=torch.float)\n",
    "d_clade_S = torch.tensor(d[\"clade\"] == \"Strepsirrhine\", dtype=torch.float)"
   ]
  },
  {
   "cell_type": "markdown",
   "metadata": {},
   "source": [
    "#### Code 5.51"
   ]
  },
  {
   "cell_type": "code",
   "execution_count": 52,
   "metadata": {},
   "outputs": [
    {
     "data": {
      "text/html": [
       "<div>\n",
       "<style scoped>\n",
       "    .dataframe tbody tr th:only-of-type {\n",
       "        vertical-align: middle;\n",
       "    }\n",
       "\n",
       "    .dataframe tbody tr th {\n",
       "        vertical-align: top;\n",
       "    }\n",
       "\n",
       "    .dataframe thead th {\n",
       "        text-align: right;\n",
       "    }\n",
       "</style>\n",
       "<table border=\"1\" class=\"dataframe\">\n",
       "  <thead>\n",
       "    <tr style=\"text-align: right;\">\n",
       "      <th></th>\n",
       "      <th>Mean</th>\n",
       "      <th>StdDev</th>\n",
       "      <th>5.5%</th>\n",
       "      <th>94.5%</th>\n",
       "    </tr>\n",
       "  </thead>\n",
       "  <tbody>\n",
       "    <tr>\n",
       "      <th>a</th>\n",
       "      <td>0.55</td>\n",
       "      <td>0.04</td>\n",
       "      <td>0.49</td>\n",
       "      <td>0.61</td>\n",
       "    </tr>\n",
       "    <tr>\n",
       "      <th>b.NWM</th>\n",
       "      <td>0.17</td>\n",
       "      <td>0.05</td>\n",
       "      <td>0.08</td>\n",
       "      <td>0.25</td>\n",
       "    </tr>\n",
       "    <tr>\n",
       "      <th>b.OWM</th>\n",
       "      <td>0.24</td>\n",
       "      <td>0.06</td>\n",
       "      <td>0.15</td>\n",
       "      <td>0.34</td>\n",
       "    </tr>\n",
       "    <tr>\n",
       "      <th>b.S</th>\n",
       "      <td>-0.04</td>\n",
       "      <td>0.06</td>\n",
       "      <td>-0.14</td>\n",
       "      <td>0.06</td>\n",
       "    </tr>\n",
       "    <tr>\n",
       "      <th>sigma</th>\n",
       "      <td>0.11</td>\n",
       "      <td>0.02</td>\n",
       "      <td>0.09</td>\n",
       "      <td>0.14</td>\n",
       "    </tr>\n",
       "  </tbody>\n",
       "</table>\n",
       "</div>"
      ],
      "text/plain": [
       "       Mean  StdDev  5.5%  94.5%\n",
       "a      0.55    0.04  0.49   0.61\n",
       "b.NWM  0.17    0.05  0.08   0.25\n",
       "b.OWM  0.24    0.06  0.15   0.34\n",
       "b.S   -0.04    0.06 -0.14   0.06\n",
       "sigma  0.11    0.02  0.09   0.14"
      ]
     },
     "execution_count": 52,
     "metadata": {},
     "output_type": "execute_result"
    }
   ],
   "source": [
    "def m5_16_model(nwm, owm, s, kcal_per_g):\n",
    "    a = pyro.sample(\"a\", dist.Normal(0.6, 10))\n",
    "    b_NWM = pyro.sample(\"b.NWM\", dist.Normal(0, 1))\n",
    "    b_OWM = pyro.sample(\"b.OWM\", dist.Normal(0, 1))\n",
    "    b_S = pyro.sample(\"b.S\", dist.Normal(0, 1))\n",
    "    mu = a + b_NWM * nwm + b_OWM * owm + b_S * s\n",
    "    sigma = pyro.sample(\"sigma\", dist.Uniform(0, 10))\n",
    "    with pyro.plate(\"plate\"):\n",
    "        pyro.sample(\"kcal.per.g\", dist.Normal(mu, sigma), obs=kcal_per_g)\n",
    "\n",
    "m5_16 = MAP(\"m5_16\", m5_16_model, nwm=d_clade_NWM, owm=d_clade_OWM, s=d_clade_S,\n",
    "            kcal_per_g=d_kcal_per_g)\n",
    "m5_16.fit()\n",
    "m5_16.precis()"
   ]
  },
  {
   "cell_type": "markdown",
   "metadata": {},
   "source": [
    "#### Code 5.52"
   ]
  },
  {
   "cell_type": "code",
   "execution_count": 53,
   "metadata": {},
   "outputs": [
    {
     "data": {
      "text/html": [
       "<div>\n",
       "<style scoped>\n",
       "    .dataframe tbody tr th:only-of-type {\n",
       "        vertical-align: middle;\n",
       "    }\n",
       "\n",
       "    .dataframe tbody tr th {\n",
       "        vertical-align: top;\n",
       "    }\n",
       "\n",
       "    .dataframe thead th {\n",
       "        text-align: right;\n",
       "    }\n",
       "</style>\n",
       "<table border=\"1\" class=\"dataframe\">\n",
       "  <thead>\n",
       "    <tr style=\"text-align: right;\">\n",
       "      <th></th>\n",
       "      <th>Mean</th>\n",
       "      <th>StdDev</th>\n",
       "      <th>|0.89</th>\n",
       "      <th>0.89|</th>\n",
       "    </tr>\n",
       "  </thead>\n",
       "  <tbody>\n",
       "    <tr>\n",
       "      <th>mu.ape</th>\n",
       "      <td>0.55</td>\n",
       "      <td>0.04</td>\n",
       "      <td>0.49</td>\n",
       "      <td>0.61</td>\n",
       "    </tr>\n",
       "    <tr>\n",
       "      <th>mu.NWM</th>\n",
       "      <td>0.71</td>\n",
       "      <td>0.04</td>\n",
       "      <td>0.65</td>\n",
       "      <td>0.78</td>\n",
       "    </tr>\n",
       "    <tr>\n",
       "      <th>mu.OWM</th>\n",
       "      <td>0.79</td>\n",
       "      <td>0.05</td>\n",
       "      <td>0.71</td>\n",
       "      <td>0.86</td>\n",
       "    </tr>\n",
       "    <tr>\n",
       "      <th>mu.S</th>\n",
       "      <td>0.51</td>\n",
       "      <td>0.05</td>\n",
       "      <td>0.43</td>\n",
       "      <td>0.59</td>\n",
       "    </tr>\n",
       "  </tbody>\n",
       "</table>\n",
       "</div>"
      ],
      "text/plain": [
       "        Mean  StdDev  |0.89  0.89|\n",
       "mu.ape  0.55    0.04   0.49   0.61\n",
       "mu.NWM  0.71    0.04   0.65   0.78\n",
       "mu.OWM  0.79    0.05   0.71   0.86\n",
       "mu.S    0.51    0.05   0.43   0.59"
      ]
     },
     "execution_count": 53,
     "metadata": {},
     "output_type": "execute_result"
    }
   ],
   "source": [
    "# sample posterior\n",
    "post = m5_16.extract_samples()\n",
    "\n",
    "# compute averages for each category\n",
    "mu_ape = post[\"a\"]\n",
    "mu_NWM = post[\"a\"] + post[\"b.NWM\"]\n",
    "mu_OWM = post[\"a\"] + post[\"b.OWM\"]\n",
    "mu_S = post[\"a\"] + post[\"b.S\"]\n",
    "\n",
    "# summarize using precis\n",
    "precis({\"mu.ape\": mu_ape, \"mu.NWM\": mu_NWM, \"mu.OWM\": mu_OWM, \"mu.S\": mu_S})"
   ]
  },
  {
   "cell_type": "markdown",
   "metadata": {},
   "source": [
    "#### Code 5.53"
   ]
  },
  {
   "cell_type": "code",
   "execution_count": 54,
   "metadata": {},
   "outputs": [
    {
     "data": {
      "text/plain": [
       "tensor([-0.1923, -0.0730,  0.0438])"
      ]
     },
     "execution_count": 54,
     "metadata": {},
     "output_type": "execute_result"
    }
   ],
   "source": [
    "diff_NWM_OWM = mu_NWM - mu_OWM\n",
    "quantile(diff_NWM_OWM, probs=(0.025, 0.5, 0.975))"
   ]
  },
  {
   "cell_type": "markdown",
   "metadata": {},
   "source": [
    "#### Code 5.54"
   ]
  },
  {
   "cell_type": "code",
   "execution_count": 55,
   "metadata": {},
   "outputs": [
    {
     "data": {
      "text/plain": [
       "tensor([3, 3, 3, 3, 3, 1, 1, 1, 1, 1, 1, 1, 1, 1, 2, 2, 2, 2, 2, 2, 0, 0, 0, 0,\n",
       "        0, 0, 0, 0, 0])"
      ]
     },
     "execution_count": 55,
     "metadata": {},
     "output_type": "execute_result"
    }
   ],
   "source": [
    "d_clade_id = torch.tensor(d[\"clade\"].astype(\"category\").cat.codes, dtype=torch.long)\n",
    "d_clade_id"
   ]
  },
  {
   "cell_type": "markdown",
   "metadata": {},
   "source": [
    "#### Code 5.55"
   ]
  },
  {
   "cell_type": "code",
   "execution_count": 56,
   "metadata": {},
   "outputs": [
    {
     "data": {
      "text/html": [
       "<div>\n",
       "<style scoped>\n",
       "    .dataframe tbody tr th:only-of-type {\n",
       "        vertical-align: middle;\n",
       "    }\n",
       "\n",
       "    .dataframe tbody tr th {\n",
       "        vertical-align: top;\n",
       "    }\n",
       "\n",
       "    .dataframe thead th {\n",
       "        text-align: right;\n",
       "    }\n",
       "</style>\n",
       "<table border=\"1\" class=\"dataframe\">\n",
       "  <thead>\n",
       "    <tr style=\"text-align: right;\">\n",
       "      <th></th>\n",
       "      <th>Mean</th>\n",
       "      <th>StdDev</th>\n",
       "      <th>5.5%</th>\n",
       "      <th>94.5%</th>\n",
       "    </tr>\n",
       "  </thead>\n",
       "  <tbody>\n",
       "    <tr>\n",
       "      <th>a[0]</th>\n",
       "      <td>0.55</td>\n",
       "      <td>0.04</td>\n",
       "      <td>0.48</td>\n",
       "      <td>0.61</td>\n",
       "    </tr>\n",
       "    <tr>\n",
       "      <th>a[1]</th>\n",
       "      <td>0.71</td>\n",
       "      <td>0.04</td>\n",
       "      <td>0.65</td>\n",
       "      <td>0.78</td>\n",
       "    </tr>\n",
       "    <tr>\n",
       "      <th>a[2]</th>\n",
       "      <td>0.79</td>\n",
       "      <td>0.05</td>\n",
       "      <td>0.71</td>\n",
       "      <td>0.86</td>\n",
       "    </tr>\n",
       "    <tr>\n",
       "      <th>a[3]</th>\n",
       "      <td>0.51</td>\n",
       "      <td>0.05</td>\n",
       "      <td>0.43</td>\n",
       "      <td>0.59</td>\n",
       "    </tr>\n",
       "    <tr>\n",
       "      <th>sigma</th>\n",
       "      <td>0.11</td>\n",
       "      <td>0.02</td>\n",
       "      <td>0.09</td>\n",
       "      <td>0.14</td>\n",
       "    </tr>\n",
       "  </tbody>\n",
       "</table>\n",
       "</div>"
      ],
      "text/plain": [
       "       Mean  StdDev  5.5%  94.5%\n",
       "a[0]   0.55    0.04  0.48   0.61\n",
       "a[1]   0.71    0.04  0.65   0.78\n",
       "a[2]   0.79    0.05  0.71   0.86\n",
       "a[3]   0.51    0.05  0.43   0.59\n",
       "sigma  0.11    0.02  0.09   0.14"
      ]
     },
     "execution_count": 56,
     "metadata": {},
     "output_type": "execute_result"
    }
   ],
   "source": [
    "def m5_16_alt_model(clade_id, kcal_per_g):\n",
    "    with pyro.plate(\"plate_a\", d_clade_id.unique().size(0)):\n",
    "        a = pyro.sample(\"a\", dist.Normal(0.6, 10))\n",
    "    mu = a[clade_id]\n",
    "    sigma = pyro.sample(\"sigma\", dist.Uniform(0, 10))\n",
    "    with pyro.plate(\"plate\"):\n",
    "        pyro.sample(\"kcal.per.g\", dist.Normal(mu, sigma), obs=kcal_per_g)\n",
    "\n",
    "m5_16_alt = MAP(\"m5.16_alt\", m5_16_alt_model, clade_id=d_clade_id, kcal_per_g=d_kcal_per_g)\n",
    "m5_16_alt.fit()\n",
    "m5_16_alt.precis()"
   ]
  },
  {
   "cell_type": "markdown",
   "metadata": {},
   "source": [
    "#### Code 5.56"
   ]
  },
  {
   "cell_type": "code",
   "execution_count": 57,
   "metadata": {},
   "outputs": [],
   "source": [
    "d_x = d_y = d_z = d_w = torch.tensor([0., 1., 2., 3.])\n",
    "m5_17 = LM(\"m5.17\", intercept=1, x=d_x, y=d_y)\n",
    "m5_18 = LM(\"m5.18\", x=d_x, z=d_z, w=d_w, y=d_y)"
   ]
  },
  {
   "cell_type": "markdown",
   "metadata": {},
   "source": [
    "#### Code 5.57"
   ]
  },
  {
   "cell_type": "code",
   "execution_count": 58,
   "metadata": {},
   "outputs": [],
   "source": [
    "m5_17 = LM(\"m5.17b\", intercept=1, x=d_x, y=d_y)\n",
    "m5_19 = LM(\"m5.19\", x=d_x, y=d_y)"
   ]
  },
  {
   "cell_type": "markdown",
   "metadata": {},
   "source": [
    "#### Code 5.58"
   ]
  },
  {
   "cell_type": "code",
   "execution_count": 59,
   "metadata": {},
   "outputs": [],
   "source": [
    "m5_20 = LM(\"m5.20\", intercept=0, x=d_x, y=d_y)\n",
    "m5_21 = LM(\"m5.21\", intercept=-1, x=d_x, y=d_y)"
   ]
  },
  {
   "cell_type": "markdown",
   "metadata": {},
   "source": [
    "#### Code 5.59"
   ]
  },
  {
   "cell_type": "code",
   "execution_count": 60,
   "metadata": {},
   "outputs": [],
   "source": [
    "d_season = torch.tensor([1, 2, 3, 4])\n",
    "d_season_1 = (d_season == 1).float()\n",
    "d_season_2 = (d_season == 2).float()\n",
    "d_season_3 = (d_season == 3).float()\n",
    "d_season_4 = (d_season == 4).float()\n",
    "m5_22 = LM(\"m5.22\", season_1=d_season_1, season_2=d_season_2,\n",
    "           season_3=d_season_3, season_4=d_season_4, y=d_y)"
   ]
  },
  {
   "cell_type": "markdown",
   "metadata": {},
   "source": [
    "#### Code 5.60"
   ]
  },
  {
   "cell_type": "code",
   "execution_count": 61,
   "metadata": {},
   "outputs": [],
   "source": [
    "d_x2 = d_x ** 2\n",
    "d_x3 = d_x ** 3\n",
    "m5_23 = LM(\"m5.23\", x=d_x, x2=d_x2, x3=d_x3, y=d_y)"
   ]
  },
  {
   "cell_type": "markdown",
   "metadata": {},
   "source": [
    "#### Code 5.61"
   ]
  },
  {
   "cell_type": "code",
   "execution_count": 62,
   "metadata": {},
   "outputs": [],
   "source": [
    "m5_23 = LM(\"m5.23b\", x=d_x, x2=(d_x ** 2), x3=(d_x ** 3), y=d_y)"
   ]
  },
  {
   "cell_type": "markdown",
   "metadata": {},
   "source": [
    "#### Code 5.62"
   ]
  },
  {
   "cell_type": "code",
   "execution_count": 63,
   "metadata": {},
   "outputs": [
    {
     "name": "stdout",
     "output_type": "stream",
     "text": [
      "def model(speed, dist):\n",
      "    intercept = pyro.sample('Intercept', dist.Normal(0, 10))\n",
      "    b_speed = pyro.sample('b_speed', dist.Normal(0, 10))\n",
      "    mu = intercept + b_speed * speed\n",
      "    sigma = pyro.sample('sigma', dist.HalfCauchy(2))\n",
      "    with pyro.plate('plate'):\n",
      "        return pyro.sample('dist', dist.Normal(mu, sigma), obs=dist)\n"
     ]
    }
   ],
   "source": [
    "cars = pd.read_csv(\"../data/cars.csv\", index_col=0)\n",
    "glimmer(speed=cars[\"speed\"], dist=cars[\"dist\"])"
   ]
  }
 ],
 "metadata": {
  "kernelspec": {
   "display_name": "Python 3",
   "language": "python",
   "name": "python3"
  },
  "language_info": {
   "codemirror_mode": {
    "name": "ipython",
    "version": 3
   },
   "file_extension": ".py",
   "mimetype": "text/x-python",
   "name": "python",
   "nbconvert_exporter": "python",
   "pygments_lexer": "ipython3",
   "version": "3.6.6"
  }
 },
 "nbformat": 4,
 "nbformat_minor": 2
}
