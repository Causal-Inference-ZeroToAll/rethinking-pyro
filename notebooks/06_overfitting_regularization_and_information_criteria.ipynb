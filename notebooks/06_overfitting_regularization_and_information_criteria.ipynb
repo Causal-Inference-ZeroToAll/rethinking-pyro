{
 "cells": [
  {
   "cell_type": "code",
   "execution_count": 1,
   "metadata": {},
   "outputs": [],
   "source": [
    "%matplotlib inline\n",
    "import concurrent.futures\n",
    "import math\n",
    "import matplotlib.pyplot as plt\n",
    "import pandas as pd\n",
    "import torch\n",
    "from torch.distributions import constraints\n",
    "\n",
    "import pyro\n",
    "import pyro.distributions as dist\n",
    "\n",
    "from rethinking import LM, MAP, PI, coeftab, compare, compare_plot, ensemble\n",
    "\n",
    "plt.rcParams[\"axes.labelsize\"] = \"large\"\n",
    "plt.rcParams[\"lines.linewidth\"] = 1\n",
    "pyro.set_rng_seed(0)"
   ]
  },
  {
   "cell_type": "markdown",
   "metadata": {},
   "source": [
    "#### Code 6.1"
   ]
  },
  {
   "cell_type": "code",
   "execution_count": 2,
   "metadata": {},
   "outputs": [],
   "source": [
    "sppnames = [\"afarensis\", \"africanus\", \"habilis\", \"boisei\", \"rudolfensis\", \"ergaster\",\n",
    "            \"sapiens\"]\n",
    "brainvolcc = torch.tensor([438., 452, 612, 521, 752, 871, 1350])\n",
    "masskg = torch.tensor([37.0, 35.5, 34.5, 41.5, 55.5, 61.0, 53.5])\n",
    "d = pd.DataFrame({\"species\": sppnames, \"brain\": brainvolcc, \"mass\": masskg})\n",
    "d_mass = masskg\n",
    "d_brain = brainvolcc"
   ]
  },
  {
   "cell_type": "markdown",
   "metadata": {},
   "source": [
    "#### Code 6.2"
   ]
  },
  {
   "cell_type": "code",
   "execution_count": 3,
   "metadata": {},
   "outputs": [],
   "source": [
    "m6_1 = LM(\"m6.1\", mass=d_mass, brain=d_brain)\n",
    "m6_1.fit(lr=3);"
   ]
  },
  {
   "cell_type": "markdown",
   "metadata": {},
   "source": [
    "#### Code 6.3"
   ]
  },
  {
   "cell_type": "code",
   "execution_count": 4,
   "metadata": {},
   "outputs": [
    {
     "data": {
      "text/plain": [
       "tensor(0.4902)"
      ]
     },
     "execution_count": 4,
     "metadata": {},
     "output_type": "execute_result"
    }
   ],
   "source": [
    "resid = d_brain - (m6_1.coef()[\"intercept\"] + m6_1.coef()[\"mass\"] * d_mass)\n",
    "1 - resid.var() / d_brain.var()"
   ]
  },
  {
   "cell_type": "markdown",
   "metadata": {},
   "source": [
    "#### Code 6.4"
   ]
  },
  {
   "cell_type": "code",
   "execution_count": 5,
   "metadata": {},
   "outputs": [],
   "source": [
    "m6_2 = LM(\"m6.2\", mass=d_mass, mass2=(d_mass ** 2), brain=d_brain)\n",
    "m6_2.fit(lr=3);"
   ]
  },
  {
   "cell_type": "markdown",
   "metadata": {},
   "source": [
    "#### Code 6.5"
   ]
  },
  {
   "cell_type": "code",
   "execution_count": 6,
   "metadata": {},
   "outputs": [],
   "source": [
    "m6_3 = LM(\"m6.3\", mass=d_mass, mass2=(d_mass ** 2), mass3=(d_mass ** 3), brain=d_brain)\n",
    "m6_3.fit(lr=3);\n",
    "m6_4 = LM(\"m6.4\", mass=d_mass, mass2=(d_mass ** 2), mass3=(d_mass ** 3), mass4=(d_mass ** 4),\n",
    "          brain=d_brain)\n",
    "m6_4.fit(lr=3);\n",
    "m6_5 = LM(\"m6.5\", mass=d_mass, mass2=(d_mass ** 2), mass3=(d_mass ** 3), mass4=(d_mass ** 4),\n",
    "          mass5=(d_mass ** 5), brain=d_brain)\n",
    "m6_5.fit(lr=3);\n",
    "m6_6 = LM(\"m6.6\", mass=d_mass, mass2=(d_mass ** 2), mass3=(d_mass ** 3), mass4=(d_mass ** 3),\n",
    "          mass5=(d_mass ** 3), mass6=(d_mass ** 3), brain=d_brain)\n",
    "m6_6.fit(lr=3);"
   ]
  },
  {
   "cell_type": "markdown",
   "metadata": {},
   "source": [
    "#### Code 6.6"
   ]
  },
  {
   "cell_type": "code",
   "execution_count": 7,
   "metadata": {},
   "outputs": [],
   "source": [
    "m6_7 = LM(\"m6.7\", intercept=1, brain=d_brain)\n",
    "m6_7.fit(lr=3);"
   ]
  },
  {
   "cell_type": "markdown",
   "metadata": {},
   "source": [
    "#### Code 6.7"
   ]
  },
  {
   "cell_type": "code",
   "execution_count": 8,
   "metadata": {},
   "outputs": [],
   "source": [
    "i = 0\n",
    "d_new = d.drop(index=i)"
   ]
  },
  {
   "cell_type": "markdown",
   "metadata": {},
   "source": [
    "#### Code 6.8"
   ]
  },
  {
   "cell_type": "code",
   "execution_count": 9,
   "metadata": {},
   "outputs": [
    {
     "data": {
      "image/png": "[encoded data removed]",
      "text/plain": [
       "<Figure size 432x288 with 1 Axes>"
      ]
     },
     "metadata": {
      "needs_background": "light"
     },
     "output_type": "display_data"
    }
   ],
   "source": [
    "plt.plot(\"mass\", \"brain\", \"o\", data=d, c=\"slateblue\", fillstyle=\"none\")\n",
    "for i in range(d.shape[0]):\n",
    "    d_new = d.drop(index=i)\n",
    "    d_new_mass = torch.tensor(d_new[\"mass\"].values, dtype=torch.float)\n",
    "    d_new_brain = torch.tensor(d_new[\"brain\"].values, dtype=torch.float)\n",
    "    m0 = LM(\"m0_{}\".format(i), mass=d_new_mass, brain=d_new_brain)\n",
    "    m0.fit(lr=3)\n",
    "    x = torch.linspace(34, 62, 101)\n",
    "    plt.plot(x.tolist(), (m0.coef()[\"intercept\"] + m0.coef()[\"mass\"] * x).tolist(),\n",
    "             c=\"k\", alpha=0.5);"
   ]
  },
  {
   "cell_type": "markdown",
   "metadata": {},
   "source": [
    "#### Code 6.9"
   ]
  },
  {
   "cell_type": "code",
   "execution_count": 10,
   "metadata": {},
   "outputs": [
    {
     "data": {
      "text/plain": [
       "tensor(0.6109)"
      ]
     },
     "execution_count": 10,
     "metadata": {},
     "output_type": "execute_result"
    }
   ],
   "source": [
    "p = torch.tensor([0.3, 0.7])\n",
    "- (p * p.log()).sum()"
   ]
  },
  {
   "cell_type": "markdown",
   "metadata": {},
   "source": [
    "#### Code 6.10"
   ]
  },
  {
   "cell_type": "code",
   "execution_count": 11,
   "metadata": {},
   "outputs": [
    {
     "data": {
      "text/plain": [
       "tensor(-94.9250)"
      ]
     },
     "execution_count": 11,
     "metadata": {},
     "output_type": "execute_result"
    }
   ],
   "source": [
    "# fit model with lm\n",
    "m6_1 = LM(\"m6.1_1\", mass=d_mass, brain=d_brain)\n",
    "m6_1.fit(lr=3);\n",
    "\n",
    "# compute deviance by cheating\n",
    "(-2) * m6_1.log_lik()"
   ]
  },
  {
   "cell_type": "markdown",
   "metadata": {},
   "source": [
    "#### Code 6.11"
   ]
  },
  {
   "cell_type": "code",
   "execution_count": 12,
   "metadata": {},
   "outputs": [
    {
     "data": {
      "text/plain": [
       "tensor(94.9277)"
      ]
     },
     "execution_count": 12,
     "metadata": {},
     "output_type": "execute_result"
    }
   ],
   "source": [
    "# standardize the mass before fitting\n",
    "d_mass_s = d_mass - d_mass.mean() / d_mass.std()\n",
    "\n",
    "def m6_8_model(mass, brain):\n",
    "    a = pyro.param(\"m6.8_a\", brain.mean())\n",
    "    b = pyro.param(\"m6.8_b\", torch.tensor(0.))\n",
    "    mu = a + b * mass\n",
    "    sigma = pyro.param(\"m6.8_sigma\", brain.std(), constraints.positive)\n",
    "    pyro.sample(\"brain\", dist.Normal(mu, sigma), obs=brain)\n",
    "\n",
    "m6_8 = MAP(\"m6.8\", m6_8_model, mass=d_mass_s, brain=d_brain)\n",
    "losses = m6_8.fit(num_steps=1500)\n",
    "\n",
    "# extract MAP estimates\n",
    "theta = [pyro.param(\"m6.8_a\"), pyro.param(\"m6.8_b\"), pyro.param(\"m6.8_sigma\")]\n",
    "\n",
    "# compute deviance\n",
    "dev = (-2) * dist.Normal(loc=theta[0] + theta[1] * d_mass_s,\n",
    "                         scale=theta[2]).log_prob(d_brain).detach().sum()\n",
    "dev"
   ]
  },
  {
   "cell_type": "markdown",
   "metadata": {},
   "source": [
    "#### Code 6.12"
   ]
  },
  {
   "cell_type": "code",
   "execution_count": 13,
   "metadata": {},
   "outputs": [
    {
     "name": "stdout",
     "output_type": "stream",
     "text": [
      "1\n",
      "2\n",
      "3\n",
      "4\n",
      "5\n"
     ]
    }
   ],
   "source": [
    "def sim_train_test(N=20, k=3, i=\"0\", rho=[0.15, -0.4], b_sigma=100):\n",
    "    def model(mm, y):\n",
    "        a = pyro.param(\"m_k{}_{}_a\".format(k, i), torch.tensor(0.))\n",
    "        Bvec = a.unsqueeze(0)\n",
    "        if k > 1:\n",
    "            b = pyro.sample(\"b\", dist.Normal(0, b_sigma).expand(torch.Size([k - 1])))\n",
    "            Bvec = torch.cat([Bvec, b])\n",
    "        mu = mm.matmul(Bvec)\n",
    "        pyro.sample(\"y\", dist.Normal(mu, 1), obs=y)\n",
    "\n",
    "    n_dim = max(k, 3)\n",
    "    Rho = torch.eye(n_dim)\n",
    "    Rho[1:len(rho) + 1, 0] = torch.tensor(rho)\n",
    "    Rho[0, 1:len(rho) + 1] = torch.tensor(rho)\n",
    "    X_train = dist.MultivariateNormal(loc=torch.zeros(n_dim),\n",
    "                                      covariance_matrix=Rho).sample(torch.Size([N]))\n",
    "    X_test = dist.MultivariateNormal(loc=torch.zeros(n_dim),\n",
    "                                     covariance_matrix=Rho).sample(torch.Size([N]))\n",
    "    mm_train = torch.ones(N, 1)\n",
    "    if k > 1:\n",
    "        mm_train = torch.cat([mm_train, X_train[:, 1:k]], dim=1)\n",
    "\n",
    "    m = MAP(\"m_k{}_{}\".format(k, i), model, start={\"b\": torch.zeros(k - 1)},\n",
    "            mm=mm_train, y=X_train[:, 0])\n",
    "    m.fit(lr=0.1, num_steps=50)\n",
    "    mm_test = torch.ones(N, 1)\n",
    "    if k > 1:\n",
    "        mm_test = torch.cat([mm_test, X_train[:, 1:k]], dim=1)\n",
    "    m_coef = m.coef(full=True)\n",
    "    dev_train = (-2) * dist.Normal(mm_train.matmul(m_coef), 1).log_prob(X_train[:, 0]).sum()\n",
    "    dev_test = (-2) * dist.Normal(mm_test.matmul(m_coef), 1).log_prob(X_test[:, 0]).sum()\n",
    "    return torch.tensor([dev_train, dev_test])\n",
    "\n",
    "def dev_at_k(N, k):\n",
    "    print(k)\n",
    "    r = torch.stack([sim_train_test(N=N, k=k, i=str(i)) for i in range(int(1e4))], dim=1)\n",
    "    return torch.stack([r[0].mean(), r[1].mean(), r[0].std(), r[1].std()])\n",
    "\n",
    "N = 20\n",
    "kseq = range(1, 6)\n",
    "dev = torch.stack([dev_at_k(N, k) for k in kseq], dim=1)"
   ]
  },
  {
   "cell_type": "markdown",
   "metadata": {},
   "source": [
    "#### Code 6.13"
   ]
  },
  {
   "cell_type": "code",
   "execution_count": 14,
   "metadata": {},
   "outputs": [],
   "source": [
    "def replicate(i):\n",
    "    return sim_train_test(N=N, k=3, i=\"p\" + str(i))\n",
    "\n",
    "r_list = []\n",
    "torch.multiprocessing.set_sharing_strategy(\"file_system\")\n",
    "with concurrent.futures.ProcessPoolExecutor() as executor:\n",
    "    for s in executor.map(replicate, range(int(1e4))):\n",
    "        r_list.append(s)\n",
    "r = torch.stack(r_list, dim=1)"
   ]
  },
  {
   "cell_type": "markdown",
   "metadata": {},
   "source": [
    "#### Code 6.14"
   ]
  },
  {
   "cell_type": "code",
   "execution_count": 15,
   "metadata": {},
   "outputs": [
    {
     "data": {
      "image/png": "[encoded data removed]",
      "text/plain": [
       "<Figure size 432x288 with 1 Axes>"
      ]
     },
     "metadata": {
      "needs_background": "light"
     },
     "output_type": "display_data"
    }
   ],
   "source": [
    "plt.plot(range(1, 6), dev[0].tolist(), \"o\", c=\"royalblue\")\n",
    "plt.xlim(1 - 0.1, 5.1 + 0.1)\n",
    "plt.ylim(dev[:2].min() - 5, dev[:2].max() + 10)\n",
    "plt.xlabel(\"number of parameters\")\n",
    "plt.ylabel(\"deviance\")\n",
    "plt.title(\"N = {}\".format(N))\n",
    "plt.plot([x + 0.1 for x in range(1, 6)], dev[1].tolist(), \"ok\", fillstyle=\"none\")\n",
    "for i in kseq:\n",
    "    pts_int = dev[0, i - 1] + torch.tensor([-1., 1]) * dev[2, i - 1]\n",
    "    pts_out = dev[1, i - 1] + torch.tensor([-1., 1]) * dev[3, i - 1]\n",
    "    plt.plot([i, i], pts_int.tolist(), c=\"royalblue\")\n",
    "    plt.plot([i + 0.1, i + 0.1], pts_out.tolist(), c=\"k\");"
   ]
  },
  {
   "cell_type": "markdown",
   "metadata": {},
   "source": [
    "#### Code 6.15"
   ]
  },
  {
   "cell_type": "code",
   "execution_count": 16,
   "metadata": {},
   "outputs": [],
   "source": [
    "cars = pd.read_csv(\"../data/cars.csv\", sep=\",\")\n",
    "cars_speed = torch.tensor(cars[\"speed\"].values, dtype=torch.float)\n",
    "cars_dist = torch.tensor(cars[\"dist\"].values, dtype=torch.float)\n",
    "\n",
    "def m_model(speed, distance):\n",
    "    a = pyro.sample(\"a\", dist.Normal(0, 100))\n",
    "    b = pyro.sample(\"b\", dist.Normal(0, 10))\n",
    "    mu = a + b * speed\n",
    "    sigma = pyro.sample(\"sigma\", dist.Uniform(0, 30))\n",
    "    pyro.sample(\"dist\", dist.Normal(mu, sigma), obs=distance)\n",
    "\n",
    "m = MAP(\"m\", m_model, start=\"mean\", speed=cars_speed, distance=cars_dist)\n",
    "m.fit()\n",
    "post = m.extract_samples(n=1000)"
   ]
  },
  {
   "cell_type": "markdown",
   "metadata": {},
   "source": [
    "#### Code 6.16"
   ]
  },
  {
   "cell_type": "code",
   "execution_count": 17,
   "metadata": {},
   "outputs": [],
   "source": [
    "def get_ll(s):\n",
    "    mu = post[\"a\"][s] + post[\"b\"][s] * cars_speed\n",
    "    return dist.Normal(mu, post[\"sigma\"][s]).log_prob(cars_dist)\n",
    "\n",
    "n_samples = 1000\n",
    "ll = torch.stack([get_ll(s) for s in range(n_samples)], dim=1)"
   ]
  },
  {
   "cell_type": "markdown",
   "metadata": {},
   "source": [
    "#### Code 6.17"
   ]
  },
  {
   "cell_type": "code",
   "execution_count": 20,
   "metadata": {},
   "outputs": [],
   "source": [
    "n_cases = cars.shape[0]\n",
    "lppd = ll.logsumexp(1) - math.log(n_samples)"
   ]
  },
  {
   "cell_type": "markdown",
   "metadata": {},
   "source": [
    "#### Code 6.18"
   ]
  },
  {
   "cell_type": "code",
   "execution_count": 21,
   "metadata": {},
   "outputs": [],
   "source": [
    "pWAIC = ll.var(1)"
   ]
  },
  {
   "cell_type": "markdown",
   "metadata": {},
   "source": [
    "#### Code 6.19"
   ]
  },
  {
   "cell_type": "code",
   "execution_count": 22,
   "metadata": {},
   "outputs": [
    {
     "data": {
      "text/plain": [
       "tensor(421.3170)"
      ]
     },
     "execution_count": 22,
     "metadata": {},
     "output_type": "execute_result"
    }
   ],
   "source": [
    "-2 * (lppd.sum() - pWAIC.sum())"
   ]
  },
  {
   "cell_type": "markdown",
   "metadata": {},
   "source": [
    "#### Code 6.20"
   ]
  },
  {
   "cell_type": "code",
   "execution_count": 23,
   "metadata": {},
   "outputs": [
    {
     "data": {
      "text/plain": [
       "tensor(14.4520)"
      ]
     },
     "execution_count": 23,
     "metadata": {},
     "output_type": "execute_result"
    }
   ],
   "source": [
    "waic_vec = -2 * (lppd - pWAIC)\n",
    "(n_cases * waic_vec.var()).sqrt()"
   ]
  },
  {
   "cell_type": "markdown",
   "metadata": {},
   "source": [
    "#### Code 6.21"
   ]
  },
  {
   "cell_type": "code",
   "execution_count": 24,
   "metadata": {},
   "outputs": [
    {
     "data": {
      "text/plain": [
       "(17, 9)"
      ]
     },
     "execution_count": 24,
     "metadata": {},
     "output_type": "execute_result"
    }
   ],
   "source": [
    "milk = pd.read_csv(\"../data/milk.csv\", sep=\";\")\n",
    "d = milk.dropna().copy()\n",
    "d.loc[:, \"neocortex\"] = d[\"neocortex.perc\"] / 100\n",
    "d_kcal_per_g = torch.tensor(d[\"kcal.per.g\"].values, dtype=torch.float)\n",
    "d_neocortex = torch.tensor(d[\"neocortex\"].values, dtype=torch.float)\n",
    "d_mass = torch.tensor(d[\"mass\"].values, dtype=torch.float)\n",
    "d.shape"
   ]
  },
  {
   "cell_type": "markdown",
   "metadata": {},
   "source": [
    "#### Code 6.22"
   ]
  },
  {
   "cell_type": "code",
   "execution_count": 25,
   "metadata": {},
   "outputs": [],
   "source": [
    "a_start = d_kcal_per_g.mean()\n",
    "sigma_start = d_kcal_per_g.std().log()\n",
    "\n",
    "def m6_11_model(kcal_per_g):\n",
    "    a = pyro.param(\"m6.11_a\", a_start.clone())\n",
    "    log_sigma = pyro.param(\"m6.11_log.sigma\", sigma_start.clone())\n",
    "    pyro.sample(\"kcal.per.g\", dist.Normal(a, log_sigma.exp()), obs=kcal_per_g)\n",
    "\n",
    "m6_11 = MAP(\"m6.11\", m6_11_model, kcal_per_g=d_kcal_per_g)\n",
    "m6_11.fit(lr=0.1, num_steps=300)\n",
    "\n",
    "def m6_12_model(neocortex, kcal_per_g):\n",
    "    a = pyro.param(\"m6.12_a\", a_start.clone())\n",
    "    bn = pyro.param(\"m6.12_bn\", torch.tensor(0.))\n",
    "    mu = a + bn * neocortex\n",
    "    log_sigma = pyro.param(\"m6.12_log.sigma\", sigma_start.clone())\n",
    "    pyro.sample(\"kcal.per.g\", dist.Normal(mu, log_sigma.exp()), obs=kcal_per_g)\n",
    "\n",
    "m6_12 = MAP(\"m6.12\", m6_12_model, neocortex=d_neocortex, kcal_per_g=d_kcal_per_g)\n",
    "m6_12.fit(lr=0.1, num_steps=300)\n",
    "\n",
    "def m6_13_model(log_mass, kcal_per_g):\n",
    "    a = pyro.param(\"m6.13_a\", a_start.clone())\n",
    "    bm = pyro.param(\"m6.13_bm\", torch.tensor(0.))\n",
    "    mu = a + bm * log_mass\n",
    "    log_sigma = pyro.param(\"m6.13_log.sigma\", sigma_start.clone())\n",
    "    pyro.sample(\"kcal.per.g\", dist.Normal(mu, log_sigma.exp()), obs=kcal_per_g)\n",
    "\n",
    "m6_13 = MAP(\"m6.13\", m6_13_model, log_mass=d_mass.log(), kcal_per_g=d_kcal_per_g)\n",
    "m6_13.fit(lr=0.1, num_steps=300)\n",
    "\n",
    "def m6_14_model(neocortex, log_mass, kcal_per_g):\n",
    "    a = pyro.param(\"m6.14_a\", a_start.clone())\n",
    "    bn = pyro.param(\"m6.14_bn\", torch.tensor(0.))\n",
    "    bm = pyro.param(\"m6.14_bm\", torch.tensor(0.))\n",
    "    mu = a + bn * neocortex + bm * log_mass\n",
    "    log_sigma = pyro.param(\"m6.14_log.sigma\", sigma_start.clone())\n",
    "    pyro.sample(\"kcal.per.g\", dist.Normal(mu, log_sigma.exp()), obs=kcal_per_g)\n",
    "\n",
    "m6_14 = MAP(\"m6.14\", m6_14_model, neocortex=d_neocortex,\n",
    "            log_mass=d_mass.log(), kcal_per_g=d_kcal_per_g)\n",
    "m6_14.fit(lr=0.1, num_steps=300);"
   ]
  },
  {
   "cell_type": "markdown",
   "metadata": {},
   "source": [
    "#### Code 6.23"
   ]
  },
  {
   "cell_type": "code",
   "execution_count": 26,
   "metadata": {},
   "outputs": [
    {
     "data": {
      "text/plain": [
       "{'WAIC': tensor(-14.8104),\n",
       " 'lppd': tensor(12.3248),\n",
       " 'pWAIC': tensor(4.9196),\n",
       " 'se': tensor(8.0681)}"
      ]
     },
     "execution_count": 26,
     "metadata": {},
     "output_type": "execute_result"
    }
   ],
   "source": [
    "m6_14.WAIC()"
   ]
  },
  {
   "cell_type": "markdown",
   "metadata": {},
   "source": [
    "#### Code 6.24"
   ]
  },
  {
   "cell_type": "code",
   "execution_count": 27,
   "metadata": {},
   "outputs": [
    {
     "data": {
      "text/html": [
       "<div>\n",
       "<style scoped>\n",
       "    .dataframe tbody tr th:only-of-type {\n",
       "        vertical-align: middle;\n",
       "    }\n",
       "\n",
       "    .dataframe tbody tr th {\n",
       "        vertical-align: top;\n",
       "    }\n",
       "\n",
       "    .dataframe thead th {\n",
       "        text-align: right;\n",
       "    }\n",
       "</style>\n",
       "<table border=\"1\" class=\"dataframe\">\n",
       "  <thead>\n",
       "    <tr style=\"text-align: right;\">\n",
       "      <th></th>\n",
       "      <th>WAIC</th>\n",
       "      <th>pWAIC</th>\n",
       "      <th>dWAIC</th>\n",
       "      <th>weight</th>\n",
       "      <th>SE</th>\n",
       "      <th>dSE</th>\n",
       "    </tr>\n",
       "  </thead>\n",
       "  <tbody>\n",
       "    <tr>\n",
       "      <th>m6.14</th>\n",
       "      <td>-14.545875</td>\n",
       "      <td>5.038521</td>\n",
       "      <td>0.000000</td>\n",
       "      <td>0.918659</td>\n",
       "      <td>7.979974</td>\n",
       "      <td>0.000000</td>\n",
       "    </tr>\n",
       "    <tr>\n",
       "      <th>m6.13</th>\n",
       "      <td>-8.039331</td>\n",
       "      <td>2.951427</td>\n",
       "      <td>6.506543</td>\n",
       "      <td>0.035504</td>\n",
       "      <td>5.802405</td>\n",
       "      <td>5.485536</td>\n",
       "    </tr>\n",
       "    <tr>\n",
       "      <th>m6.11</th>\n",
       "      <td>-7.923896</td>\n",
       "      <td>2.002622</td>\n",
       "      <td>6.621979</td>\n",
       "      <td>0.033513</td>\n",
       "      <td>4.888330</td>\n",
       "      <td>7.560323</td>\n",
       "    </tr>\n",
       "    <tr>\n",
       "      <th>m6.12</th>\n",
       "      <td>-5.923181</td>\n",
       "      <td>3.056408</td>\n",
       "      <td>8.622694</td>\n",
       "      <td>0.012324</td>\n",
       "      <td>4.438611</td>\n",
       "      <td>7.730103</td>\n",
       "    </tr>\n",
       "  </tbody>\n",
       "</table>\n",
       "</div>"
      ],
      "text/plain": [
       "            WAIC     pWAIC     dWAIC    weight        SE       dSE\n",
       "m6.14 -14.545875  5.038521  0.000000  0.918659  7.979974  0.000000\n",
       "m6.13  -8.039331  2.951427  6.506543  0.035504  5.802405  5.485536\n",
       "m6.11  -7.923896  2.002622  6.621979  0.033513  4.888330  7.560323\n",
       "m6.12  -5.923181  3.056408  8.622694  0.012324  4.438611  7.730103"
      ]
     },
     "execution_count": 27,
     "metadata": {},
     "output_type": "execute_result"
    }
   ],
   "source": [
    "milk_models = compare(m6_11, m6_12, m6_13, m6_14)\n",
    "milk_models"
   ]
  },
  {
   "cell_type": "markdown",
   "metadata": {},
   "source": [
    "#### Code 6.25"
   ]
  },
  {
   "cell_type": "code",
   "execution_count": 28,
   "metadata": {},
   "outputs": [
    {
     "data": {
      "image/png": "[encoded data removed]",
      "text/plain": [
       "<Figure size 432x288 with 1 Axes>"
      ]
     },
     "metadata": {
      "needs_background": "light"
     },
     "output_type": "display_data"
    }
   ],
   "source": [
    "compare_plot(milk_models)"
   ]
  },
  {
   "cell_type": "markdown",
   "metadata": {},
   "source": [
    "#### Code 6.26"
   ]
  },
  {
   "cell_type": "code",
   "execution_count": 29,
   "metadata": {},
   "outputs": [
    {
     "data": {
      "text/plain": [
       "tensor(0.1787)"
      ]
     },
     "execution_count": 29,
     "metadata": {},
     "output_type": "execute_result"
    }
   ],
   "source": [
    "diff = torch.empty(int(1e5)).normal_(6.7, 7.26)\n",
    "(diff < 0).float().sum() / 1e5"
   ]
  },
  {
   "cell_type": "markdown",
   "metadata": {},
   "source": [
    "#### Code 6.27"
   ]
  },
  {
   "cell_type": "code",
   "execution_count": 30,
   "metadata": {},
   "outputs": [
    {
     "data": {
      "text/html": [
       "<div>\n",
       "<style scoped>\n",
       "    .dataframe tbody tr th:only-of-type {\n",
       "        vertical-align: middle;\n",
       "    }\n",
       "\n",
       "    .dataframe tbody tr th {\n",
       "        vertical-align: top;\n",
       "    }\n",
       "\n",
       "    .dataframe thead th {\n",
       "        text-align: right;\n",
       "    }\n",
       "</style>\n",
       "<table border=\"1\" class=\"dataframe\">\n",
       "  <thead>\n",
       "    <tr style=\"text-align: right;\">\n",
       "      <th></th>\n",
       "      <th>m6.11</th>\n",
       "      <th>m6.12</th>\n",
       "      <th>m6.13</th>\n",
       "      <th>m6.14</th>\n",
       "    </tr>\n",
       "  </thead>\n",
       "  <tbody>\n",
       "    <tr>\n",
       "      <th>a</th>\n",
       "      <td>0.66</td>\n",
       "      <td>0.36</td>\n",
       "      <td>0.71</td>\n",
       "      <td>-1.05</td>\n",
       "    </tr>\n",
       "    <tr>\n",
       "      <th>log.sigma</th>\n",
       "      <td>-1.79</td>\n",
       "      <td>-1.80</td>\n",
       "      <td>-1.85</td>\n",
       "      <td>-2.16</td>\n",
       "    </tr>\n",
       "    <tr>\n",
       "      <th>bn</th>\n",
       "      <td>NaN</td>\n",
       "      <td>0.44</td>\n",
       "      <td>NaN</td>\n",
       "      <td>2.74</td>\n",
       "    </tr>\n",
       "    <tr>\n",
       "      <th>bm</th>\n",
       "      <td>NaN</td>\n",
       "      <td>NaN</td>\n",
       "      <td>-0.03</td>\n",
       "      <td>-0.10</td>\n",
       "    </tr>\n",
       "    <tr>\n",
       "      <th>nobs</th>\n",
       "      <td>17.00</td>\n",
       "      <td>17.00</td>\n",
       "      <td>17.00</td>\n",
       "      <td>17.00</td>\n",
       "    </tr>\n",
       "  </tbody>\n",
       "</table>\n",
       "</div>"
      ],
      "text/plain": [
       "           m6.11  m6.12  m6.13  m6.14\n",
       "a           0.66   0.36   0.71  -1.05\n",
       "log.sigma  -1.79  -1.80  -1.85  -2.16\n",
       "bn           NaN   0.44    NaN   2.74\n",
       "bm           NaN    NaN  -0.03  -0.10\n",
       "nobs       17.00  17.00  17.00  17.00"
      ]
     },
     "execution_count": 30,
     "metadata": {},
     "output_type": "execute_result"
    }
   ],
   "source": [
    "coeftab(False, m6_11, m6_12, m6_13, m6_14)"
   ]
  },
  {
   "cell_type": "markdown",
   "metadata": {},
   "source": [
    "#### Code 6.28"
   ]
  },
  {
   "cell_type": "code",
   "execution_count": 31,
   "metadata": {},
   "outputs": [
    {
     "data": {
      "image/png": "[encoded data removed]",
      "text/plain": [
       "<Figure size 432x288 with 1 Axes>"
      ]
     },
     "metadata": {
      "needs_background": "light"
     },
     "output_type": "display_data"
    }
   ],
   "source": [
    "mean_df, lower_PI, upper_PI = coeftab(True, m6_11, m6_12, m6_13, m6_14)\n",
    "pos = 1\n",
    "ticks = []\n",
    "labels = []\n",
    "for coef in mean_df.index[:-1]:\n",
    "    plt.plot(mean_df.loc[coef, ::-1], range(pos, pos + mean_df.shape[1]),\n",
    "             \"ko\", fillstyle=\"none\")\n",
    "    ticks += list(range(pos, pos + mean_df.shape[1]))\n",
    "    labels += mean_df.columns.tolist()[::-1]\n",
    "    pos = pos + mean_df.shape[1] + 1\n",
    "    for i, m in enumerate(lower_PI.columns):\n",
    "        plt.plot([lower_PI.loc[coef, m], upper_PI.loc[coef, m]],\n",
    "                 [pos - i - 2, pos - i - 2], c=\"k\", lw=1.5)\n",
    "coef_format = \"{{:<{}}}\".format(mean_df.index[:-1].map(len).max())\n",
    "for i, coef in enumerate(mean_df.index[:-1]):\n",
    "    plt.text(plt.xlim()[0] - 1.2, i * (mean_df.shape[1] + 1) + 0.3,\n",
    "             coef_format.format(coef))\n",
    "plt.yticks(ticks, labels)\n",
    "plt.ylim(0, pos - 1)\n",
    "plt.gca().invert_yaxis()\n",
    "plt.axvline(x=0, c=\"k\", alpha=0.2)\n",
    "plt.grid(axis=\"y\", linestyle=\"--\")\n",
    "plt.xlabel(\"Estimate\");"
   ]
  },
  {
   "cell_type": "markdown",
   "metadata": {},
   "source": [
    "#### Code 6.29"
   ]
  },
  {
   "cell_type": "code",
   "execution_count": 32,
   "metadata": {},
   "outputs": [
    {
     "data": {
      "image/png": "[encoded data removed]",
      "text/plain": [
       "<Figure size 432x288 with 1 Axes>"
      ]
     },
     "metadata": {
      "needs_background": "light"
     },
     "output_type": "display_data"
    }
   ],
   "source": [
    "# compute counterfactual predictions\n",
    "# neocortex from 0.5 to 0.8\n",
    "nc_seq = torch.linspace(start=0.5, end=0.8, steps=30)\n",
    "d_predict = {\n",
    "    \"kcal_per_g\": torch.full((30,), 0),  # empty outcome\n",
    "    \"neocortex\": nc_seq,  # sequence of neocortex\n",
    "    \"log_mass\": torch.full((30,), 4.5).log()  # average mass\n",
    "}\n",
    "pred_m6_14 = m6_14.link(**d_predict)\n",
    "mu = pred_m6_14.mean(0)\n",
    "mu_PI = PI(pred_m6_14, dim=0)\n",
    "\n",
    "# plot it all\n",
    "fig, ax = plt.subplots()\n",
    "ax.plot(d_neocortex.tolist(), d_kcal_per_g.tolist(), \"o\", c=\"royalblue\", fillstyle=\"none\")\n",
    "ax.set_xlabel(\"neocortex\")\n",
    "ax.set_ylabel(\"kcal_per_g\")\n",
    "ax.plot(nc_seq.tolist(), mu.tolist(), \"k--\")\n",
    "ax.plot(nc_seq.tolist(), mu_PI[0].tolist(), \"k--\")\n",
    "ax.plot(nc_seq.tolist(), mu_PI[1].tolist(), \"k--\");"
   ]
  },
  {
   "cell_type": "markdown",
   "metadata": {},
   "source": [
    "#### Code 6.30"
   ]
  },
  {
   "cell_type": "code",
   "execution_count": 33,
   "metadata": {},
   "outputs": [
    {
     "data": {
      "image/png": "[encoded data removed]",
      "text/plain": [
       "<Figure size 432x288 with 1 Axes>"
      ]
     },
     "execution_count": 33,
     "metadata": {},
     "output_type": "execute_result"
    }
   ],
   "source": [
    "milk_ensemble = ensemble(d_predict, m6_11, m6_12, m6_13, m6_14)\n",
    "mu = milk_ensemble[\"link\"].mean(0)\n",
    "mu_PI = PI(milk_ensemble[\"link\"], dim=0)\n",
    "ax.plot(nc_seq.tolist(), mu.tolist(), \"k\")\n",
    "ax.fill_between(nc_seq, mu_PI[0], mu_PI[1], color=\"k\", alpha=0.15)\n",
    "fig"
   ]
  },
  {
   "cell_type": "markdown",
   "metadata": {},
   "source": [
    "#### Code 6.31"
   ]
  },
  {
   "cell_type": "code",
   "execution_count": 34,
   "metadata": {},
   "outputs": [],
   "source": [
    "howell1 = pd.read_csv(\"../data/Howell1.csv\", sep=\";\")\n",
    "d = howell1\n",
    "d[\"age\"] = (d[\"age\"] - d[\"age\"].mean()) / d[\"age\"].std()\n",
    "seed = 1000\n",
    "i = pd.Series(range(d.shape[0])).sample(n=d.shape[0] // 2, random_state=seed)\n",
    "d1 = d.iloc[i]\n",
    "d2 = d.drop(index=i)"
   ]
  }
 ],
 "metadata": {
  "anaconda-cloud": {},
  "kernelspec": {
   "display_name": "Python 3",
   "language": "python",
   "name": "python3"
  },
  "language_info": {
   "codemirror_mode": {
    "name": "ipython",
    "version": 3
   },
   "file_extension": ".py",
   "mimetype": "text/x-python",
   "name": "python",
   "nbconvert_exporter": "python",
   "pygments_lexer": "ipython3",
   "version": "3.6.6"
  }
 },
 "nbformat": 4,
 "nbformat_minor": 2
}
