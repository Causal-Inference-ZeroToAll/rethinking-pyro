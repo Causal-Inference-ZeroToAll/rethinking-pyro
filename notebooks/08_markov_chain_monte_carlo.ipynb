{
 "cells": [
  {
   "cell_type": "code",
   "execution_count": 1,
   "metadata": {},
   "outputs": [],
   "source": [
    "%matplotlib inline\n",
    "import math\n",
    "import matplotlib.pyplot as plt\n",
    "import pandas as pd\n",
    "import torch\n",
    "\n",
    "import pyro\n",
    "import pyro.distributions as dist\n",
    "\n",
    "from rethinking import MAP\n",
    "\n",
    "plt.rcParams[\"axes.labelsize\"] = \"large\"\n",
    "plt.rcParams[\"lines.linewidth\"] = 1\n",
    "pyro.enable_validation()\n",
    "pyro.set_rng_seed(0)"
   ]
  },
  {
   "cell_type": "markdown",
   "metadata": {},
   "source": [
    "#### Code 8.1"
   ]
  },
  {
   "cell_type": "code",
   "execution_count": 2,
   "metadata": {},
   "outputs": [],
   "source": [
    "num_weeks = int(1e5)\n",
    "positions = torch.tensor(0).repeat(num_weeks)\n",
    "current = 9\n",
    "for i in range(num_weeks):\n",
    "    # record current position\n",
    "    positions[i] = current\n",
    "\n",
    "    # flip coin to generate proposal\n",
    "    sample = torch.multinomial(torch.ones(2), num_samples=1)\n",
    "    proposal = current + torch.tensor([-1, 1])[sample].item()\n",
    "    # now make sure he loops around the archipelago\n",
    "    if proposal < 0:\n",
    "        proposal = 9\n",
    "    if proposal > 9:\n",
    "        proposal = 0\n",
    "    \n",
    "    # move?\n",
    "    prob_move = (proposal + 1) / (current + 1)\n",
    "    current = proposal if torch.rand(1) < prob_move else current"
   ]
  },
  {
   "cell_type": "markdown",
   "metadata": {},
   "source": [
    "#### Code 8.2"
   ]
  },
  {
   "cell_type": "code",
   "execution_count": 3,
   "metadata": {},
   "outputs": [],
   "source": [
    "rugged = pd.read_csv(\"../data/rugged.csv\", sep=\";\")\n",
    "d = rugged\n",
    "d[\"log_gdp\"] = d[\"rgdppc_2000\"].apply(math.log)\n",
    "dd = d[d[\"rgdppc_2000\"].notnull()]\n",
    "dd_rugged = torch.tensor(dd[\"rugged\"].values, dtype=torch.float)\n",
    "dd_cont_africa = torch.tensor(dd[\"cont_africa\"].values, dtype=torch.float)\n",
    "dd_log_gdp = torch.tensor(dd[\"log_gdp\"].values, dtype=torch.float)"
   ]
  },
  {
   "cell_type": "markdown",
   "metadata": {},
   "source": [
    "#### Code 8.3"
   ]
  },
  {
   "cell_type": "code",
   "execution_count": 4,
   "metadata": {},
   "outputs": [
    {
     "data": {
      "text/html": [
       "<div>\n",
       "<style scoped>\n",
       "    .dataframe tbody tr th:only-of-type {\n",
       "        vertical-align: middle;\n",
       "    }\n",
       "\n",
       "    .dataframe tbody tr th {\n",
       "        vertical-align: top;\n",
       "    }\n",
       "\n",
       "    .dataframe thead th {\n",
       "        text-align: right;\n",
       "    }\n",
       "</style>\n",
       "<table border=\"1\" class=\"dataframe\">\n",
       "  <thead>\n",
       "    <tr style=\"text-align: right;\">\n",
       "      <th></th>\n",
       "      <th>Mean</th>\n",
       "      <th>StdDev</th>\n",
       "      <th>5.5%</th>\n",
       "      <th>94.5%</th>\n",
       "    </tr>\n",
       "  </thead>\n",
       "  <tbody>\n",
       "    <tr>\n",
       "      <th>a</th>\n",
       "      <td>9.22</td>\n",
       "      <td>0.14</td>\n",
       "      <td>9.00</td>\n",
       "      <td>9.44</td>\n",
       "    </tr>\n",
       "    <tr>\n",
       "      <th>bR</th>\n",
       "      <td>-0.20</td>\n",
       "      <td>0.08</td>\n",
       "      <td>-0.32</td>\n",
       "      <td>-0.08</td>\n",
       "    </tr>\n",
       "    <tr>\n",
       "      <th>bA</th>\n",
       "      <td>-1.95</td>\n",
       "      <td>0.22</td>\n",
       "      <td>-2.31</td>\n",
       "      <td>-1.59</td>\n",
       "    </tr>\n",
       "    <tr>\n",
       "      <th>bAR</th>\n",
       "      <td>0.39</td>\n",
       "      <td>0.13</td>\n",
       "      <td>0.19</td>\n",
       "      <td>0.60</td>\n",
       "    </tr>\n",
       "    <tr>\n",
       "      <th>sigma</th>\n",
       "      <td>0.93</td>\n",
       "      <td>0.05</td>\n",
       "      <td>0.85</td>\n",
       "      <td>1.01</td>\n",
       "    </tr>\n",
       "  </tbody>\n",
       "</table>\n",
       "</div>"
      ],
      "text/plain": [
       "       Mean  StdDev  5.5%  94.5%\n",
       "a      9.22    0.14  9.00   9.44\n",
       "bR    -0.20    0.08 -0.32  -0.08\n",
       "bA    -1.95    0.22 -2.31  -1.59\n",
       "bAR    0.39    0.13  0.19   0.60\n",
       "sigma  0.93    0.05  0.85   1.01"
      ]
     },
     "execution_count": 4,
     "metadata": {},
     "output_type": "execute_result"
    }
   ],
   "source": [
    "def m8_1_model(rugged, cont_africa, log_gdp):\n",
    "    a = pyro.sample(\"a\", dist.Normal(0, 100))\n",
    "    bR = pyro.sample(\"bR\", dist.Normal(0, 10))\n",
    "    bA = pyro.sample(\"bA\", dist.Normal(0, 10))\n",
    "    bAR = pyro.sample(\"bAR\", dist.Normal(0, 10))\n",
    "    mu = a + bR * rugged + bA * cont_africa + bAR * rugged * cont_africa\n",
    "    sigma = pyro.sample(\"sigma\", dist.Uniform(0, 10))\n",
    "    with pyro.plate(\"plate\"):\n",
    "        pyro.sample(\"log_gdp\", dist.Normal(mu, sigma), obs=log_gdp)\n",
    "\n",
    "pyro.set_rng_seed(1)\n",
    "m8_1 = MAP(\"m8.1\", m8_1_model, rugged=dd_rugged,\n",
    "           cont_africa=dd_cont_africa, log_gdp=dd_log_gdp)\n",
    "m8_1.fit()\n",
    "m8_1.precis()"
   ]
  },
  {
   "cell_type": "markdown",
   "metadata": {},
   "source": [
    "#### Code 8.4"
   ]
  },
  {
   "cell_type": "code",
   "execution_count": 5,
   "metadata": {},
   "outputs": [
    {
     "name": "stdout",
     "output_type": "stream",
     "text": [
      "<class 'pandas.core.frame.DataFrame'>\n",
      "Int64Index: 170 entries, 2 to 233\n",
      "Data columns (total 3 columns):\n",
      "log_gdp        170 non-null float64\n",
      "rugged         170 non-null float64\n",
      "cont_africa    170 non-null int64\n",
      "dtypes: float64(2), int64(1)\n",
      "memory usage: 5.3 KB\n"
     ]
    },
    {
     "data": {
      "text/html": [
       "<div>\n",
       "<style scoped>\n",
       "    .dataframe tbody tr th:only-of-type {\n",
       "        vertical-align: middle;\n",
       "    }\n",
       "\n",
       "    .dataframe tbody tr th {\n",
       "        vertical-align: top;\n",
       "    }\n",
       "\n",
       "    .dataframe thead th {\n",
       "        text-align: right;\n",
       "    }\n",
       "</style>\n",
       "<table border=\"1\" class=\"dataframe\">\n",
       "  <thead>\n",
       "    <tr style=\"text-align: right;\">\n",
       "      <th></th>\n",
       "      <th>log_gdp</th>\n",
       "      <th>rugged</th>\n",
       "      <th>cont_africa</th>\n",
       "    </tr>\n",
       "  </thead>\n",
       "  <tbody>\n",
       "    <tr>\n",
       "      <th>2</th>\n",
       "      <td>7.492609</td>\n",
       "      <td>0.858</td>\n",
       "      <td>1</td>\n",
       "    </tr>\n",
       "    <tr>\n",
       "      <th>4</th>\n",
       "      <td>8.216929</td>\n",
       "      <td>3.427</td>\n",
       "      <td>0</td>\n",
       "    </tr>\n",
       "    <tr>\n",
       "      <th>7</th>\n",
       "      <td>9.933263</td>\n",
       "      <td>0.769</td>\n",
       "      <td>0</td>\n",
       "    </tr>\n",
       "    <tr>\n",
       "      <th>8</th>\n",
       "      <td>9.407032</td>\n",
       "      <td>0.775</td>\n",
       "      <td>0</td>\n",
       "    </tr>\n",
       "    <tr>\n",
       "      <th>9</th>\n",
       "      <td>7.792343</td>\n",
       "      <td>2.688</td>\n",
       "      <td>0</td>\n",
       "    </tr>\n",
       "  </tbody>\n",
       "</table>\n",
       "</div>"
      ],
      "text/plain": [
       "    log_gdp  rugged  cont_africa\n",
       "2  7.492609   0.858            1\n",
       "4  8.216929   3.427            0\n",
       "7  9.933263   0.769            0\n",
       "8  9.407032   0.775            0\n",
       "9  7.792343   2.688            0"
      ]
     },
     "execution_count": 5,
     "metadata": {},
     "output_type": "execute_result"
    }
   ],
   "source": [
    "dd_trim = dd[[\"log_gdp\", \"rugged\", \"cont_africa\"]]\n",
    "dd_trim.info()\n",
    "dd_trim.head()"
   ]
  },
  {
   "cell_type": "markdown",
   "metadata": {},
   "source": [
    "#### Code 8.5"
   ]
  }
 ],
 "metadata": {
  "kernelspec": {
   "display_name": "Python 3",
   "language": "python",
   "name": "python3"
  },
  "language_info": {
   "codemirror_mode": {
    "name": "ipython",
    "version": 3
   },
   "file_extension": ".py",
   "mimetype": "text/x-python",
   "name": "python",
   "nbconvert_exporter": "python",
   "pygments_lexer": "ipython3",
   "version": "3.6.6"
  }
 },
 "nbformat": 4,
 "nbformat_minor": 2
}
